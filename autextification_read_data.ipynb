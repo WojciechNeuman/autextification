{
 "cells": [
  {
   "cell_type": "markdown",
   "id": "62cea1e9",
   "metadata": {},
   "source": [
    "## AuTextification 2024\n",
    "### Subtask 1"
   ]
  },
  {
   "cell_type": "code",
   "execution_count": 1,
   "id": "d154a9d3",
   "metadata": {},
   "outputs": [
    {
     "name": "stderr",
     "output_type": "stream",
     "text": [
      "C:\\Users\\34686\\Downloads\\Anaconda\\lib\\site-packages\\numpy\\_distributor_init.py:30: UserWarning: loaded more than 1 DLL from .libs:\n",
      "C:\\Users\\34686\\Downloads\\Anaconda\\lib\\site-packages\\numpy\\.libs\\libopenblas.4SP5SUA7CBGXUEOC35YP2ASOICYYEQZZ.gfortran-win_amd64.dll\n",
      "C:\\Users\\34686\\Downloads\\Anaconda\\lib\\site-packages\\numpy\\.libs\\libopenblas64__v0.3.21-gcc_10_3_0.dll\n",
      "  warnings.warn(\"loaded more than 1 DLL from .libs:\"\n"
     ]
    }
   ],
   "source": [
    "import pandas as pd\n",
    "import json\n",
    "\n",
    "input_dir = \"./data_24/train/subtask_1/train.jsonl\"\n",
    "\n",
    "data = []\n",
    "\n",
    "with open(input_dir, 'r') as f:\n",
    "    for line in f:\n",
    "        obj = json.loads(line)\n",
    "        data.append(obj)\n",
    "\n",
    "df1 = pd.DataFrame(data)\n"
   ]
  },
  {
   "cell_type": "code",
   "execution_count": 2,
   "id": "bc07aab4",
   "metadata": {},
   "outputs": [
    {
     "data": {
      "text/html": [
       "<div>\n",
       "<style scoped>\n",
       "    .dataframe tbody tr th:only-of-type {\n",
       "        vertical-align: middle;\n",
       "    }\n",
       "\n",
       "    .dataframe tbody tr th {\n",
       "        vertical-align: top;\n",
       "    }\n",
       "\n",
       "    .dataframe thead th {\n",
       "        text-align: right;\n",
       "    }\n",
       "</style>\n",
       "<table border=\"1\" class=\"dataframe\">\n",
       "  <thead>\n",
       "    <tr style=\"text-align: right;\">\n",
       "      <th></th>\n",
       "      <th>id</th>\n",
       "      <th>text</th>\n",
       "      <th>label</th>\n",
       "    </tr>\n",
       "  </thead>\n",
       "  <tbody>\n",
       "    <tr>\n",
       "      <th>0</th>\n",
       "      <td>15442</td>\n",
       "      <td>Es un tribunal de suprema instanza que forma p...</td>\n",
       "      <td>generated</td>\n",
       "    </tr>\n",
       "    <tr>\n",
       "      <th>1</th>\n",
       "      <td>26409</td>\n",
       "      <td>Aixó de tindrer la platgeta tant prou era un p...</td>\n",
       "      <td>human</td>\n",
       "    </tr>\n",
       "    <tr>\n",
       "      <th>2</th>\n",
       "      <td>12777</td>\n",
       "      <td>Doug mcadam es un científico estadista estadou...</td>\n",
       "      <td>generated</td>\n",
       "    </tr>\n",
       "    <tr>\n",
       "      <th>3</th>\n",
       "      <td>63467</td>\n",
       "      <td>El president de la generalitat, carles puigdem...</td>\n",
       "      <td>generated</td>\n",
       "    </tr>\n",
       "    <tr>\n",
       "      <th>4</th>\n",
       "      <td>41050</td>\n",
       "      <td>Traídas de francia, tan estrafalarias que una ...</td>\n",
       "      <td>generated</td>\n",
       "    </tr>\n",
       "  </tbody>\n",
       "</table>\n",
       "</div>"
      ],
      "text/plain": [
       "      id                                               text      label\n",
       "0  15442  Es un tribunal de suprema instanza que forma p...  generated\n",
       "1  26409  Aixó de tindrer la platgeta tant prou era un p...      human\n",
       "2  12777  Doug mcadam es un científico estadista estadou...  generated\n",
       "3  63467  El president de la generalitat, carles puigdem...  generated\n",
       "4  41050  Traídas de francia, tan estrafalarias que una ...  generated"
      ]
     },
     "execution_count": 2,
     "metadata": {},
     "output_type": "execute_result"
    }
   ],
   "source": [
    "df1.head()"
   ]
  },
  {
   "cell_type": "code",
   "execution_count": 7,
   "id": "13e2ad89",
   "metadata": {},
   "outputs": [],
   "source": [
    "# df1.to_csv('subtask1.csv')"
   ]
  },
  {
   "cell_type": "markdown",
   "id": "ec3298c1",
   "metadata": {},
   "source": [
    "### Subtask 2"
   ]
  },
  {
   "cell_type": "code",
   "execution_count": 3,
   "id": "be3d6a22",
   "metadata": {},
   "outputs": [],
   "source": [
    "import pandas as pd\n",
    "import json\n",
    "\n",
    "input_dir = \"./data_24/train/subtask_2/train.jsonl\"\n",
    "\n",
    "data = []\n",
    "\n",
    "with open(input_dir, 'r') as f:\n",
    "    for line in f:\n",
    "        obj = json.loads(line)\n",
    "        data.append(obj)\n",
    "\n",
    "df2 = pd.DataFrame(data)\n"
   ]
  },
  {
   "cell_type": "code",
   "execution_count": 4,
   "id": "b29d3f65",
   "metadata": {},
   "outputs": [
    {
     "data": {
      "text/html": [
       "<div>\n",
       "<style scoped>\n",
       "    .dataframe tbody tr th:only-of-type {\n",
       "        vertical-align: middle;\n",
       "    }\n",
       "\n",
       "    .dataframe tbody tr th {\n",
       "        vertical-align: top;\n",
       "    }\n",
       "\n",
       "    .dataframe thead th {\n",
       "        text-align: right;\n",
       "    }\n",
       "</style>\n",
       "<table border=\"1\" class=\"dataframe\">\n",
       "  <thead>\n",
       "    <tr style=\"text-align: right;\">\n",
       "      <th></th>\n",
       "      <th>id</th>\n",
       "      <th>text</th>\n",
       "      <th>label</th>\n",
       "    </tr>\n",
       "  </thead>\n",
       "  <tbody>\n",
       "    <tr>\n",
       "      <th>0</th>\n",
       "      <td>15442</td>\n",
       "      <td>Es un tribunal de suprema instanza que forma p...</td>\n",
       "      <td>B</td>\n",
       "    </tr>\n",
       "    <tr>\n",
       "      <th>1</th>\n",
       "      <td>12777</td>\n",
       "      <td>Doug mcadam es un científico estadista estadou...</td>\n",
       "      <td>B</td>\n",
       "    </tr>\n",
       "    <tr>\n",
       "      <th>2</th>\n",
       "      <td>63467</td>\n",
       "      <td>El president de la generalitat, carles puigdem...</td>\n",
       "      <td>D</td>\n",
       "    </tr>\n",
       "    <tr>\n",
       "      <th>3</th>\n",
       "      <td>41050</td>\n",
       "      <td>Traídas de francia, tan estrafalarias que una ...</td>\n",
       "      <td>C</td>\n",
       "    </tr>\n",
       "    <tr>\n",
       "      <th>4</th>\n",
       "      <td>91814</td>\n",
       "      <td>A saída trives – baiona será ás 8 30h da mañá ...</td>\n",
       "      <td>C</td>\n",
       "    </tr>\n",
       "  </tbody>\n",
       "</table>\n",
       "</div>"
      ],
      "text/plain": [
       "      id                                               text label\n",
       "0  15442  Es un tribunal de suprema instanza que forma p...     B\n",
       "1  12777  Doug mcadam es un científico estadista estadou...     B\n",
       "2  63467  El president de la generalitat, carles puigdem...     D\n",
       "3  41050  Traídas de francia, tan estrafalarias que una ...     C\n",
       "4  91814  A saída trives – baiona será ás 8 30h da mañá ...     C"
      ]
     },
     "execution_count": 4,
     "metadata": {},
     "output_type": "execute_result"
    }
   ],
   "source": [
    "df2.head()"
   ]
  },
  {
   "cell_type": "code",
   "execution_count": 8,
   "id": "bd9d4bfe",
   "metadata": {},
   "outputs": [],
   "source": [
    "# df2.to_csv('subtask2.csv')"
   ]
  },
  {
   "cell_type": "code",
   "execution_count": null,
   "id": "01202dc0",
   "metadata": {},
   "outputs": [],
   "source": []
  }
 ],
 "metadata": {
  "kernelspec": {
   "display_name": "Python 3",
   "language": "python",
   "name": "python3"
  },
  "language_info": {
   "codemirror_mode": {
    "name": "ipython",
    "version": 3
   },
   "file_extension": ".py",
   "mimetype": "text/x-python",
   "name": "python",
   "nbconvert_exporter": "python",
   "pygments_lexer": "ipython3",
   "version": "3.8.8"
  }
 },
 "nbformat": 4,
 "nbformat_minor": 5
}
