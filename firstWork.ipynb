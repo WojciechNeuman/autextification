{
 "cells": [
  {
   "cell_type": "code",
   "execution_count": 1,
   "id": "4c65721d-6953-4c3a-9065-3e5c38b9f5d3",
   "metadata": {},
   "outputs": [],
   "source": [
    "import pandas as pd\n",
    "import numpy as np\n",
    "import matplotlib.pyplot as plt\n",
    "import seaborn as sns\n",
    "from sklearn.feature_extraction.text import CountVectorizer\n",
    "\n",
    "import warnings\n",
    "\n",
    "# Suppress FutureWarning related to is_sparse\n",
    "warnings.filterwarnings(\"ignore\", category=FutureWarning)"
   ]
  },
  {
   "cell_type": "code",
   "execution_count": 2,
   "id": "c5267cfe-5c31-4375-b809-96eefd7cb245",
   "metadata": {},
   "outputs": [
    {
     "data": {
      "text/html": [
       "<div>\n",
       "<style scoped>\n",
       "    .dataframe tbody tr th:only-of-type {\n",
       "        vertical-align: middle;\n",
       "    }\n",
       "\n",
       "    .dataframe tbody tr th {\n",
       "        vertical-align: top;\n",
       "    }\n",
       "\n",
       "    .dataframe thead th {\n",
       "        text-align: right;\n",
       "    }\n",
       "</style>\n",
       "<table border=\"1\" class=\"dataframe\">\n",
       "  <thead>\n",
       "    <tr style=\"text-align: right;\">\n",
       "      <th></th>\n",
       "      <th>Unnamed: 0</th>\n",
       "      <th>id</th>\n",
       "      <th>prompt</th>\n",
       "      <th>text</th>\n",
       "      <th>label</th>\n",
       "      <th>model</th>\n",
       "      <th>domain</th>\n",
       "    </tr>\n",
       "  </thead>\n",
       "  <tbody>\n",
       "    <tr>\n",
       "      <th>0</th>\n",
       "      <td>0</td>\n",
       "      <td>12322</td>\n",
       "      <td>you need to stop the</td>\n",
       "      <td>you need to stop the engine and wait until it ...</td>\n",
       "      <td>generated</td>\n",
       "      <td>B</td>\n",
       "      <td>tweets</td>\n",
       "    </tr>\n",
       "    <tr>\n",
       "      <th>1</th>\n",
       "      <td>1</td>\n",
       "      <td>1682</td>\n",
       "      <td>Article 11. On the basis of the information co...</td>\n",
       "      <td>The Commission shall publish the report; an in...</td>\n",
       "      <td>generated</td>\n",
       "      <td>C</td>\n",
       "      <td>legal</td>\n",
       "    </tr>\n",
       "    <tr>\n",
       "      <th>2</th>\n",
       "      <td>2</td>\n",
       "      <td>22592</td>\n",
       "      <td>I have not been tweeting</td>\n",
       "      <td>I have not been tweeting a lot lately, but I d...</td>\n",
       "      <td>generated</td>\n",
       "      <td>D</td>\n",
       "      <td>tweets</td>\n",
       "    </tr>\n",
       "    <tr>\n",
       "      <th>3</th>\n",
       "      <td>3</td>\n",
       "      <td>17390</td>\n",
       "      <td>NO-PROMPT</td>\n",
       "      <td>I pass my exam and really thankgod for that bu...</td>\n",
       "      <td>human</td>\n",
       "      <td>NO-MODEL</td>\n",
       "      <td>tweets</td>\n",
       "    </tr>\n",
       "    <tr>\n",
       "      <th>4</th>\n",
       "      <td>4</td>\n",
       "      <td>30453</td>\n",
       "      <td>NO-PROMPT</td>\n",
       "      <td>The template will have 3 parts: a mustache sha...</td>\n",
       "      <td>human</td>\n",
       "      <td>NO-MODEL</td>\n",
       "      <td>wiki</td>\n",
       "    </tr>\n",
       "  </tbody>\n",
       "</table>\n",
       "</div>"
      ],
      "text/plain": [
       "   Unnamed: 0     id                                             prompt  \\\n",
       "0           0  12322                               you need to stop the   \n",
       "1           1   1682  Article 11. On the basis of the information co...   \n",
       "2           2  22592                           I have not been tweeting   \n",
       "3           3  17390                                          NO-PROMPT   \n",
       "4           4  30453                                          NO-PROMPT   \n",
       "\n",
       "                                                text      label     model  \\\n",
       "0  you need to stop the engine and wait until it ...  generated         B   \n",
       "1  The Commission shall publish the report; an in...  generated         C   \n",
       "2  I have not been tweeting a lot lately, but I d...  generated         D   \n",
       "3  I pass my exam and really thankgod for that bu...      human  NO-MODEL   \n",
       "4  The template will have 3 parts: a mustache sha...      human  NO-MODEL   \n",
       "\n",
       "   domain  \n",
       "0  tweets  \n",
       "1   legal  \n",
       "2  tweets  \n",
       "3  tweets  \n",
       "4    wiki  "
      ]
     },
     "execution_count": 2,
     "metadata": {},
     "output_type": "execute_result"
    }
   ],
   "source": [
    "train_1 = pd.read_csv('./data/train/subtask_1/en/train.tsv', sep='\\t')\n",
    "test_1 = pd.read_csv('./data/test/subtask_1/en/test.tsv', sep='\\t')\n",
    "\n",
    "train_1.head()"
   ]
  },
  {
   "cell_type": "code",
   "execution_count": 3,
   "id": "52e8a9f2-5bf4-4f5a-b155-657a695b8b58",
   "metadata": {},
   "outputs": [],
   "source": [
    "import string\n",
    "from nltk.corpus import stopwords\n",
    "\n",
    "def text_process(mess):\n",
    "    \"\"\"\n",
    "    Takes in a string of text, then performs the following:\n",
    "    1. Remove all punctuation\n",
    "    2. Remove all stopwords\n",
    "    3. Returns a list of the cleaned text\n",
    "    \"\"\"\n",
    "    STOPWORDS = set(stopwords.words('english'))\n",
    "    # STOPWORDS = stopwords.words('english') + ['u', 'ü', 'ur', '4', '2', 'im', 'dont', 'doin', 'ure']\n",
    "    # Check characters to see if they are in punctuation\n",
    "    nopunc = [char for char in mess if char not in string.punctuation]\n",
    "\n",
    "    # Join the characters again to form the string.\n",
    "    nopunc = ''.join(nopunc)\n",
    "    \n",
    "    # Now just remove any stopwords\n",
    "    return ' '.join([word for word in nopunc.split() if word.lower() not in STOPWORDS])\n",
    "\n",
    "# import nltk \n",
    "# nltk.download('stopwords') # # -> do this in case of 'Resource stopwords not found.'\n",
    "\n",
    "\n",
    "def preprocessing(df):\n",
    "    # creating essential columns\n",
    "    df = df[['text', 'label']]\n",
    "    df['label_num'] = df['label'].map({'human': 0, 'generated': 1})\n",
    "    df['message_len'] = df['text'].apply(len)\n",
    "\n",
    "    # processing text\n",
    "    df['clean_text'] = df['text'].apply(text_process)\n",
    "\n",
    "    return df\n",
    "    "
   ]
  },
  {
   "cell_type": "code",
   "execution_count": 4,
   "id": "344eabf4-e905-4ba1-8f03-1db489e72b4e",
   "metadata": {},
   "outputs": [
    {
     "name": "stderr",
     "output_type": "stream",
     "text": [
      "/var/folders/n2/wzhjvsf17gdbklls9d48pdl80000gn/T/ipykernel_46467/823520199.py:29: SettingWithCopyWarning: \n",
      "A value is trying to be set on a copy of a slice from a DataFrame.\n",
      "Try using .loc[row_indexer,col_indexer] = value instead\n",
      "\n",
      "See the caveats in the documentation: https://pandas.pydata.org/pandas-docs/stable/user_guide/indexing.html#returning-a-view-versus-a-copy\n",
      "  df['label_num'] = df['label'].map({'human': 0, 'generated': 1})\n",
      "/var/folders/n2/wzhjvsf17gdbklls9d48pdl80000gn/T/ipykernel_46467/823520199.py:30: SettingWithCopyWarning: \n",
      "A value is trying to be set on a copy of a slice from a DataFrame.\n",
      "Try using .loc[row_indexer,col_indexer] = value instead\n",
      "\n",
      "See the caveats in the documentation: https://pandas.pydata.org/pandas-docs/stable/user_guide/indexing.html#returning-a-view-versus-a-copy\n",
      "  df['message_len'] = df['text'].apply(len)\n",
      "/var/folders/n2/wzhjvsf17gdbklls9d48pdl80000gn/T/ipykernel_46467/823520199.py:33: SettingWithCopyWarning: \n",
      "A value is trying to be set on a copy of a slice from a DataFrame.\n",
      "Try using .loc[row_indexer,col_indexer] = value instead\n",
      "\n",
      "See the caveats in the documentation: https://pandas.pydata.org/pandas-docs/stable/user_guide/indexing.html#returning-a-view-versus-a-copy\n",
      "  df['clean_text'] = df['text'].apply(text_process)\n",
      "/var/folders/n2/wzhjvsf17gdbklls9d48pdl80000gn/T/ipykernel_46467/823520199.py:29: SettingWithCopyWarning: \n",
      "A value is trying to be set on a copy of a slice from a DataFrame.\n",
      "Try using .loc[row_indexer,col_indexer] = value instead\n",
      "\n",
      "See the caveats in the documentation: https://pandas.pydata.org/pandas-docs/stable/user_guide/indexing.html#returning-a-view-versus-a-copy\n",
      "  df['label_num'] = df['label'].map({'human': 0, 'generated': 1})\n",
      "/var/folders/n2/wzhjvsf17gdbklls9d48pdl80000gn/T/ipykernel_46467/823520199.py:30: SettingWithCopyWarning: \n",
      "A value is trying to be set on a copy of a slice from a DataFrame.\n",
      "Try using .loc[row_indexer,col_indexer] = value instead\n",
      "\n",
      "See the caveats in the documentation: https://pandas.pydata.org/pandas-docs/stable/user_guide/indexing.html#returning-a-view-versus-a-copy\n",
      "  df['message_len'] = df['text'].apply(len)\n",
      "/var/folders/n2/wzhjvsf17gdbklls9d48pdl80000gn/T/ipykernel_46467/823520199.py:33: SettingWithCopyWarning: \n",
      "A value is trying to be set on a copy of a slice from a DataFrame.\n",
      "Try using .loc[row_indexer,col_indexer] = value instead\n",
      "\n",
      "See the caveats in the documentation: https://pandas.pydata.org/pandas-docs/stable/user_guide/indexing.html#returning-a-view-versus-a-copy\n",
      "  df['clean_text'] = df['text'].apply(text_process)\n"
     ]
    }
   ],
   "source": [
    "train1 = preprocessing(train_1)\n",
    "test1 = preprocessing(test_1)"
   ]
  },
  {
   "cell_type": "code",
   "execution_count": 5,
   "id": "b24952a9-4e3a-455f-b186-349bb1e52f4b",
   "metadata": {},
   "outputs": [
    {
     "data": {
      "text/plain": [
       "Text(0.5, 0, 'Message Length')"
      ]
     },
     "execution_count": 5,
     "metadata": {},
     "output_type": "execute_result"
    },
    {
     "data": {
      "image/png": "[encoded data removed]",
      "text/plain": [
       "<Figure size 1200x800 with 1 Axes>"
      ]
     },
     "metadata": {},
     "output_type": "display_data"
    }
   ],
   "source": [
    "plt.figure(figsize=(12, 8))\n",
    "\n",
    "train1[train1.label=='human'].message_len.plot(bins=35, kind='hist', color='blue', \n",
    "                                       label='Human messages', alpha=0.5)\n",
    "train1[train1.label=='generated'].message_len.plot(bins=35, kind='hist', color='red', \n",
    "                                       label='Generated messages', alpha=0.5)\n",
    "plt.legend()\n",
    "plt.xlabel(\"Message Length\")"
   ]
  },
  {
   "cell_type": "code",
   "execution_count": 6,
   "id": "4a5732cb-9e81-4904-9c9f-77743d07eb61",
   "metadata": {},
   "outputs": [
    {
     "name": "stdout",
     "output_type": "stream",
     "text": [
      "[('shall', 10632), ('article', 9568), ('regulation', 9122), ('2', 4488), ('1', 4224), ('member', 4188), ('done', 3964), ('states', 3935), ('force', 3658), ('brussels', 3382), ('enter', 3373), ('day', 2934), ('applicable', 2713), ('binding', 2670), ('decision', 2661), ('directly', 2606), ('entirety', 2546), ('may', 2518), ('european', 2487), ('official', 2221), ('annex', 2218), ('journal', 2158), ('publication', 2108), ('following', 1986), ('make', 1821), ('3', 1820), ('use', 1759), ('get', 1532), ('like', 1523), ('ec', 1476), ('communities', 1470), ('time', 1363), ('also', 1362), ('need', 1359), ('one', 1346), ('apply', 1331), ('4', 1261), ('want', 1234), ('addressed', 1212), ('commission', 1054), ('take', 1039), ('hereby', 1007), ('eec', 990), ('im', 985), ('directive', 955), ('sure', 939), ('dont', 935), ('december', 927), ('work', 911), ('community', 908)]\n"
     ]
    }
   ],
   "source": [
    "from collections import Counter\n",
    "\n",
    "words = train1[train1.label=='human']['clean_text'].apply(lambda x: [word.lower() for word in x.split()])\n",
    "ham_words = Counter()\n",
    "\n",
    "for msg in words:\n",
    "    ham_words.update(msg)\n",
    "    \n",
    "print(ham_words.most_common(50))"
   ]
  },
  {
   "cell_type": "code",
   "execution_count": 7,
   "id": "e93e20f7-6b00-4f12-9528-e466cf7b7f8e",
   "metadata": {},
   "outputs": [
    {
     "name": "stdout",
     "output_type": "stream",
     "text": [
      "[('shall', 5557), ('article', 4762), ('regulation', 3918), ('1', 3516), ('2', 3186), ('may', 2779), ('also', 2474), ('use', 2284), ('3', 2086), ('member', 2025), ('make', 2025), ('commission', 1940), ('one', 1931), ('time', 1684), ('states', 1665), ('get', 1634), ('european', 1583), ('like', 1524), ('need', 1387), ('following', 1374), ('4', 1327), ('want', 1317), ('sure', 1260), ('take', 1258), ('provisions', 1251), ('products', 1221), ('help', 1217), ('council', 1209), ('annex', 1204), ('new', 1167), ('paragraph', 1149), ('used', 1133), ('state', 1125), ('good', 1096), ('accordance', 1072), ('know', 1067), ('way', 1062), ('im', 1009), ('first', 1006), ('apply', 1002), ('decision', 989), ('5', 988), ('it’s', 976), ('community', 967), ('information', 954), ('well', 953), ('using', 953), ('day', 943), ('you’re', 933), ('best', 932)]\n"
     ]
    }
   ],
   "source": [
    "words = train1[train1.label=='generated']['clean_text'].apply(lambda x: [word.lower() for word in x.split()])\n",
    "ham_words = Counter()\n",
    "\n",
    "for msg in words:\n",
    "    ham_words.update(msg)\n",
    "    \n",
    "print(ham_words.most_common(50))"
   ]
  },
  {
   "cell_type": "code",
   "execution_count": 8,
   "id": "a950612f-7eb0-4c60-be40-de3d23c5dce6",
   "metadata": {},
   "outputs": [
    {
     "name": "stdout",
     "output_type": "stream",
     "text": [
      "(33845,)\n",
      "(33845,)\n",
      "(21832,)\n",
      "(21832,)\n",
      "0         need stop engine wait stops would Check safe\n",
      "1    Commission shall publish report interim report...\n",
      "2    tweeting lot lately November really good month...\n",
      "3     pass exam really thankgod idk go shsmy result ah\n",
      "Name: clean_text, dtype: object\n",
      "0    1\n",
      "1    1\n",
      "2    1\n",
      "3    0\n",
      "Name: label_num, dtype: int64\n"
     ]
    },
    {
     "data": {
      "text/html": [
       "<div>\n",
       "<style scoped>\n",
       "    .dataframe tbody tr th:only-of-type {\n",
       "        vertical-align: middle;\n",
       "    }\n",
       "\n",
       "    .dataframe tbody tr th {\n",
       "        vertical-align: top;\n",
       "    }\n",
       "\n",
       "    .dataframe thead th {\n",
       "        text-align: right;\n",
       "    }\n",
       "</style>\n",
       "<table border=\"1\" class=\"dataframe\">\n",
       "  <thead>\n",
       "    <tr style=\"text-align: right;\">\n",
       "      <th></th>\n",
       "      <th>text</th>\n",
       "      <th>label</th>\n",
       "      <th>label_num</th>\n",
       "      <th>message_len</th>\n",
       "      <th>clean_text</th>\n",
       "    </tr>\n",
       "  </thead>\n",
       "  <tbody>\n",
       "    <tr>\n",
       "      <th>0</th>\n",
       "      <td>you need to stop the engine and wait until it ...</td>\n",
       "      <td>generated</td>\n",
       "      <td>1</td>\n",
       "      <td>100</td>\n",
       "      <td>need stop engine wait stops would Check safe</td>\n",
       "    </tr>\n",
       "    <tr>\n",
       "      <th>1</th>\n",
       "      <td>The Commission shall publish the report; an in...</td>\n",
       "      <td>generated</td>\n",
       "      <td>1</td>\n",
       "      <td>571</td>\n",
       "      <td>Commission shall publish report interim report...</td>\n",
       "    </tr>\n",
       "    <tr>\n",
       "      <th>2</th>\n",
       "      <td>I have not been tweeting a lot lately, but I d...</td>\n",
       "      <td>generated</td>\n",
       "      <td>1</td>\n",
       "      <td>100</td>\n",
       "      <td>tweeting lot lately November really good month...</td>\n",
       "    </tr>\n",
       "    <tr>\n",
       "      <th>3</th>\n",
       "      <td>I pass my exam and really thankgod for that bu...</td>\n",
       "      <td>human</td>\n",
       "      <td>0</td>\n",
       "      <td>90</td>\n",
       "      <td>pass exam really thankgod idk go shsmy result ah</td>\n",
       "    </tr>\n",
       "  </tbody>\n",
       "</table>\n",
       "</div>"
      ],
      "text/plain": [
       "                                                text      label  label_num  \\\n",
       "0  you need to stop the engine and wait until it ...  generated          1   \n",
       "1  The Commission shall publish the report; an in...  generated          1   \n",
       "2  I have not been tweeting a lot lately, but I d...  generated          1   \n",
       "3  I pass my exam and really thankgod for that bu...      human          0   \n",
       "\n",
       "   message_len                                         clean_text  \n",
       "0          100       need stop engine wait stops would Check safe  \n",
       "1          571  Commission shall publish report interim report...  \n",
       "2          100  tweeting lot lately November really good month...  \n",
       "3           90   pass exam really thankgod idk go shsmy result ah  "
      ]
     },
     "execution_count": 8,
     "metadata": {},
     "output_type": "execute_result"
    }
   ],
   "source": [
    "from sklearn.model_selection import train_test_split\n",
    "\n",
    "X_train1 = train1['clean_text']\n",
    "y_train1 = train1['label_num']\n",
    "print(X_train1.shape)\n",
    "print(y_train1.shape)\n",
    "\n",
    "X_test1 = test1['clean_text']\n",
    "y_test1 = test1['label_num']\n",
    "\n",
    "print(X_test1.shape)\n",
    "print(y_test1.shape)\n",
    "\n",
    "print(X_train1[:4])\n",
    "print(y_train1[:4])\n",
    "train1[:4]"
   ]
  },
  {
   "cell_type": "code",
   "execution_count": 9,
   "id": "f3aecd75-7b0d-4b4f-93f1-6df0fa6a67e2",
   "metadata": {},
   "outputs": [
    {
     "name": "stdout",
     "output_type": "stream",
     "text": [
      "<class 'scipy.sparse._csr.csr_matrix'> (33845, 48556)\n",
      "<class 'scipy.sparse._csr.csr_matrix'> (21832, 48556)\n"
     ]
    }
   ],
   "source": [
    "from sklearn.feature_extraction.text import CountVectorizer\n",
    "\n",
    "# instantiate the vectorizer\n",
    "vect = CountVectorizer()\n",
    "vect.fit(X_train1)\n",
    "\n",
    "# learn training data vocabulary, then use it to create a document-term matrix\n",
    "X_train1_dtm = vect.transform(X_train1)\n",
    "\n",
    "# equivalently: combine fit and transform into a single step\n",
    "X_train1_dtm = vect.fit_transform(X_train1)\n",
    "\n",
    "\n",
    "# examine the document-term matrix\n",
    "print(type(X_train1_dtm), X_train1_dtm.shape)\n",
    "\n",
    "# transform testing data (using fitted vocabulary) into a document-term matrix\n",
    "X_test1_dtm = vect.transform(X_test1)\n",
    "print(type(X_test1_dtm), X_test1_dtm.shape)"
   ]
  },
  {
   "cell_type": "code",
   "execution_count": 10,
   "id": "be26844c-1d80-4219-946d-8aeaa2d1c941",
   "metadata": {},
   "outputs": [
    {
     "data": {
      "text/plain": [
       "<33845x48556 sparse matrix of type '<class 'numpy.float64'>'\n",
       "\twith 810038 stored elements in Compressed Sparse Row format>"
      ]
     },
     "execution_count": 10,
     "metadata": {},
     "output_type": "execute_result"
    }
   ],
   "source": [
    "from sklearn.feature_extraction.text import TfidfTransformer\n",
    "\n",
    "tfidf_transformer = TfidfTransformer()\n",
    "tfidf_transformer.fit(X_train1_dtm)\n",
    "tfidf_transformer.transform(X_train1_dtm)"
   ]
  },
  {
   "cell_type": "code",
   "execution_count": 11,
   "id": "657b0081-fbaa-4eb4-8348-e9e4dfe6cd9f",
   "metadata": {},
   "outputs": [],
   "source": [
    "# import and instantiate a Multinomial Naive Bayes model\n",
    "from sklearn.naive_bayes import MultinomialNB\n",
    "nb = MultinomialNB()"
   ]
  },
  {
   "cell_type": "code",
   "execution_count": 12,
   "id": "1bec6ae2-11ec-417f-b43b-f1eefff03836",
   "metadata": {},
   "outputs": [
    {
     "name": "stdout",
     "output_type": "stream",
     "text": [
      "CPU times: user 7.56 ms, sys: 1.29 ms, total: 8.85 ms\n",
      "Wall time: 7.45 ms\n"
     ]
    },
    {
     "data": {
      "text/html": [
       "<style>#sk-container-id-1 {color: black;background-color: white;}#sk-container-id-1 pre{padding: 0;}#sk-container-id-1 div.sk-toggleable {background-color: white;}#sk-container-id-1 label.sk-toggleable__label {cursor: pointer;display: block;width: 100%;margin-bottom: 0;padding: 0.3em;box-sizing: border-box;text-align: center;}#sk-container-id-1 label.sk-toggleable__label-arrow:before {content: \"▸\";float: left;margin-right: 0.25em;color: #696969;}#sk-container-id-1 label.sk-toggleable__label-arrow:hover:before {color: black;}#sk-container-id-1 div.sk-estimator:hover label.sk-toggleable__label-arrow:before {color: black;}#sk-container-id-1 div.sk-toggleable__content {max-height: 0;max-width: 0;overflow: hidden;text-align: left;background-color: #f0f8ff;}#sk-container-id-1 div.sk-toggleable__content pre {margin: 0.2em;color: black;border-radius: 0.25em;background-color: #f0f8ff;}#sk-container-id-1 input.sk-toggleable__control:checked~div.sk-toggleable__content {max-height: 200px;max-width: 100%;overflow: auto;}#sk-container-id-1 input.sk-toggleable__control:checked~label.sk-toggleable__label-arrow:before {content: \"▾\";}#sk-container-id-1 div.sk-estimator input.sk-toggleable__control:checked~label.sk-toggleable__label {background-color: #d4ebff;}#sk-container-id-1 div.sk-label input.sk-toggleable__control:checked~label.sk-toggleable__label {background-color: #d4ebff;}#sk-container-id-1 input.sk-hidden--visually {border: 0;clip: rect(1px 1px 1px 1px);clip: rect(1px, 1px, 1px, 1px);height: 1px;margin: -1px;overflow: hidden;padding: 0;position: absolute;width: 1px;}#sk-container-id-1 div.sk-estimator {font-family: monospace;background-color: #f0f8ff;border: 1px dotted black;border-radius: 0.25em;box-sizing: border-box;margin-bottom: 0.5em;}#sk-container-id-1 div.sk-estimator:hover {background-color: #d4ebff;}#sk-container-id-1 div.sk-parallel-item::after {content: \"\";width: 100%;border-bottom: 1px solid gray;flex-grow: 1;}#sk-container-id-1 div.sk-label:hover label.sk-toggleable__label {background-color: #d4ebff;}#sk-container-id-1 div.sk-serial::before {content: \"\";position: absolute;border-left: 1px solid gray;box-sizing: border-box;top: 0;bottom: 0;left: 50%;z-index: 0;}#sk-container-id-1 div.sk-serial {display: flex;flex-direction: column;align-items: center;background-color: white;padding-right: 0.2em;padding-left: 0.2em;position: relative;}#sk-container-id-1 div.sk-item {position: relative;z-index: 1;}#sk-container-id-1 div.sk-parallel {display: flex;align-items: stretch;justify-content: center;background-color: white;position: relative;}#sk-container-id-1 div.sk-item::before, #sk-container-id-1 div.sk-parallel-item::before {content: \"\";position: absolute;border-left: 1px solid gray;box-sizing: border-box;top: 0;bottom: 0;left: 50%;z-index: -1;}#sk-container-id-1 div.sk-parallel-item {display: flex;flex-direction: column;z-index: 1;position: relative;background-color: white;}#sk-container-id-1 div.sk-parallel-item:first-child::after {align-self: flex-end;width: 50%;}#sk-container-id-1 div.sk-parallel-item:last-child::after {align-self: flex-start;width: 50%;}#sk-container-id-1 div.sk-parallel-item:only-child::after {width: 0;}#sk-container-id-1 div.sk-dashed-wrapped {border: 1px dashed gray;margin: 0 0.4em 0.5em 0.4em;box-sizing: border-box;padding-bottom: 0.4em;background-color: white;}#sk-container-id-1 div.sk-label label {font-family: monospace;font-weight: bold;display: inline-block;line-height: 1.2em;}#sk-container-id-1 div.sk-label-container {text-align: center;}#sk-container-id-1 div.sk-container {/* jupyter's `normalize.less` sets `[hidden] { display: none; }` but bootstrap.min.css set `[hidden] { display: none !important; }` so we also need the `!important` here to be able to override the default hidden behavior on the sphinx rendered scikit-learn.org. See: https://github.com/scikit-learn/scikit-learn/issues/21755 */display: inline-block !important;position: relative;}#sk-container-id-1 div.sk-text-repr-fallback {display: none;}</style><div id=\"sk-container-id-1\" class=\"sk-top-container\"><div class=\"sk-text-repr-fallback\"><pre>MultinomialNB()</pre><b>In a Jupyter environment, please rerun this cell to show the HTML representation or trust the notebook. <br />On GitHub, the HTML representation is unable to render, please try loading this page with nbviewer.org.</b></div><div class=\"sk-container\" hidden><div class=\"sk-item\"><div class=\"sk-estimator sk-toggleable\"><input class=\"sk-toggleable__control sk-hidden--visually\" id=\"sk-estimator-id-1\" type=\"checkbox\" checked><label for=\"sk-estimator-id-1\" class=\"sk-toggleable__label sk-toggleable__label-arrow\">MultinomialNB</label><div class=\"sk-toggleable__content\"><pre>MultinomialNB()</pre></div></div></div></div></div>"
      ],
      "text/plain": [
       "MultinomialNB()"
      ]
     },
     "execution_count": 12,
     "metadata": {},
     "output_type": "execute_result"
    }
   ],
   "source": [
    "# train the model using X_train1_dtm (timing it with an IPython \"magic command\")\n",
    "%time nb.fit(X_train1_dtm, y_train1)"
   ]
  },
  {
   "cell_type": "code",
   "execution_count": 13,
   "id": "36f20209-430b-4e2b-bec1-4fe4cc4f9be0",
   "metadata": {},
   "outputs": [
    {
     "name": "stdout",
     "output_type": "stream",
     "text": [
      "=======Accuracy Score===========\n",
      "0.5633931843165995\n",
      "=======Confision Matrix===========\n"
     ]
    },
    {
     "data": {
      "text/plain": [
       "array([[ 1813,  8829],\n",
       "       [  703, 10487]])"
      ]
     },
     "execution_count": 13,
     "metadata": {},
     "output_type": "execute_result"
    }
   ],
   "source": [
    "from sklearn import metrics\n",
    "\n",
    "# make class predictions for X_test_dtm\n",
    "y_pred1_class = nb.predict(X_test1_dtm)\n",
    "\n",
    "# calculate accuracy of class predictions\n",
    "print(\"=======Accuracy Score===========\")\n",
    "print(metrics.accuracy_score(y_test1, y_pred1_class))\n",
    "\n",
    "# print the confusion matrix\n",
    "print(\"=======Confision Matrix===========\")\n",
    "metrics.confusion_matrix(y_test1, y_pred1_class)"
   ]
  },
  {
   "cell_type": "code",
   "execution_count": 14,
   "id": "9f2d079f-2b0e-44c4-bc84-5fac7dd5dcd2",
   "metadata": {},
   "outputs": [
    {
     "name": "stdout",
     "output_type": "stream",
     "text": [
      "F1-score for Naive Bayes model: 0.48155533670042583\n"
     ]
    }
   ],
   "source": [
    "from sklearn.metrics import f1_score\n",
    "print(f\"F1-score for Naive Bayes model: {f1_score(y_test1, y_pred1_class, average='macro')}\")"
   ]
  },
  {
   "cell_type": "code",
   "execution_count": 15,
   "id": "b5992ae9-973d-4c39-a661-d73ac81f09ae",
   "metadata": {},
   "outputs": [
    {
     "name": "stdout",
     "output_type": "stream",
     "text": [
      "CPU times: user 25.3 s, sys: 7.13 s, total: 32.5 s\n",
      "Wall time: 3.69 s\n"
     ]
    },
    {
     "data": {
      "text/html": [
       "<style>#sk-container-id-2 {color: black;background-color: white;}#sk-container-id-2 pre{padding: 0;}#sk-container-id-2 div.sk-toggleable {background-color: white;}#sk-container-id-2 label.sk-toggleable__label {cursor: pointer;display: block;width: 100%;margin-bottom: 0;padding: 0.3em;box-sizing: border-box;text-align: center;}#sk-container-id-2 label.sk-toggleable__label-arrow:before {content: \"▸\";float: left;margin-right: 0.25em;color: #696969;}#sk-container-id-2 label.sk-toggleable__label-arrow:hover:before {color: black;}#sk-container-id-2 div.sk-estimator:hover label.sk-toggleable__label-arrow:before {color: black;}#sk-container-id-2 div.sk-toggleable__content {max-height: 0;max-width: 0;overflow: hidden;text-align: left;background-color: #f0f8ff;}#sk-container-id-2 div.sk-toggleable__content pre {margin: 0.2em;color: black;border-radius: 0.25em;background-color: #f0f8ff;}#sk-container-id-2 input.sk-toggleable__control:checked~div.sk-toggleable__content {max-height: 200px;max-width: 100%;overflow: auto;}#sk-container-id-2 input.sk-toggleable__control:checked~label.sk-toggleable__label-arrow:before {content: \"▾\";}#sk-container-id-2 div.sk-estimator input.sk-toggleable__control:checked~label.sk-toggleable__label {background-color: #d4ebff;}#sk-container-id-2 div.sk-label input.sk-toggleable__control:checked~label.sk-toggleable__label {background-color: #d4ebff;}#sk-container-id-2 input.sk-hidden--visually {border: 0;clip: rect(1px 1px 1px 1px);clip: rect(1px, 1px, 1px, 1px);height: 1px;margin: -1px;overflow: hidden;padding: 0;position: absolute;width: 1px;}#sk-container-id-2 div.sk-estimator {font-family: monospace;background-color: #f0f8ff;border: 1px dotted black;border-radius: 0.25em;box-sizing: border-box;margin-bottom: 0.5em;}#sk-container-id-2 div.sk-estimator:hover {background-color: #d4ebff;}#sk-container-id-2 div.sk-parallel-item::after {content: \"\";width: 100%;border-bottom: 1px solid gray;flex-grow: 1;}#sk-container-id-2 div.sk-label:hover label.sk-toggleable__label {background-color: #d4ebff;}#sk-container-id-2 div.sk-serial::before {content: \"\";position: absolute;border-left: 1px solid gray;box-sizing: border-box;top: 0;bottom: 0;left: 50%;z-index: 0;}#sk-container-id-2 div.sk-serial {display: flex;flex-direction: column;align-items: center;background-color: white;padding-right: 0.2em;padding-left: 0.2em;position: relative;}#sk-container-id-2 div.sk-item {position: relative;z-index: 1;}#sk-container-id-2 div.sk-parallel {display: flex;align-items: stretch;justify-content: center;background-color: white;position: relative;}#sk-container-id-2 div.sk-item::before, #sk-container-id-2 div.sk-parallel-item::before {content: \"\";position: absolute;border-left: 1px solid gray;box-sizing: border-box;top: 0;bottom: 0;left: 50%;z-index: -1;}#sk-container-id-2 div.sk-parallel-item {display: flex;flex-direction: column;z-index: 1;position: relative;background-color: white;}#sk-container-id-2 div.sk-parallel-item:first-child::after {align-self: flex-end;width: 50%;}#sk-container-id-2 div.sk-parallel-item:last-child::after {align-self: flex-start;width: 50%;}#sk-container-id-2 div.sk-parallel-item:only-child::after {width: 0;}#sk-container-id-2 div.sk-dashed-wrapped {border: 1px dashed gray;margin: 0 0.4em 0.5em 0.4em;box-sizing: border-box;padding-bottom: 0.4em;background-color: white;}#sk-container-id-2 div.sk-label label {font-family: monospace;font-weight: bold;display: inline-block;line-height: 1.2em;}#sk-container-id-2 div.sk-label-container {text-align: center;}#sk-container-id-2 div.sk-container {/* jupyter's `normalize.less` sets `[hidden] { display: none; }` but bootstrap.min.css set `[hidden] { display: none !important; }` so we also need the `!important` here to be able to override the default hidden behavior on the sphinx rendered scikit-learn.org. See: https://github.com/scikit-learn/scikit-learn/issues/21755 */display: inline-block !important;position: relative;}#sk-container-id-2 div.sk-text-repr-fallback {display: none;}</style><div id=\"sk-container-id-2\" class=\"sk-top-container\"><div class=\"sk-text-repr-fallback\"><pre>LogisticRegression(solver=&#x27;liblinear&#x27;)</pre><b>In a Jupyter environment, please rerun this cell to show the HTML representation or trust the notebook. <br />On GitHub, the HTML representation is unable to render, please try loading this page with nbviewer.org.</b></div><div class=\"sk-container\" hidden><div class=\"sk-item\"><div class=\"sk-estimator sk-toggleable\"><input class=\"sk-toggleable__control sk-hidden--visually\" id=\"sk-estimator-id-2\" type=\"checkbox\" checked><label for=\"sk-estimator-id-2\" class=\"sk-toggleable__label sk-toggleable__label-arrow\">LogisticRegression</label><div class=\"sk-toggleable__content\"><pre>LogisticRegression(solver=&#x27;liblinear&#x27;)</pre></div></div></div></div></div>"
      ],
      "text/plain": [
       "LogisticRegression(solver='liblinear')"
      ]
     },
     "execution_count": 15,
     "metadata": {},
     "output_type": "execute_result"
    }
   ],
   "source": [
    "# import an instantiate a logistic regression model\n",
    "from sklearn.linear_model import LogisticRegression\n",
    "\n",
    "logreg = LogisticRegression(solver='liblinear')\n",
    "\n",
    "# train the model using X_train_dtm\n",
    "%time logreg.fit(X_train1_dtm, y_train1)"
   ]
  },
  {
   "cell_type": "code",
   "execution_count": 16,
   "id": "7a9d8fcd-4dab-4074-8e37-d0a1dfd95a78",
   "metadata": {},
   "outputs": [
    {
     "data": {
      "text/plain": [
       "array([0.93389916, 0.59085667, 0.93184684, ..., 0.81031919, 0.88654021,\n",
       "       0.18314766])"
      ]
     },
     "execution_count": 16,
     "metadata": {},
     "output_type": "execute_result"
    }
   ],
   "source": [
    "# make class predictions for X_test_dtm\n",
    "y_pred1_class = logreg.predict(X_test1_dtm)\n",
    "\n",
    "# calculate predicted probabilities for X_test_dtm (well calibrated)\n",
    "y_pred1_prob = logreg.predict_proba(X_test1_dtm)[:, 1]\n",
    "y_pred1_prob"
   ]
  },
  {
   "cell_type": "code",
   "execution_count": 17,
   "id": "0c6883a7-0319-4d50-954e-8d89b67edf7f",
   "metadata": {},
   "outputs": [
    {
     "name": "stdout",
     "output_type": "stream",
     "text": [
      "=======Accuracy Score===========\n",
      "0.5996702088677172\n",
      "=======Confision Matrix===========\n",
      "[[3829 6813]\n",
      " [1927 9263]]\n",
      "=======ROC AUC Score===========\n",
      "0.6763923283383709\n"
     ]
    }
   ],
   "source": [
    "# calculate accuracy of class predictions\n",
    "print(\"=======Accuracy Score===========\")\n",
    "print(metrics.accuracy_score(y_test1, y_pred1_class))\n",
    "\n",
    "# print the confusion matrix\n",
    "print(\"=======Confision Matrix===========\")\n",
    "print(metrics.confusion_matrix(y_test1, y_pred1_class))\n",
    "\n",
    "# calculate AUC\n",
    "print(\"=======ROC AUC Score===========\")\n",
    "print(metrics.roc_auc_score(y_test1, y_pred1_prob))"
   ]
  },
  {
   "cell_type": "code",
   "execution_count": 18,
   "id": "1c063f48-8c27-4c14-904a-5a5c644b8b22",
   "metadata": {},
   "outputs": [
    {
     "name": "stdout",
     "output_type": "stream",
     "text": [
      "F1-score for Logistic Regression model: 0.5732312185568607\n"
     ]
    }
   ],
   "source": [
    "from sklearn.metrics import f1_score\n",
    "print(f\"F1-score for Logistic Regression model: {f1_score(y_test1, y_pred1_class, average='macro')}\")"
   ]
  },
  {
   "cell_type": "code",
   "execution_count": null,
   "id": "ce1ec80c-0b4b-4e47-853b-ee60a696c7aa",
   "metadata": {},
   "outputs": [],
   "source": []
  }
 ],
 "metadata": {
  "kernelspec": {
   "display_name": "Python 3 (ipykernel)",
   "language": "python",
   "name": "python3"
  },
  "language_info": {
   "codemirror_mode": {
    "name": "ipython",
    "version": 3
   },
   "file_extension": ".py",
   "mimetype": "text/x-python",
   "name": "python",
   "nbconvert_exporter": "python",
   "pygments_lexer": "ipython3",
   "version": "3.10.13"
  }
 },
 "nbformat": 4,
 "nbformat_minor": 5
}
