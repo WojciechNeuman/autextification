{
 "cells": [
  {
   "cell_type": "markdown",
   "id": "bb3c0bf9",
   "metadata": {},
   "source": [
    "# Libraries"
   ]
  },
  {
   "cell_type": "code",
   "execution_count": 1,
   "id": "24a3a125",
   "metadata": {},
   "outputs": [],
   "source": [
    "import pandas as pd\n",
    "import numpy as np\n",
    "import matplotlib.pyplot as plt\n",
    "import seaborn as sns\n",
    "from sklearn.model_selection import train_test_split\n",
    "from py3langid.langid import LanguageIdentifier, MODEL_FILE\n",
    "from sklearn.feature_extraction.text import CountVectorizer\n",
    "from collections import Counter\n",
    "from sklearn import metrics\n",
    "\n",
    "import warnings\n",
    "\n",
    "# Suppress FutureWarning related to is_sparse\n",
    "warnings.filterwarnings(\"ignore\", category=FutureWarning)"
   ]
  },
  {
   "cell_type": "markdown",
   "id": "c6cef286",
   "metadata": {},
   "source": [
    "# Data"
   ]
  },
  {
   "cell_type": "markdown",
   "id": "f718af28",
   "metadata": {},
   "source": [
    "## Original Data"
   ]
  },
  {
   "cell_type": "code",
   "execution_count": 2,
   "id": "84268361",
   "metadata": {},
   "outputs": [
    {
     "data": {
      "text/html": [
       "<div>\n",
       "<style scoped>\n",
       "    .dataframe tbody tr th:only-of-type {\n",
       "        vertical-align: middle;\n",
       "    }\n",
       "\n",
       "    .dataframe tbody tr th {\n",
       "        vertical-align: top;\n",
       "    }\n",
       "\n",
       "    .dataframe thead th {\n",
       "        text-align: right;\n",
       "    }\n",
       "</style>\n",
       "<table border=\"1\" class=\"dataframe\">\n",
       "  <thead>\n",
       "    <tr style=\"text-align: right;\">\n",
       "      <th></th>\n",
       "      <th>id</th>\n",
       "      <th>text</th>\n",
       "      <th>label</th>\n",
       "    </tr>\n",
       "  </thead>\n",
       "  <tbody>\n",
       "    <tr>\n",
       "      <th>0</th>\n",
       "      <td>15442</td>\n",
       "      <td>Es un tribunal de suprema instanza que forma p...</td>\n",
       "      <td>generated</td>\n",
       "    </tr>\n",
       "    <tr>\n",
       "      <th>1</th>\n",
       "      <td>26409</td>\n",
       "      <td>Aixó de tindrer la platgeta tant prou era un p...</td>\n",
       "      <td>human</td>\n",
       "    </tr>\n",
       "    <tr>\n",
       "      <th>2</th>\n",
       "      <td>12777</td>\n",
       "      <td>Doug mcadam es un científico estadista estadou...</td>\n",
       "      <td>generated</td>\n",
       "    </tr>\n",
       "    <tr>\n",
       "      <th>3</th>\n",
       "      <td>63467</td>\n",
       "      <td>El president de la generalitat, carles puigdem...</td>\n",
       "      <td>generated</td>\n",
       "    </tr>\n",
       "    <tr>\n",
       "      <th>4</th>\n",
       "      <td>41050</td>\n",
       "      <td>Traídas de francia, tan estrafalarias que una ...</td>\n",
       "      <td>generated</td>\n",
       "    </tr>\n",
       "  </tbody>\n",
       "</table>\n",
       "</div>"
      ],
      "text/plain": [
       "      id                                               text      label\n",
       "0  15442  Es un tribunal de suprema instanza que forma p...  generated\n",
       "1  26409  Aixó de tindrer la platgeta tant prou era un p...      human\n",
       "2  12777  Doug mcadam es un científico estadista estadou...  generated\n",
       "3  63467  El president de la generalitat, carles puigdem...  generated\n",
       "4  41050  Traídas de francia, tan estrafalarias que una ...  generated"
      ]
     },
     "execution_count": 2,
     "metadata": {},
     "output_type": "execute_result"
    }
   ],
   "source": [
    "train = pd.read_csv('data/competition_2024/subtask1.csv').drop(columns='Unnamed: 0')\n",
    "\n",
    "train.head()"
   ]
  },
  {
   "cell_type": "markdown",
   "id": "f8fddcb1",
   "metadata": {},
   "source": [
    "## Identifying languages"
   ]
  },
  {
   "cell_type": "code",
   "execution_count": 3,
   "id": "a7b1c3a2",
   "metadata": {},
   "outputs": [
    {
     "data": {
      "text/plain": [
       "('ca', -4691.199)"
      ]
     },
     "execution_count": 3,
     "metadata": {},
     "output_type": "execute_result"
    }
   ],
   "source": [
    "identifier = LanguageIdentifier.from_pickled_model(MODEL_FILE)\n",
    "identifier.set_languages(['en', 'es', 'pt', 'gl', 'eu', 'ca'])\n",
    "\n",
    "# English (en)\n",
    "# Spanish (es)\n",
    "# Portuguese (pt)\n",
    "# Galician (gl)\n",
    "# Basque (eu)\n",
    "# Catalan (ca)\n",
    "\n",
    "identifier.classify(train.loc[0, 'text'])"
   ]
  },
  {
   "cell_type": "code",
   "execution_count": 4,
   "id": "b7c31785",
   "metadata": {},
   "outputs": [
    {
     "data": {
      "text/html": [
       "<div>\n",
       "<style scoped>\n",
       "    .dataframe tbody tr th:only-of-type {\n",
       "        vertical-align: middle;\n",
       "    }\n",
       "\n",
       "    .dataframe tbody tr th {\n",
       "        vertical-align: top;\n",
       "    }\n",
       "\n",
       "    .dataframe thead th {\n",
       "        text-align: right;\n",
       "    }\n",
       "</style>\n",
       "<table border=\"1\" class=\"dataframe\">\n",
       "  <thead>\n",
       "    <tr style=\"text-align: right;\">\n",
       "      <th></th>\n",
       "      <th>id</th>\n",
       "      <th>text</th>\n",
       "      <th>label</th>\n",
       "      <th>detected_language</th>\n",
       "    </tr>\n",
       "  </thead>\n",
       "  <tbody>\n",
       "    <tr>\n",
       "      <th>0</th>\n",
       "      <td>15442</td>\n",
       "      <td>Es un tribunal de suprema instanza que forma p...</td>\n",
       "      <td>generated</td>\n",
       "      <td>ca</td>\n",
       "    </tr>\n",
       "    <tr>\n",
       "      <th>1</th>\n",
       "      <td>26409</td>\n",
       "      <td>Aixó de tindrer la platgeta tant prou era un p...</td>\n",
       "      <td>human</td>\n",
       "      <td>ca</td>\n",
       "    </tr>\n",
       "    <tr>\n",
       "      <th>2</th>\n",
       "      <td>12777</td>\n",
       "      <td>Doug mcadam es un científico estadista estadou...</td>\n",
       "      <td>generated</td>\n",
       "      <td>es</td>\n",
       "    </tr>\n",
       "    <tr>\n",
       "      <th>3</th>\n",
       "      <td>63467</td>\n",
       "      <td>El president de la generalitat, carles puigdem...</td>\n",
       "      <td>generated</td>\n",
       "      <td>ca</td>\n",
       "    </tr>\n",
       "    <tr>\n",
       "      <th>4</th>\n",
       "      <td>41050</td>\n",
       "      <td>Traídas de francia, tan estrafalarias que una ...</td>\n",
       "      <td>generated</td>\n",
       "      <td>es</td>\n",
       "    </tr>\n",
       "    <tr>\n",
       "      <th>...</th>\n",
       "      <td>...</td>\n",
       "      <td>...</td>\n",
       "      <td>...</td>\n",
       "      <td>...</td>\n",
       "    </tr>\n",
       "    <tr>\n",
       "      <th>109658</th>\n",
       "      <td>76637</td>\n",
       "      <td>Bere burua egokitzen saiatu zuen, aurreko mome...</td>\n",
       "      <td>generated</td>\n",
       "      <td>eu</td>\n",
       "    </tr>\n",
       "    <tr>\n",
       "      <th>109659</th>\n",
       "      <td>107183</td>\n",
       "      <td>Benquerida compañeira e amiga, para nós é moi ...</td>\n",
       "      <td>human</td>\n",
       "      <td>gl</td>\n",
       "    </tr>\n",
       "    <tr>\n",
       "      <th>109660</th>\n",
       "      <td>144741</td>\n",
       "      <td>The irish president has signed the \"long-await...</td>\n",
       "      <td>generated</td>\n",
       "      <td>en</td>\n",
       "    </tr>\n",
       "    <tr>\n",
       "      <th>109661</th>\n",
       "      <td>1202</td>\n",
       "      <td>Pedro de alvarado y contreras \"tonatiuh\" (bada...</td>\n",
       "      <td>human</td>\n",
       "      <td>es</td>\n",
       "    </tr>\n",
       "    <tr>\n",
       "      <th>109662</th>\n",
       "      <td>21996</td>\n",
       "      <td>Sure! wikipedia articles should be well-writte...</td>\n",
       "      <td>generated</td>\n",
       "      <td>en</td>\n",
       "    </tr>\n",
       "  </tbody>\n",
       "</table>\n",
       "<p>109663 rows × 4 columns</p>\n",
       "</div>"
      ],
      "text/plain": [
       "            id                                               text      label  \\\n",
       "0        15442  Es un tribunal de suprema instanza que forma p...  generated   \n",
       "1        26409  Aixó de tindrer la platgeta tant prou era un p...      human   \n",
       "2        12777  Doug mcadam es un científico estadista estadou...  generated   \n",
       "3        63467  El president de la generalitat, carles puigdem...  generated   \n",
       "4        41050  Traídas de francia, tan estrafalarias que una ...  generated   \n",
       "...        ...                                                ...        ...   \n",
       "109658   76637  Bere burua egokitzen saiatu zuen, aurreko mome...  generated   \n",
       "109659  107183  Benquerida compañeira e amiga, para nós é moi ...      human   \n",
       "109660  144741  The irish president has signed the \"long-await...  generated   \n",
       "109661    1202  Pedro de alvarado y contreras \"tonatiuh\" (bada...      human   \n",
       "109662   21996  Sure! wikipedia articles should be well-writte...  generated   \n",
       "\n",
       "       detected_language  \n",
       "0                     ca  \n",
       "1                     ca  \n",
       "2                     es  \n",
       "3                     ca  \n",
       "4                     es  \n",
       "...                  ...  \n",
       "109658                eu  \n",
       "109659                gl  \n",
       "109660                en  \n",
       "109661                es  \n",
       "109662                en  \n",
       "\n",
       "[109663 rows x 4 columns]"
      ]
     },
     "execution_count": 4,
     "metadata": {},
     "output_type": "execute_result"
    }
   ],
   "source": [
    "def detect_language(text):\n",
    "    return identifier.classify(text)[0]\n",
    "\n",
    "# Create the new column\n",
    "train['detected_language'] = train['text'].apply(detect_language)\n",
    "\n",
    "train"
   ]
  },
  {
   "cell_type": "markdown",
   "id": "c01d8356",
   "metadata": {},
   "source": [
    "## Texts in Basque"
   ]
  },
  {
   "cell_type": "code",
   "execution_count": 6,
   "id": "07ef2978",
   "metadata": {},
   "outputs": [],
   "source": [
    "train_eu = train[train['detected_language'] == 'eu']"
   ]
  },
  {
   "cell_type": "code",
   "execution_count": 7,
   "id": "a1dfef37",
   "metadata": {},
   "outputs": [
    {
     "data": {
      "text/html": [
       "<div>\n",
       "<style scoped>\n",
       "    .dataframe tbody tr th:only-of-type {\n",
       "        vertical-align: middle;\n",
       "    }\n",
       "\n",
       "    .dataframe tbody tr th {\n",
       "        vertical-align: top;\n",
       "    }\n",
       "\n",
       "    .dataframe thead th {\n",
       "        text-align: right;\n",
       "    }\n",
       "</style>\n",
       "<table border=\"1\" class=\"dataframe\">\n",
       "  <thead>\n",
       "    <tr style=\"text-align: right;\">\n",
       "      <th></th>\n",
       "      <th>id</th>\n",
       "      <th>text</th>\n",
       "      <th>label</th>\n",
       "      <th>detected_language</th>\n",
       "    </tr>\n",
       "  </thead>\n",
       "  <tbody>\n",
       "    <tr>\n",
       "      <th>18</th>\n",
       "      <td>113137</td>\n",
       "      <td>\"\"\"basque artikulu hau: lasioglossum figueresi...</td>\n",
       "      <td>generated</td>\n",
       "      <td>eu</td>\n",
       "    </tr>\n",
       "    <tr>\n",
       "      <th>24</th>\n",
       "      <td>148450</td>\n",
       "      <td>Ez errepikatu gonbita edo emandako esaldiak. e...</td>\n",
       "      <td>generated</td>\n",
       "      <td>eu</td>\n",
       "    </tr>\n",
       "    <tr>\n",
       "      <th>28</th>\n",
       "      <td>147441</td>\n",
       "      <td>Hori dela-eta, gauzetan dauka arreta eta jarre...</td>\n",
       "      <td>generated</td>\n",
       "      <td>eu</td>\n",
       "    </tr>\n",
       "    <tr>\n",
       "      <th>56</th>\n",
       "      <td>71834</td>\n",
       "      <td>Metro bilbaoko langileek abenduaren 12an elkar...</td>\n",
       "      <td>generated</td>\n",
       "      <td>eu</td>\n",
       "    </tr>\n",
       "    <tr>\n",
       "      <th>59</th>\n",
       "      <td>109021</td>\n",
       "      <td>Hollow creek kentuckyko komunitate txikia da, ...</td>\n",
       "      <td>generated</td>\n",
       "      <td>eu</td>\n",
       "    </tr>\n",
       "    <tr>\n",
       "      <th>...</th>\n",
       "      <td>...</td>\n",
       "      <td>...</td>\n",
       "      <td>...</td>\n",
       "      <td>...</td>\n",
       "    </tr>\n",
       "    <tr>\n",
       "      <th>109599</th>\n",
       "      <td>50129</td>\n",
       "      <td>Abenduan eraikuntza eta obra zibila azpisektor...</td>\n",
       "      <td>human</td>\n",
       "      <td>eu</td>\n",
       "    </tr>\n",
       "    <tr>\n",
       "      <th>109629</th>\n",
       "      <td>3813</td>\n",
       "      <td>(first paragraph of the news article) zerbitzu...</td>\n",
       "      <td>generated</td>\n",
       "      <td>eu</td>\n",
       "    </tr>\n",
       "    <tr>\n",
       "      <th>109636</th>\n",
       "      <td>40009</td>\n",
       "      <td>Iza nik garaitzan zehar. gaude eta zuzen horie...</td>\n",
       "      <td>generated</td>\n",
       "      <td>eu</td>\n",
       "    </tr>\n",
       "    <tr>\n",
       "      <th>109650</th>\n",
       "      <td>57324</td>\n",
       "      <td>Horregatik, biztanle batzuek , egoera hura jas...</td>\n",
       "      <td>human</td>\n",
       "      <td>eu</td>\n",
       "    </tr>\n",
       "    <tr>\n",
       "      <th>109658</th>\n",
       "      <td>76637</td>\n",
       "      <td>Bere burua egokitzen saiatu zuen, aurreko mome...</td>\n",
       "      <td>generated</td>\n",
       "      <td>eu</td>\n",
       "    </tr>\n",
       "  </tbody>\n",
       "</table>\n",
       "<p>13444 rows × 4 columns</p>\n",
       "</div>"
      ],
      "text/plain": [
       "            id                                               text      label  \\\n",
       "18      113137  \"\"\"basque artikulu hau: lasioglossum figueresi...  generated   \n",
       "24      148450  Ez errepikatu gonbita edo emandako esaldiak. e...  generated   \n",
       "28      147441  Hori dela-eta, gauzetan dauka arreta eta jarre...  generated   \n",
       "56       71834  Metro bilbaoko langileek abenduaren 12an elkar...  generated   \n",
       "59      109021  Hollow creek kentuckyko komunitate txikia da, ...  generated   \n",
       "...        ...                                                ...        ...   \n",
       "109599   50129  Abenduan eraikuntza eta obra zibila azpisektor...      human   \n",
       "109629    3813  (first paragraph of the news article) zerbitzu...  generated   \n",
       "109636   40009  Iza nik garaitzan zehar. gaude eta zuzen horie...  generated   \n",
       "109650   57324  Horregatik, biztanle batzuek , egoera hura jas...      human   \n",
       "109658   76637  Bere burua egokitzen saiatu zuen, aurreko mome...  generated   \n",
       "\n",
       "       detected_language  \n",
       "18                    eu  \n",
       "24                    eu  \n",
       "28                    eu  \n",
       "56                    eu  \n",
       "59                    eu  \n",
       "...                  ...  \n",
       "109599                eu  \n",
       "109629                eu  \n",
       "109636                eu  \n",
       "109650                eu  \n",
       "109658                eu  \n",
       "\n",
       "[13444 rows x 4 columns]"
      ]
     },
     "execution_count": 7,
     "metadata": {},
     "output_type": "execute_result"
    }
   ],
   "source": [
    "train_eu"
   ]
  },
  {
   "cell_type": "code",
   "execution_count": 14,
   "id": "4dba83d9",
   "metadata": {},
   "outputs": [],
   "source": [
    "# train_eu.to_csv('basque_data.csv')"
   ]
  },
  {
   "cell_type": "code",
   "execution_count": 12,
   "id": "6ee15725",
   "metadata": {},
   "outputs": [
    {
     "data": {
      "text/plain": [
       "18        \"\"\"basque artikulu hau: lasioglossum figueresi...\n",
       "24        Ez errepikatu gonbita edo emandako esaldiak. e...\n",
       "28        Hori dela-eta, gauzetan dauka arreta eta jarre...\n",
       "56        Metro bilbaoko langileek abenduaren 12an elkar...\n",
       "59        Hollow creek kentuckyko komunitate txikia da, ...\n",
       "                                ...                        \n",
       "109599    Abenduan eraikuntza eta obra zibila azpisektor...\n",
       "109629    (first paragraph of the news article) zerbitzu...\n",
       "109636    Iza nik garaitzan zehar. gaude eta zuzen horie...\n",
       "109650    Horregatik, biztanle batzuek , egoera hura jas...\n",
       "109658    Bere burua egokitzen saiatu zuen, aurreko mome...\n",
       "Name: text, Length: 13444, dtype: object"
      ]
     },
     "execution_count": 12,
     "metadata": {},
     "output_type": "execute_result"
    }
   ],
   "source": [
    "train_eu.text"
   ]
  },
  {
   "cell_type": "markdown",
   "id": "d0b85215",
   "metadata": {},
   "source": [
    "# Preprocessing "
   ]
  },
  {
   "cell_type": "code",
   "execution_count": 2,
   "id": "ea2224e1",
   "metadata": {},
   "outputs": [],
   "source": [
    "df = pd.read_csv(\"basque_data.csv\").drop(columns='Unnamed: 0')"
   ]
  },
  {
   "cell_type": "code",
   "execution_count": 3,
   "id": "49e96300",
   "metadata": {},
   "outputs": [],
   "source": [
    "import string\n",
    "from nltk.corpus import stopwords\n",
    "\n",
    "def text_process(mess):\n",
    "    \"\"\"\n",
    "    Takes in a string of text, then performs the following:\n",
    "    1. Remove all punctuation\n",
    "    2. Remove all stopwords\n",
    "    3. Returns a list of the cleaned text\n",
    "    \"\"\"\n",
    "    \n",
    "    with open('data/stopwords_basque.txt', 'r') as file:\n",
    "        STOPWORDS = [line.strip() for line in file.readlines()]\n",
    "    STOPWORDS.pop(0)\n",
    "    \n",
    "    # Check characters to see if they are in punctuation\n",
    "    nopunc = [char for char in mess if char not in string.punctuation]\n",
    "\n",
    "    # Join the characters again to form the string.\n",
    "    nopunc = ''.join(nopunc)\n",
    "    \n",
    "    # Now just remove any stopwords\n",
    "    return ' '.join([word for word in nopunc.split() if word.lower() not in STOPWORDS])\n",
    "\n",
    "# import nltk \n",
    "# nltk.download('stopwords') # # -> do this in case of 'Resource stopwords not found.'\n",
    "\n",
    "\n",
    "def preprocessing(df):\n",
    "    # processing text\n",
    "    df.loc[:, 'clean_text'] = df['text'].apply(text_process)\n",
    "\n",
    "    # calculate text length\n",
    "    df.loc[:, 'text_len'] = df.loc[:, 'clean_text'].apply(len)\n",
    "    \n",
    "    # crop unnecessary columns\n",
    "    df = df.drop(columns=['text', 'detected_language'])\n",
    "\n",
    "    # map labels\n",
    "    df['label'] = df['label'].map({'human': 0, 'generated': 1})\n",
    "\n",
    "    return df"
   ]
  },
  {
   "cell_type": "code",
   "execution_count": 4,
   "id": "bbafd2f5",
   "metadata": {},
   "outputs": [],
   "source": [
    "train_eu_preprocessed = preprocessing(df)"
   ]
  },
  {
   "cell_type": "code",
   "execution_count": 5,
   "id": "5b2ff153",
   "metadata": {},
   "outputs": [
    {
     "data": {
      "text/html": [
       "<div>\n",
       "<style scoped>\n",
       "    .dataframe tbody tr th:only-of-type {\n",
       "        vertical-align: middle;\n",
       "    }\n",
       "\n",
       "    .dataframe tbody tr th {\n",
       "        vertical-align: top;\n",
       "    }\n",
       "\n",
       "    .dataframe thead th {\n",
       "        text-align: right;\n",
       "    }\n",
       "</style>\n",
       "<table border=\"1\" class=\"dataframe\">\n",
       "  <thead>\n",
       "    <tr style=\"text-align: right;\">\n",
       "      <th></th>\n",
       "      <th>id</th>\n",
       "      <th>label</th>\n",
       "      <th>clean_text</th>\n",
       "      <th>text_len</th>\n",
       "    </tr>\n",
       "  </thead>\n",
       "  <tbody>\n",
       "    <tr>\n",
       "      <th>0</th>\n",
       "      <td>113137</td>\n",
       "      <td>1</td>\n",
       "      <td>basque artikulu lasioglossum figueresi lasiogl...</td>\n",
       "      <td>199</td>\n",
       "    </tr>\n",
       "    <tr>\n",
       "      <th>1</th>\n",
       "      <td>148450</td>\n",
       "      <td>1</td>\n",
       "      <td>errepikatu gonbita emandako esaldiak idatzi ko...</td>\n",
       "      <td>288</td>\n",
       "    </tr>\n",
       "    <tr>\n",
       "      <th>2</th>\n",
       "      <td>147441</td>\n",
       "      <td>1</td>\n",
       "      <td>delaeta gauzetan dauka arreta jarrera jostalar...</td>\n",
       "      <td>1121</td>\n",
       "    </tr>\n",
       "    <tr>\n",
       "      <th>3</th>\n",
       "      <td>71834</td>\n",
       "      <td>1</td>\n",
       "      <td>Metro bilbaoko langileek abenduaren 12an elkar...</td>\n",
       "      <td>885</td>\n",
       "    </tr>\n",
       "    <tr>\n",
       "      <th>4</th>\n",
       "      <td>109021</td>\n",
       "      <td>1</td>\n",
       "      <td>Hollow creek kentuckyko komunitate txikia amer...</td>\n",
       "      <td>544</td>\n",
       "    </tr>\n",
       "    <tr>\n",
       "      <th>...</th>\n",
       "      <td>...</td>\n",
       "      <td>...</td>\n",
       "      <td>...</td>\n",
       "      <td>...</td>\n",
       "    </tr>\n",
       "    <tr>\n",
       "      <th>13439</th>\n",
       "      <td>50129</td>\n",
       "      <td>0</td>\n",
       "      <td>Abenduan eraikuntza obra zibila azpisektoreek ...</td>\n",
       "      <td>680</td>\n",
       "    </tr>\n",
       "    <tr>\n",
       "      <th>13440</th>\n",
       "      <td>3813</td>\n",
       "      <td>1</td>\n",
       "      <td>first paragraph of the news article zerbitzu a...</td>\n",
       "      <td>923</td>\n",
       "    </tr>\n",
       "    <tr>\n",
       "      <th>13441</th>\n",
       "      <td>40009</td>\n",
       "      <td>1</td>\n",
       "      <td>Iza nik garaitzan zehar gaude zuzen erantzuten...</td>\n",
       "      <td>110</td>\n",
       "    </tr>\n",
       "    <tr>\n",
       "      <th>13442</th>\n",
       "      <td>57324</td>\n",
       "      <td>0</td>\n",
       "      <td>Horregatik biztanle egoera jasan ezinik ihesar...</td>\n",
       "      <td>818</td>\n",
       "    </tr>\n",
       "    <tr>\n",
       "      <th>13443</th>\n",
       "      <td>76637</td>\n",
       "      <td>1</td>\n",
       "      <td>burua egokitzen saiatu aurreko momentuen gorab...</td>\n",
       "      <td>1057</td>\n",
       "    </tr>\n",
       "  </tbody>\n",
       "</table>\n",
       "<p>13444 rows × 4 columns</p>\n",
       "</div>"
      ],
      "text/plain": [
       "           id  label                                         clean_text  \\\n",
       "0      113137      1  basque artikulu lasioglossum figueresi lasiogl...   \n",
       "1      148450      1  errepikatu gonbita emandako esaldiak idatzi ko...   \n",
       "2      147441      1  delaeta gauzetan dauka arreta jarrera jostalar...   \n",
       "3       71834      1  Metro bilbaoko langileek abenduaren 12an elkar...   \n",
       "4      109021      1  Hollow creek kentuckyko komunitate txikia amer...   \n",
       "...       ...    ...                                                ...   \n",
       "13439   50129      0  Abenduan eraikuntza obra zibila azpisektoreek ...   \n",
       "13440    3813      1  first paragraph of the news article zerbitzu a...   \n",
       "13441   40009      1  Iza nik garaitzan zehar gaude zuzen erantzuten...   \n",
       "13442   57324      0  Horregatik biztanle egoera jasan ezinik ihesar...   \n",
       "13443   76637      1  burua egokitzen saiatu aurreko momentuen gorab...   \n",
       "\n",
       "       text_len  \n",
       "0           199  \n",
       "1           288  \n",
       "2          1121  \n",
       "3           885  \n",
       "4           544  \n",
       "...         ...  \n",
       "13439       680  \n",
       "13440       923  \n",
       "13441       110  \n",
       "13442       818  \n",
       "13443      1057  \n",
       "\n",
       "[13444 rows x 4 columns]"
      ]
     },
     "execution_count": 5,
     "metadata": {},
     "output_type": "execute_result"
    }
   ],
   "source": [
    "train_eu_preprocessed"
   ]
  },
  {
   "cell_type": "markdown",
   "id": "94394354",
   "metadata": {},
   "source": [
    "# Initial exploration"
   ]
  },
  {
   "cell_type": "code",
   "execution_count": 6,
   "id": "59a94e9e",
   "metadata": {},
   "outputs": [
    {
     "data": {
      "text/plain": [
       "Text(0.5, 0, 'Message Length')"
      ]
     },
     "execution_count": 6,
     "metadata": {},
     "output_type": "execute_result"
    },
    {
     "data": {
      "image/png": "[encoded data removed]",
      "text/plain": [
       "<Figure size 1200x800 with 1 Axes>"
      ]
     },
     "metadata": {},
     "output_type": "display_data"
    }
   ],
   "source": [
    "plt.figure(figsize=(12, 8))\n",
    "\n",
    "train_eu_preprocessed[train_eu_preprocessed.label == 0].text_len.plot(bins=35, kind='hist', color='blue', \n",
    "                                       label='Human texts', alpha=0.5)\n",
    "train_eu_preprocessed[train_eu_preprocessed.label == 1].text_len.plot(bins=35, kind='hist', color='red', \n",
    "                                       label='Generated texts', alpha=0.5)\n",
    "plt.legend()\n",
    "plt.xlabel(\"Message Length\")"
   ]
  },
  {
   "cell_type": "code",
   "execution_count": 7,
   "id": "92e9e858",
   "metadata": {},
   "outputs": [],
   "source": [
    "def plot_common_words(ham_words, type):\n",
    "    common_words = [word[0] for word in ham_words.most_common(20)]\n",
    "    word_counts = [word[1] for word in ham_words.most_common(20)]\n",
    "    \n",
    "    # Plotting\n",
    "    plt.figure(figsize=(10, 6))\n",
    "    plt.bar(common_words, word_counts, color='skyblue')\n",
    "    plt.title(f'Top 20 Most Common Words in {type} Labeled Data')\n",
    "    plt.xlabel('Words')\n",
    "    plt.ylabel('Frequency')\n",
    "    plt.xticks(rotation=45, ha='right')\n",
    "    plt.tight_layout()\n",
    "    plt.show()"
   ]
  },
  {
   "cell_type": "code",
   "execution_count": 8,
   "id": "0e7d8ed7",
   "metadata": {},
   "outputs": [
    {
     "name": "stdout",
     "output_type": "stream",
     "text": [
      "[('zeuden', 2087), ('egiten', 1743), ('bi', 1621), ('izango', 1587), ('behar', 1562), ('den', 1551), ('nahi', 1507), ('zituzten', 1459), ('baino', 1367), ('artean', 1305), ('kanpo', 1267), ('dut', 1151), ('estekak', 1151), ('esan', 1120), ('zion', 1118), ('euskal', 1096), ('duen', 1070), ('ari', 1064), ('oso', 1019), ('pertsona', 1010), ('baten', 1000), ('gainera', 972), ('bai', 968), ('gehiago', 954), ('nire', 949), ('lehen', 911), ('etxek', 903), ('bizi', 902), ('hartu', 897), ('zegoen', 883), ('dela', 852), ('eman', 850), ('gabe', 848), ('urte', 848), ('hiru', 847), ('etxebizitza', 830), ('gero', 826), ('diren', 825), ('gure', 802), ('ondoren', 802), ('zela', 800), ('lan', 787), ('joan', 775), ('hasi', 750), ('duten', 744), ('egun', 735), ('egiteko', 735), ('bakarrik', 724), ('arte', 722), ('a', 715)]\n"
     ]
    }
   ],
   "source": [
    "words = train_eu_preprocessed[train_eu_preprocessed.label == 0]['clean_text'].apply(lambda x: [word.lower() for word in x.split()])\n",
    "ham_words_human = Counter()\n",
    "\n",
    "for msg in words:\n",
    "    ham_words_human.update(msg)\n",
    "    \n",
    "print(ham_words_human.most_common(50))"
   ]
  },
  {
   "cell_type": "code",
   "execution_count": 9,
   "id": "f5372f86",
   "metadata": {},
   "outputs": [
    {
     "name": "stdout",
     "output_type": "stream",
     "text": [
      "[('gure', 4552), ('euskal', 4353), ('izango', 3810), ('duen', 2873), ('nire', 2713), ('behar', 2597), ('egiten', 2378), ('hainbat', 2288), ('den', 2281), ('nahi', 2277), ('gaur', 2232), ('duzu', 2079), ('ezagutzen', 2051), ('oso', 1940), ('eman', 1794), ('dela', 1702), ('dugu', 1672), ('dut', 1667), ('bilboko', 1662), ('bi', 1652), ('daude', 1617), ('duten', 1587), ('artean', 1536), ('gehiago', 1529), ('zehar', 1413), ('ezin', 1412), ('aukera', 1399), ('herriko', 1398), ('bertan', 1376), ('esan', 1341), ('dituen', 1298), ('dituzte', 1282), ('egun', 1237), ('ematen', 1233), ('azken', 1204), ('euskara', 1201), ('batera', 1196), ('baino', 1187), ('dakit', 1162), ('horren', 1151), ('buruzko', 1121), ('ikusi', 1102), ('baten', 1101), ('diren', 1066), ('gora', 1048), ('zure', 1042), ('lan', 1041), ('baita', 1025), ('parte', 1023), ('hartu', 1004)]\n"
     ]
    }
   ],
   "source": [
    "words = train_eu_preprocessed[train_eu_preprocessed.label == 1]['clean_text'].apply(lambda x: [word.lower() for word in x.split()])\n",
    "ham_words_computer = Counter()\n",
    "\n",
    "for msg in words:\n",
    "    ham_words_computer.update(msg)\n",
    "    \n",
    "print(ham_words_computer.most_common(50))"
   ]
  },
  {
   "cell_type": "code",
   "execution_count": 10,
   "id": "fb981b6f",
   "metadata": {},
   "outputs": [
    {
     "data": {
      "image/png": "[encoded data removed]",
      "text/plain": [
       "<Figure size 1000x600 with 1 Axes>"
      ]
     },
     "metadata": {},
     "output_type": "display_data"
    },
    {
     "data": {
      "image/png": "[encoded data removed]",
      "text/plain": [
       "<Figure size 1000x600 with 1 Axes>"
      ]
     },
     "metadata": {},
     "output_type": "display_data"
    }
   ],
   "source": [
    "for counter in [(ham_words_human, 'Human'), (ham_words_computer, 'Computer')]:\n",
    "    plot_common_words(counter[0], counter[1])"
   ]
  },
  {
   "cell_type": "code",
   "execution_count": 11,
   "id": "1135e605",
   "metadata": {},
   "outputs": [
    {
     "name": "stdout",
     "output_type": "stream",
     "text": [
      "Average Human text length: 941.9553339980059\n",
      "Average Computer text length: 613.4098944121486\n"
     ]
    }
   ],
   "source": [
    "print(f\"Average Human text length: {train_eu_preprocessed[train_eu_preprocessed.label == 0]['text_len'].mean()}\")\n",
    "print(f\"Average Computer text length: {train_eu_preprocessed[train_eu_preprocessed.label == 1]['text_len'].mean()}\")"
   ]
  },
  {
   "cell_type": "markdown",
   "id": "e69a8a0f",
   "metadata": {},
   "source": [
    "# First model"
   ]
  },
  {
   "cell_type": "markdown",
   "id": "7080e7dd",
   "metadata": {},
   "source": [
    "## Split"
   ]
  },
  {
   "cell_type": "code",
   "execution_count": 12,
   "id": "72041298",
   "metadata": {},
   "outputs": [
    {
     "name": "stdout",
     "output_type": "stream",
     "text": [
      "(10755,)\n",
      "(2689,)\n",
      "(10755,)\n",
      "(2689,)\n"
     ]
    }
   ],
   "source": [
    "X_train_eu, X_test_eu, y_train_eu, y_test_eu = train_test_split(train_eu_preprocessed.loc[:, 'clean_text'], \n",
    "                                                                train_eu_preprocessed['label'], test_size=0.20, random_state=42)\n",
    "\n",
    "print(X_train_eu.shape)\n",
    "print(X_test_eu.shape)\n",
    "print(y_train_eu.shape)\n",
    "print(y_test_eu.shape)"
   ]
  },
  {
   "cell_type": "code",
   "execution_count": 13,
   "id": "498c5cf3",
   "metadata": {},
   "outputs": [
    {
     "data": {
      "text/plain": [
       "7074     Alcañizo toledoko udalerria campana de oropesa...\n",
       "1886     Jessica hausner atzean geratzen analisian fabu...\n",
       "8440     Euskal herria bilboako arriaga antzoki batzuke...\n",
       "1339     Alcollarín cáceresko probintziako udalerria cá...\n",
       "13290    Tuapamizaga dunezko epea erabiliz daitezke hor...\n",
       "                               ...                        \n",
       "5191     Kapitulua korrika haren atzetik dabilela burut...\n",
       "13418    Elikagai gorlizko kulturetxe udaleko atarikoan...\n",
       "5390     Gabon zorionak ianiire4 espero dut zure eguna ...\n",
       "860      Gerraz hitz egiten goseaz gurasoen antza izate...\n",
       "7270     Eusko label ligan parte hartzen duten h amabi ...\n",
       "Name: clean_text, Length: 10755, dtype: object"
      ]
     },
     "execution_count": 13,
     "metadata": {},
     "output_type": "execute_result"
    }
   ],
   "source": [
    "X_train_eu"
   ]
  },
  {
   "cell_type": "code",
   "execution_count": 14,
   "id": "204ee194",
   "metadata": {},
   "outputs": [
    {
     "data": {
      "text/plain": [
       "7074     0\n",
       "1886     1\n",
       "8440     1\n",
       "1339     0\n",
       "13290    1\n",
       "        ..\n",
       "5191     1\n",
       "13418    1\n",
       "5390     0\n",
       "860      0\n",
       "7270     1\n",
       "Name: label, Length: 10755, dtype: int64"
      ]
     },
     "execution_count": 14,
     "metadata": {},
     "output_type": "execute_result"
    }
   ],
   "source": [
    "y_train_eu"
   ]
  },
  {
   "cell_type": "markdown",
   "id": "7cf8b4cb",
   "metadata": {},
   "source": [
    "## Models"
   ]
  },
  {
   "cell_type": "code",
   "execution_count": 15,
   "id": "dbd927ed",
   "metadata": {},
   "outputs": [
    {
     "name": "stdout",
     "output_type": "stream",
     "text": [
      "<class 'scipy.sparse._csr.csr_matrix'> (10755, 125570)\n",
      "<class 'scipy.sparse._csr.csr_matrix'> (2689, 125570)\n"
     ]
    }
   ],
   "source": [
    "from sklearn.feature_extraction.text import CountVectorizer\n",
    "\n",
    "# instantiate the vectorizer\n",
    "vect = CountVectorizer()\n",
    "vect.fit(X_train_eu)\n",
    "\n",
    "# learn training data vocabulary, then use it to create a document-term matrix\n",
    "X_train1_dtm = vect.transform(X_train_eu)\n",
    "\n",
    "# equivalently: combine fit and transform into a single step\n",
    "X_train1_dtm = vect.fit_transform(X_train_eu)\n",
    "\n",
    "\n",
    "# examine the document-term matrix\n",
    "print(type(X_train1_dtm), X_train1_dtm.shape)\n",
    "\n",
    "# transform testing data (using fitted vocabulary) into a document-term matrix\n",
    "X_test1_dtm = vect.transform(X_test_eu)\n",
    "print(type(X_test1_dtm), X_test1_dtm.shape)"
   ]
  },
  {
   "cell_type": "markdown",
   "id": "10b43f1c",
   "metadata": {},
   "source": [
    "### Logistic Regression Model"
   ]
  },
  {
   "cell_type": "code",
   "execution_count": 16,
   "id": "3c517fb2",
   "metadata": {},
   "outputs": [
    {
     "name": "stdout",
     "output_type": "stream",
     "text": [
      "CPU times: total: 3.61 s\n",
      "Wall time: 1.89 s\n"
     ]
    },
    {
     "data": {
      "text/html": [
       "<style>#sk-container-id-1 {color: black;}#sk-container-id-1 pre{padding: 0;}#sk-container-id-1 div.sk-toggleable {background-color: white;}#sk-container-id-1 label.sk-toggleable__label {cursor: pointer;display: block;width: 100%;margin-bottom: 0;padding: 0.3em;box-sizing: border-box;text-align: center;}#sk-container-id-1 label.sk-toggleable__label-arrow:before {content: \"▸\";float: left;margin-right: 0.25em;color: #696969;}#sk-container-id-1 label.sk-toggleable__label-arrow:hover:before {color: black;}#sk-container-id-1 div.sk-estimator:hover label.sk-toggleable__label-arrow:before {color: black;}#sk-container-id-1 div.sk-toggleable__content {max-height: 0;max-width: 0;overflow: hidden;text-align: left;background-color: #f0f8ff;}#sk-container-id-1 div.sk-toggleable__content pre {margin: 0.2em;color: black;border-radius: 0.25em;background-color: #f0f8ff;}#sk-container-id-1 input.sk-toggleable__control:checked~div.sk-toggleable__content {max-height: 200px;max-width: 100%;overflow: auto;}#sk-container-id-1 input.sk-toggleable__control:checked~label.sk-toggleable__label-arrow:before {content: \"▾\";}#sk-container-id-1 div.sk-estimator input.sk-toggleable__control:checked~label.sk-toggleable__label {background-color: #d4ebff;}#sk-container-id-1 div.sk-label input.sk-toggleable__control:checked~label.sk-toggleable__label {background-color: #d4ebff;}#sk-container-id-1 input.sk-hidden--visually {border: 0;clip: rect(1px 1px 1px 1px);clip: rect(1px, 1px, 1px, 1px);height: 1px;margin: -1px;overflow: hidden;padding: 0;position: absolute;width: 1px;}#sk-container-id-1 div.sk-estimator {font-family: monospace;background-color: #f0f8ff;border: 1px dotted black;border-radius: 0.25em;box-sizing: border-box;margin-bottom: 0.5em;}#sk-container-id-1 div.sk-estimator:hover {background-color: #d4ebff;}#sk-container-id-1 div.sk-parallel-item::after {content: \"\";width: 100%;border-bottom: 1px solid gray;flex-grow: 1;}#sk-container-id-1 div.sk-label:hover label.sk-toggleable__label {background-color: #d4ebff;}#sk-container-id-1 div.sk-serial::before {content: \"\";position: absolute;border-left: 1px solid gray;box-sizing: border-box;top: 0;bottom: 0;left: 50%;z-index: 0;}#sk-container-id-1 div.sk-serial {display: flex;flex-direction: column;align-items: center;background-color: white;padding-right: 0.2em;padding-left: 0.2em;position: relative;}#sk-container-id-1 div.sk-item {position: relative;z-index: 1;}#sk-container-id-1 div.sk-parallel {display: flex;align-items: stretch;justify-content: center;background-color: white;position: relative;}#sk-container-id-1 div.sk-item::before, #sk-container-id-1 div.sk-parallel-item::before {content: \"\";position: absolute;border-left: 1px solid gray;box-sizing: border-box;top: 0;bottom: 0;left: 50%;z-index: -1;}#sk-container-id-1 div.sk-parallel-item {display: flex;flex-direction: column;z-index: 1;position: relative;background-color: white;}#sk-container-id-1 div.sk-parallel-item:first-child::after {align-self: flex-end;width: 50%;}#sk-container-id-1 div.sk-parallel-item:last-child::after {align-self: flex-start;width: 50%;}#sk-container-id-1 div.sk-parallel-item:only-child::after {width: 0;}#sk-container-id-1 div.sk-dashed-wrapped {border: 1px dashed gray;margin: 0 0.4em 0.5em 0.4em;box-sizing: border-box;padding-bottom: 0.4em;background-color: white;}#sk-container-id-1 div.sk-label label {font-family: monospace;font-weight: bold;display: inline-block;line-height: 1.2em;}#sk-container-id-1 div.sk-label-container {text-align: center;}#sk-container-id-1 div.sk-container {/* jupyter's `normalize.less` sets `[hidden] { display: none; }` but bootstrap.min.css set `[hidden] { display: none !important; }` so we also need the `!important` here to be able to override the default hidden behavior on the sphinx rendered scikit-learn.org. See: https://github.com/scikit-learn/scikit-learn/issues/21755 */display: inline-block !important;position: relative;}#sk-container-id-1 div.sk-text-repr-fallback {display: none;}</style><div id=\"sk-container-id-1\" class=\"sk-top-container\"><div class=\"sk-text-repr-fallback\"><pre>LogisticRegression(solver=&#x27;liblinear&#x27;)</pre><b>In a Jupyter environment, please rerun this cell to show the HTML representation or trust the notebook. <br />On GitHub, the HTML representation is unable to render, please try loading this page with nbviewer.org.</b></div><div class=\"sk-container\" hidden><div class=\"sk-item\"><div class=\"sk-estimator sk-toggleable\"><input class=\"sk-toggleable__control sk-hidden--visually\" id=\"sk-estimator-id-1\" type=\"checkbox\" checked><label for=\"sk-estimator-id-1\" class=\"sk-toggleable__label sk-toggleable__label-arrow\">LogisticRegression</label><div class=\"sk-toggleable__content\"><pre>LogisticRegression(solver=&#x27;liblinear&#x27;)</pre></div></div></div></div></div>"
      ],
      "text/plain": [
       "LogisticRegression(solver='liblinear')"
      ]
     },
     "execution_count": 16,
     "metadata": {},
     "output_type": "execute_result"
    }
   ],
   "source": [
    "# import an instantiate a logistic regression model\n",
    "from sklearn.linear_model import LogisticRegression\n",
    "\n",
    "logreg = LogisticRegression(solver='liblinear')\n",
    "\n",
    "# train the model using X_train_dtm\n",
    "%time logreg.fit(X_train1_dtm, y_train_eu)"
   ]
  },
  {
   "cell_type": "code",
   "execution_count": 17,
   "id": "1017a591",
   "metadata": {},
   "outputs": [
    {
     "data": {
      "text/plain": [
       "array([0.23841136, 0.96653087, 0.00248869, ..., 0.99968466, 0.03111037,\n",
       "       0.83387149])"
      ]
     },
     "execution_count": 17,
     "metadata": {},
     "output_type": "execute_result"
    }
   ],
   "source": [
    "# make class predictions for X_test_dtm\n",
    "y_test_eu_pred_lr = logreg.predict(X_test1_dtm)\n",
    "\n",
    "# calculate predicted probabilities for X_test_dtm (well calibrated)\n",
    "y_test_eu_prob_lr = logreg.predict_proba(X_test1_dtm)[:, 1]\n",
    "y_test_eu_prob_lr"
   ]
  },
  {
   "cell_type": "code",
   "execution_count": 18,
   "id": "e5212ddd",
   "metadata": {},
   "outputs": [
    {
     "name": "stdout",
     "output_type": "stream",
     "text": [
      "=======Accuracy Score===========\n",
      "0.920416511714392\n",
      "=======Confision Matrix===========\n",
      "[[ 884  121]\n",
      " [  93 1591]]\n",
      "=======ROC AUC Score===========\n",
      "0.9121881684215503\n"
     ]
    }
   ],
   "source": [
    "# calculate accuracy of class predictions\n",
    "print(\"=======Accuracy Score===========\")\n",
    "print(metrics.accuracy_score(y_test_eu, y_test_eu_pred_lr))\n",
    "\n",
    "# print the confusion matrix\n",
    "print(\"=======Confision Matrix===========\")\n",
    "print(metrics.confusion_matrix(y_test_eu, y_test_eu_pred_lr))\n",
    "\n",
    "# calculate AUC\n",
    "print(\"=======ROC AUC Score===========\")\n",
    "print(metrics.roc_auc_score(y_test_eu, y_test_eu_pred_lr))"
   ]
  },
  {
   "cell_type": "code",
   "execution_count": 19,
   "id": "dcc25a97",
   "metadata": {},
   "outputs": [
    {
     "name": "stdout",
     "output_type": "stream",
     "text": [
      "F1-score for Logistic Regression model: 0.9145064710783387\n"
     ]
    }
   ],
   "source": [
    "from sklearn.metrics import f1_score\n",
    "print(f\"F1-score for Logistic Regression model: {f1_score(y_test_eu, y_test_eu_pred_lr, average='macro')}\")"
   ]
  }
 ],
 "metadata": {
  "kernelspec": {
   "display_name": "Python 3 (ipykernel)",
   "language": "python",
   "name": "python3"
  },
  "language_info": {
   "codemirror_mode": {
    "name": "ipython",
    "version": 3
   },
   "file_extension": ".py",
   "mimetype": "text/x-python",
   "name": "python",
   "nbconvert_exporter": "python",
   "pygments_lexer": "ipython3",
   "version": "3.9.18"
  }
 },
 "nbformat": 4,
 "nbformat_minor": 5
}
