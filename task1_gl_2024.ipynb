{
 "cells": [
  {
   "cell_type": "markdown",
   "id": "90693892",
   "metadata": {},
   "source": [
    "# AuTextification"
   ]
  },
  {
   "cell_type": "markdown",
   "id": "18b2db08",
   "metadata": {},
   "source": [
    "## Libraries"
   ]
  },
  {
   "cell_type": "code",
   "execution_count": 8,
   "id": "4c65721d-6953-4c3a-9065-3e5c38b9f5d3",
   "metadata": {},
   "outputs": [],
   "source": [
    "import pandas as pd\n",
    "import numpy as np\n",
    "import matplotlib.pyplot as plt\n",
    "import seaborn as sns\n",
    "from sklearn.model_selection import train_test_split\n",
    "from py3langid.langid import LanguageIdentifier, MODEL_FILE\n",
    "from sklearn.feature_extraction.text import CountVectorizer\n",
    "from collections import Counter\n",
    "\n",
    "import warnings\n",
    "\n",
    "# Suppress FutureWarning related to is_sparse\n",
    "warnings.filterwarnings(\"ignore\", category=FutureWarning)"
   ]
  },
  {
   "cell_type": "markdown",
   "id": "081a92ac",
   "metadata": {},
   "source": [
    "## Data"
   ]
  },
  {
   "cell_type": "code",
   "execution_count": 9,
   "id": "cb33a32b",
   "metadata": {},
   "outputs": [],
   "source": [
    "root = './data/competition_2024/preprocessed_data_subtask1/'\n",
    "train_gl_preprocessed = pd.read_csv(root+'train_gl_preprocessed.csv')\n",
    "train_gl = pd.read_csv(root+'train_gl.csv')"
   ]
  },
  {
   "cell_type": "code",
   "execution_count": 10,
   "id": "12cee701",
   "metadata": {},
   "outputs": [
    {
     "data": {
      "text/html": [
       "<div>\n",
       "<style scoped>\n",
       "    .dataframe tbody tr th:only-of-type {\n",
       "        vertical-align: middle;\n",
       "    }\n",
       "\n",
       "    .dataframe tbody tr th {\n",
       "        vertical-align: top;\n",
       "    }\n",
       "\n",
       "    .dataframe thead th {\n",
       "        text-align: right;\n",
       "    }\n",
       "</style>\n",
       "<table border=\"1\" class=\"dataframe\">\n",
       "  <thead>\n",
       "    <tr style=\"text-align: right;\">\n",
       "      <th></th>\n",
       "      <th>text</th>\n",
       "      <th>label</th>\n",
       "      <th>detected_language</th>\n",
       "    </tr>\n",
       "  </thead>\n",
       "  <tbody>\n",
       "    <tr>\n",
       "      <th>0</th>\n",
       "      <td>A saída trives – baiona será ás 8 30h da mañá ...</td>\n",
       "      <td>generated</td>\n",
       "      <td>gl</td>\n",
       "    </tr>\n",
       "    <tr>\n",
       "      <th>1</th>\n",
       "      <td>As illas columbretes son un conxunto de catro ...</td>\n",
       "      <td>human</td>\n",
       "      <td>gl</td>\n",
       "    </tr>\n",
       "    <tr>\n",
       "      <th>2</th>\n",
       "      <td>A bioloxía evolutiva do desenvolvemento (tamén...</td>\n",
       "      <td>human</td>\n",
       "      <td>gl</td>\n",
       "    </tr>\n",
       "    <tr>\n",
       "      <th>3</th>\n",
       "      <td>Todos os sindicatos presentes na reunión rexei...</td>\n",
       "      <td>human</td>\n",
       "      <td>gl</td>\n",
       "    </tr>\n",
       "    <tr>\n",
       "      <th>4</th>\n",
       "      <td>300 (novela gráfica) é unha obra de arte e fic...</td>\n",
       "      <td>generated</td>\n",
       "      <td>gl</td>\n",
       "    </tr>\n",
       "    <tr>\n",
       "      <th>...</th>\n",
       "      <td>...</td>\n",
       "      <td>...</td>\n",
       "      <td>...</td>\n",
       "    </tr>\n",
       "    <tr>\n",
       "      <th>11620</th>\n",
       "      <td>A cultura de nova zelandia é moi diversa e ric...</td>\n",
       "      <td>generated</td>\n",
       "      <td>gl</td>\n",
       "    </tr>\n",
       "    <tr>\n",
       "      <th>11621</th>\n",
       "      <td>A fragata vella, navega no mar, lembranzas do ...</td>\n",
       "      <td>generated</td>\n",
       "      <td>gl</td>\n",
       "    </tr>\n",
       "    <tr>\n",
       "      <th>11622</th>\n",
       "      <td>Oulu (pronunciado (ˈoːlu) en finés) é unha cid...</td>\n",
       "      <td>generated</td>\n",
       "      <td>gl</td>\n",
       "    </tr>\n",
       "    <tr>\n",
       "      <th>11623</th>\n",
       "      <td>Pontes son estruturas que conectan dous puntos...</td>\n",
       "      <td>generated</td>\n",
       "      <td>gl</td>\n",
       "    </tr>\n",
       "    <tr>\n",
       "      <th>11624</th>\n",
       "      <td>Benquerida compañeira e amiga, para nós é moi ...</td>\n",
       "      <td>human</td>\n",
       "      <td>gl</td>\n",
       "    </tr>\n",
       "  </tbody>\n",
       "</table>\n",
       "<p>11625 rows × 3 columns</p>\n",
       "</div>"
      ],
      "text/plain": [
       "                                                    text      label  \\\n",
       "0      A saída trives – baiona será ás 8 30h da mañá ...  generated   \n",
       "1      As illas columbretes son un conxunto de catro ...      human   \n",
       "2      A bioloxía evolutiva do desenvolvemento (tamén...      human   \n",
       "3      Todos os sindicatos presentes na reunión rexei...      human   \n",
       "4      300 (novela gráfica) é unha obra de arte e fic...  generated   \n",
       "...                                                  ...        ...   \n",
       "11620  A cultura de nova zelandia é moi diversa e ric...  generated   \n",
       "11621  A fragata vella, navega no mar, lembranzas do ...  generated   \n",
       "11622  Oulu (pronunciado (ˈoːlu) en finés) é unha cid...  generated   \n",
       "11623  Pontes son estruturas que conectan dous puntos...  generated   \n",
       "11624  Benquerida compañeira e amiga, para nós é moi ...      human   \n",
       "\n",
       "      detected_language  \n",
       "0                    gl  \n",
       "1                    gl  \n",
       "2                    gl  \n",
       "3                    gl  \n",
       "4                    gl  \n",
       "...                 ...  \n",
       "11620                gl  \n",
       "11621                gl  \n",
       "11622                gl  \n",
       "11623                gl  \n",
       "11624                gl  \n",
       "\n",
       "[11625 rows x 3 columns]"
      ]
     },
     "execution_count": 10,
     "metadata": {},
     "output_type": "execute_result"
    }
   ],
   "source": [
    "train_gl = train_gl.drop(columns=['Unnamed: 0','id'])\n",
    "train_gl"
   ]
  },
  {
   "cell_type": "markdown",
   "id": "4d991b09",
   "metadata": {},
   "source": [
    "## Validation"
   ]
  },
  {
   "cell_type": "code",
   "execution_count": 11,
   "id": "37536070",
   "metadata": {},
   "outputs": [],
   "source": [
    "def train_test(corpus, test):\n",
    "    x_train, x_test, y_train, y_test = train_test_split(corpus.loc[:'clean_text'],\n",
    "                                                       corpus['label'], test_size=test, random_state=42)\n",
    "    print(x_train.shape)\n",
    "    print(x_test.shape)\n",
    "    print(y_train.shape)\n",
    "    print(y_test.shape)\n",
    "          \n",
    "    return x_train['clean_text'], x_test['clean_text'], y_train, y_test"
   ]
  },
  {
   "cell_type": "code",
   "execution_count": 12,
   "id": "e4f41948",
   "metadata": {},
   "outputs": [
    {
     "name": "stdout",
     "output_type": "stream",
     "text": [
      "(9300, 5)\n",
      "(2325, 5)\n",
      "(9300,)\n",
      "(2325,)\n"
     ]
    }
   ],
   "source": [
    "x_train_gl, x_test_gl, y_train_gl, y_test_gl = train_test(train_gl_preprocessed, 0.2)"
   ]
  },
  {
   "cell_type": "code",
   "execution_count": 13,
   "id": "0847c8ba",
   "metadata": {},
   "outputs": [
    {
     "data": {
      "text/plain": [
       "8475     última sesión 2017 carmen campos demostrou súa...\n",
       "530                                   pena guste freire xa\n",
       "7757     pasaría agora normal xustiza normal sociedad n...\n",
       "8883     comezo laxe chantada comezo laxe chantada súa ...\n",
       "11374    lucín lugar parroquia serantes concello coruñé...\n",
       "                               ...                        \n",
       "11284    concurso público méritos persoal funcionario c...\n",
       "5191     san pedro bealo parroquia localiza norte conce...\n",
       "5390     forza conservativa forza depende posición obxe...\n",
       "860      canal suez قناة السويس qanāt alsuways árabe ca...\n",
       "7270     dación contas subvencións deputación pontevedr...\n",
       "Name: clean_text, Length: 9300, dtype: object"
      ]
     },
     "execution_count": 13,
     "metadata": {},
     "output_type": "execute_result"
    }
   ],
   "source": [
    "x_train_gl"
   ]
  },
  {
   "cell_type": "markdown",
   "id": "800e9283",
   "metadata": {},
   "source": [
    "## Minable view"
   ]
  },
  {
   "cell_type": "code",
   "execution_count": 14,
   "id": "ef990b24",
   "metadata": {},
   "outputs": [],
   "source": [
    "from sklearn.feature_extraction.text import CountVectorizer\n",
    "\n",
    "# Bag of Words\n",
    "vect = CountVectorizer()\n",
    "term_frequency = CountVectorizer(binary=False)\n",
    "two_gram_tf = CountVectorizer(analyzer='word', ngram_range=(2,2), binary=False)"
   ]
  },
  {
   "cell_type": "code",
   "execution_count": 15,
   "id": "64433d55",
   "metadata": {},
   "outputs": [],
   "source": [
    "def text_representations(train_corpus, test_corpus, model):\n",
    "    # learn training data vocabulary, then use it to create a document-term matrix\n",
    "    x_train_tr = model.fit_transform(train_corpus)\n",
    "    \n",
    "    # examine the document-term matrix\n",
    "    print(type(x_train_tr), x_train_tr.shape)\n",
    "    \n",
    "    # transform testing data (using fitted vocabulary) into a document-term matrix\n",
    "    x_test_tr = model.transform(test_corpus)\n",
    "    \n",
    "    print(type(x_test_tr), x_test_tr.shape)\n",
    "    \n",
    "    return x_train_tr, x_test_tr"
   ]
  },
  {
   "cell_type": "code",
   "execution_count": 16,
   "id": "15e4a6bb",
   "metadata": {},
   "outputs": [
    {
     "name": "stdout",
     "output_type": "stream",
     "text": [
      "<class 'scipy.sparse._csr.csr_matrix'> (9300, 90632)\n",
      "<class 'scipy.sparse._csr.csr_matrix'> (2325, 90632)\n"
     ]
    }
   ],
   "source": [
    "x_train_v, x_test_v = text_representations(x_train_gl, x_test_gl, vect)"
   ]
  },
  {
   "cell_type": "markdown",
   "id": "2fb87dec",
   "metadata": {},
   "source": [
    "## Models and evaluation"
   ]
  },
  {
   "cell_type": "markdown",
   "id": "f8dc2d8f",
   "metadata": {},
   "source": [
    "### First approach using `Multilingual BERT`"
   ]
  },
  {
   "cell_type": "code",
   "execution_count": 17,
   "id": "2cd86012",
   "metadata": {},
   "outputs": [
    {
     "data": {
      "text/plain": [
       "label\n",
       "generated    50\n",
       "human        50\n",
       "Name: count, dtype: int64"
      ]
     },
     "execution_count": 17,
     "metadata": {},
     "output_type": "execute_result"
    }
   ],
   "source": [
    "# Data preparation\n",
    "import pandas as pd\n",
    "import numpy as np\n",
    "\n",
    "def sampling(df, n):\n",
    "    \"\"\"\n",
    "    This functions receives a dataframe and a number and it returns another dataframe\n",
    "    where there's the same number of generated-texts and human-texts.\n",
    "    \"\"\"\n",
    "    generated_data = df[df['label'] == 'generated'].sample(n)\n",
    "    human_data = df[df['label'] == 'human'].sample(n)\n",
    "        \n",
    "    result_df = pd.concat([generated_data, human_data])\n",
    "    result_df = result_df.sample(frac=1).reset_index(drop=True)\n",
    "    \n",
    "    return result_df\n",
    "\n",
    "\n",
    "# An example of use:\n",
    "new_train_gl = sampling(train_gl, 50)\n",
    "new_train_gl['label'].value_counts()"
   ]
  },
  {
   "cell_type": "code",
   "execution_count": 18,
   "id": "5290ba98",
   "metadata": {},
   "outputs": [],
   "source": [
    "# Data tokenization and word embeddings\n",
    "import pandas as pd\n",
    "from sklearn.model_selection import train_test_split\n",
    "\n",
    "# Función para obtener los embeddings BERT de un texto\n",
    "def get_bert_embeddings(text, tokenizer, model):\n",
    "    \"\"\"\n",
    "    Function to obtain the BERT embedding from a text\n",
    "    \"\"\"\n",
    "    inputs = tokenizer(text, return_tensors=\"pt\", padding=True, truncation=True)\n",
    "    with torch.no_grad():\n",
    "        outputs = model(**inputs)\n",
    "    cls_embedding = outputs.last_hidden_state[:, 0, :]\n",
    "    return cls_embedding.numpy()\n",
    "\n"
   ]
  },
  {
   "cell_type": "code",
   "execution_count": 19,
   "id": "a1d6cf73",
   "metadata": {},
   "outputs": [
    {
     "name": "stdout",
     "output_type": "stream",
     "text": [
      "F1 Score: 0.7818988587293728\n"
     ]
    }
   ],
   "source": [
    "# Función para entrenar y evaluar el modelo SVM con embeddings BERT\n",
    "\n",
    "from sklearn.svm import SVC\n",
    "from sklearn.metrics import f1_score\n",
    "from transformers import BertTokenizer, BertModel\n",
    "import torch\n",
    "    \n",
    "from sklearn.metrics import accuracy_score, f1_score\n",
    "from sklearn.metrics import matthews_corrcoef\n",
    "from sklearn.metrics import confusion_matrix\n",
    "\n",
    "\n",
    "\n",
    "def train_test_svm(df):\n",
    "    \"\"\"\n",
    "    function that receives a dataframe and trains a support vector machine\n",
    "    classification mother using get_bert_embeddings\n",
    "    \"\"\"\n",
    "\n",
    "    # To make sure that our data is balanced\n",
    "    generated_data = df[df['label'] == 'generated']\n",
    "    human_data = df[df['label'] == 'human']\n",
    "    \n",
    "    generated_train, generated_test = train_test_split(generated_data, test_size=0.2, random_state=42)\n",
    "    human_train, human_test = train_test_split(human_data, test_size=0.2, random_state=42)\n",
    "    \n",
    "    train_df = pd.concat([generated_train, human_train])\n",
    "    test_df = pd.concat([generated_test, human_test])\n",
    "    \n",
    "\n",
    "    # To upload the BERT model\n",
    "    tokenizer = BertTokenizer.from_pretrained('bert-base-multilingual-cased')\n",
    "    model = BertModel.from_pretrained('bert-base-multilingual-cased')\n",
    "    \n",
    "    # To get the BERT word embeddings from the training data\n",
    "    X_train_embeddings = [get_bert_embeddings(text, tokenizer, model) for text in train_df['text']]\n",
    "    X_train_embeddings = [embedding.squeeze() for embedding in X_train_embeddings]\n",
    "    \n",
    "    # Train the model\n",
    "    svm_model = SVC()\n",
    "    svm_model.fit(X_train_embeddings, train_df['label'])\n",
    "    \n",
    "    # To get the BERT word embeddings from the test data\n",
    "    X_test_embeddings = [get_bert_embeddings(text, tokenizer, model) for text in test_df['text']]\n",
    "    X_test_embeddings = [embedding.squeeze() for embedding in X_test_embeddings]\n",
    "    \n",
    "    # Predicting data\n",
    "    y_pred = svm_model.predict(X_test_embeddings)\n",
    "    \n",
    "    # Compute the F1 score\n",
    "    f1 = f1_score(test_df['label'], y_pred, average='weighted')\n",
    "    print(\"F1 Score:\", f1)\n",
    "\n",
    "    accuracy = accuracy_score(test_df['label'], y_pred)\n",
    "    print(\"Accuracy:\", accuracy)\n",
    "\n",
    "    mcc = matthews_corrcoef(test_df['label'], y_pred)\n",
    "    print(\"MCC:\", mcc)\n",
    "    \n",
    "    cm = confusion_matrix(test_df['label'], y_pred)\n",
    "    print(\"Confusion Matrix:\")\n",
    "    print(cm)\n",
    "\n",
    "    \n",
    "\n",
    "\n",
    "df = sampling(train_gl, 1000)\n",
    "train_test_svm(df)\n"
   ]
  },
  {
   "cell_type": "code",
   "execution_count": 34,
   "id": "b6f2ebaf",
   "metadata": {},
   "outputs": [
    {
     "name": "stdout",
     "output_type": "stream",
     "text": [
      "F1 Score: 0.7048155096935586\n",
      "Confusion Matrix:\n",
      "[[68 32]\n",
      " [27 73]]\n"
     ]
    },
    {
     "data": {
      "image/png": "[encoded data removed]",
      "text/plain": [
       "<Figure size 576x432 with 2 Axes>"
      ]
     },
     "metadata": {
      "needs_background": "light"
     },
     "output_type": "display_data"
    }
   ],
   "source": [
    "import pandas as pd\n",
    "from sklearn.model_selection import cross_val_predict\n",
    "from sklearn.svm import SVC\n",
    "from sklearn.metrics import f1_score, confusion_matrix\n",
    "from transformers import BertTokenizer, BertModel\n",
    "import torch\n",
    "import seaborn as sns\n",
    "import matplotlib.pyplot as plt\n",
    "\n",
    "\n",
    "def train_cv_svm(df, n_splits=5):\n",
    "    \"\"\"\n",
    "    function that receives a dataframe and trains a support vector machine\n",
    "    classification mother using get_bert_embeddings\n",
    "    \n",
    "    it additionally uses a cross validation scheme to check results\n",
    "    \"\"\"\n",
    "\n",
    "    \n",
    "    # Upload multilingual BERT\n",
    "    tokenizer = BertTokenizer.from_pretrained('bert-base-multilingual-cased')\n",
    "    model = BertModel.from_pretrained('bert-base-multilingual-cased')\n",
    "    \n",
    "    # Getting word embeddings\n",
    "    X_embeddings = [get_bert_embeddings(text, tokenizer, model) for text in df['text']]\n",
    "    X_embeddings = [embedding.squeeze() for embedding in X_embeddings]\n",
    "    \n",
    "    # SVM model\n",
    "    svm_model = SVC(kernel='linear')\n",
    "    \n",
    "    # Cross validation\n",
    "    y_pred = cross_val_predict(svm_model, X_embeddings, df['label'], cv=n_splits)\n",
    "    \n",
    "    f1 = f1_score(df['label'], y_pred, average='weighted')\n",
    "    print(\"F1 Score:\", f1)\n",
    "    \n",
    "    cm = confusion_matrix(df['label'], y_pred)\n",
    "    print(\"Confusion Matrix:\")\n",
    "    print(cm)\n",
    "    \n",
    "    # Get confusion matrix\n",
    "    plt.figure(figsize=(8, 6))\n",
    "    sns.heatmap(cm, annot=True, fmt='d', cmap='Blues', xticklabels=['generated', 'human'], yticklabels=['generated', 'human'])\n",
    "    plt.xlabel('Predicted')\n",
    "    plt.ylabel('Actual')\n",
    "    plt.title('Confusion Matrix')\n",
    "    plt.show()\n",
    "\n",
    "\n",
    "df = sampling(train_gl, 100)\n",
    "\n",
    "train_cv_svm(df)\n"
   ]
  },
  {
   "cell_type": "markdown",
   "id": "c797398f",
   "metadata": {},
   "source": [
    "### Second approach using `Multilingual BERT`"
   ]
  },
  {
   "cell_type": "code",
   "execution_count": 24,
   "id": "fd4314ea",
   "metadata": {},
   "outputs": [
    {
     "name": "stdout",
     "output_type": "stream",
     "text": [
      "The text belongs to the domain of: technology\n"
     ]
    }
   ],
   "source": [
    "def identify_domain(text):\n",
    "    # Keywords for each domain in Galician\n",
    "    keywords = {\n",
    "        'technology': ['tecnoloxía', 'informática', 'software', 'intelixencia artificial', 'computación'],\n",
    "        'health': ['saúde', 'médico', 'enfermidades', 'tratamento', 'medicina'],\n",
    "        'legal': ['lei', 'legal', 'xurídico', 'avogado', 'dereito'],\n",
    "        'politics': ['política', 'goberno', 'eleccións', 'partido', 'democracia'],\n",
    "        'philosophy': ['filosofía', 'metafísica', 'ética', 'epistemoloxía', 'lóxica'],\n",
    "        'language': ['lingua', 'idioma', 'gramática', 'vocabulario', 'lingüística'],\n",
    "        'art': ['arte', 'pintura', 'música', 'escultura', 'dança'],\n",
    "        'biology': ['bioloxía', 'biolóxico', 'organismo', 'célula', 'xenética'],\n",
    "        'education': ['educación', 'escola', 'alumno', 'profesor', 'aprendizaxe'],\n",
    "        'geography': ['xeografía', 'continente', 'oceano', 'rexión', 'paisaxe'],\n",
    "        'economy': ['economía', 'finanzas', 'mercado', 'comercio', 'negocio'],\n",
    "        'religion': ['relixión', 'creencia', 'fe', 'igrexa', 'espiritualidade']\n",
    "    }\n",
    "    \n",
    "    # Initialize a dictionary to count the occurrence of keywords in the text\n",
    "    keyword_count = {domain: 0 for domain in keywords}\n",
    "    \n",
    "    # Count occurrences of keywords in the text\n",
    "    for domain, domain_keywords in keywords.items():\n",
    "        keyword_count[domain] = sum(1 for keyword in domain_keywords if keyword in text.lower())\n",
    "    \n",
    "    # Get the domain with the maximum count of keywords\n",
    "    predicted_domain = max(keyword_count, key=keyword_count.get)\n",
    "    \n",
    "    return predicted_domain\n",
    "\n",
    "# Example usage:\n",
    "text_example = \"A intelixencia artificial está a revolucionar a industria tecnolóxica.\"\n",
    "domain = identify_domain(text_example)\n",
    "print(\"The text belongs to the domain of:\", domain)\n"
   ]
  },
  {
   "cell_type": "markdown",
   "id": "fd476271",
   "metadata": {},
   "source": [
    "**NOTE**\n",
    "\n",
    "I tried using stemmer but there's no official stemmer for Galician. I tried with the Portuguese one but the results weren't so good. \n",
    "\n",
    "I also tried different ways of adding domain to a row (without the need of being anotators) and this works quite fine in comparation to the others. "
   ]
  },
  {
   "cell_type": "code",
   "execution_count": 25,
   "id": "4d26b9a8",
   "metadata": {},
   "outputs": [],
   "source": [
    "train_gl['domain'] = train_gl['text'].apply(identify_domain)"
   ]
  },
  {
   "cell_type": "code",
   "execution_count": 26,
   "id": "4f77f3e6",
   "metadata": {},
   "outputs": [
    {
     "data": {
      "text/plain": [
       "domain\n",
       "technology    3256\n",
       "religion      2136\n",
       "art           1633\n",
       "legal         1237\n",
       "politics      1075\n",
       "education      544\n",
       "language       473\n",
       "health         350\n",
       "philosophy     325\n",
       "geography      283\n",
       "economy        241\n",
       "biology         72\n",
       "Name: count, dtype: int64"
      ]
     },
     "execution_count": 26,
     "metadata": {},
     "output_type": "execute_result"
    }
   ],
   "source": [
    "train_gl['domain'].value_counts()"
   ]
  },
  {
   "cell_type": "code",
   "execution_count": 27,
   "id": "219b96e9",
   "metadata": {},
   "outputs": [],
   "source": [
    "import pandas as pd\n",
    "\n",
    "def domain_sampling(df, n):\n",
    "    \"\"\"\n",
    "    Sample n rows of each domain from the DataFrame.\n",
    "\n",
    "    Parameters:\n",
    "    - df: DataFrame containing text data and corresponding labels.\n",
    "    - n: Number of rows to sample for each domain.\n",
    "\n",
    "    Returns:\n",
    "    - sampled_df: DataFrame containing n rows of each domain.\n",
    "    \"\"\"\n",
    "    # Dict where I'll put the sampled rows\n",
    "    sampled_data = {}\n",
    "    \n",
    "\n",
    "    for domain in df['domain'].unique():\n",
    "        sampled_data[domain] = df[df['domain'] == domain].sample(n, replace=True)\n",
    "    \n",
    "    sampled_df = pd.concat(sampled_data.values())\n",
    "    sampled_df = sampled_df.sample(frac=1).reset_index(drop=True)\n",
    "    \n",
    "    return sampled_df\n",
    "\n",
    "# This number comes from the lowest number of rows belonging to a domain\n",
    "n = 72  \n",
    "sampled_df = domain_sampling(train_gl, n)\n"
   ]
  },
  {
   "cell_type": "code",
   "execution_count": 28,
   "id": "f79fa1bb",
   "metadata": {},
   "outputs": [
    {
     "data": {
      "text/html": [
       "<div>\n",
       "<style scoped>\n",
       "    .dataframe tbody tr th:only-of-type {\n",
       "        vertical-align: middle;\n",
       "    }\n",
       "\n",
       "    .dataframe tbody tr th {\n",
       "        vertical-align: top;\n",
       "    }\n",
       "\n",
       "    .dataframe thead th {\n",
       "        text-align: right;\n",
       "    }\n",
       "</style>\n",
       "<table border=\"1\" class=\"dataframe\">\n",
       "  <thead>\n",
       "    <tr style=\"text-align: right;\">\n",
       "      <th></th>\n",
       "      <th>text</th>\n",
       "      <th>label</th>\n",
       "      <th>detected_language</th>\n",
       "      <th>domain</th>\n",
       "    </tr>\n",
       "  </thead>\n",
       "  <tbody>\n",
       "    <tr>\n",
       "      <th>0</th>\n",
       "      <td>Todo-los santos que son no ceo, xa non están a...</td>\n",
       "      <td>generated</td>\n",
       "      <td>gl</td>\n",
       "      <td>religion</td>\n",
       "    </tr>\n",
       "    <tr>\n",
       "      <th>1</th>\n",
       "      <td>A copa da raíña de hóckey a patíns é a segunda...</td>\n",
       "      <td>human</td>\n",
       "      <td>gl</td>\n",
       "      <td>religion</td>\n",
       "    </tr>\n",
       "    <tr>\n",
       "      <th>2</th>\n",
       "      <td>O potasio é un elemento químico da táboa perió...</td>\n",
       "      <td>human</td>\n",
       "      <td>gl</td>\n",
       "      <td>biology</td>\n",
       "    </tr>\n",
       "    <tr>\n",
       "      <th>3</th>\n",
       "      <td>A atrazina é un herbicida de tipo triazina, us...</td>\n",
       "      <td>human</td>\n",
       "      <td>gl</td>\n",
       "      <td>religion</td>\n",
       "    </tr>\n",
       "    <tr>\n",
       "      <th>4</th>\n",
       "      <td>O concello de zas foi sancionado con unha mult...</td>\n",
       "      <td>generated</td>\n",
       "      <td>gl</td>\n",
       "      <td>biology</td>\n",
       "    </tr>\n",
       "    <tr>\n",
       "      <th>...</th>\n",
       "      <td>...</td>\n",
       "      <td>...</td>\n",
       "      <td>...</td>\n",
       "      <td>...</td>\n",
       "    </tr>\n",
       "    <tr>\n",
       "      <th>847</th>\n",
       "      <td>De por que nas follas se xoga, e macar home po...</td>\n",
       "      <td>generated</td>\n",
       "      <td>gl</td>\n",
       "      <td>legal</td>\n",
       "    </tr>\n",
       "    <tr>\n",
       "      <th>848</th>\n",
       "      <td>\"embarcación (homónimos)\" é un termo que pode ...</td>\n",
       "      <td>generated</td>\n",
       "      <td>gl</td>\n",
       "      <td>legal</td>\n",
       "    </tr>\n",
       "    <tr>\n",
       "      <th>849</th>\n",
       "      <td>Creo que é unha boa entrevista, pero hai un pe...</td>\n",
       "      <td>generated</td>\n",
       "      <td>gl</td>\n",
       "      <td>education</td>\n",
       "    </tr>\n",
       "    <tr>\n",
       "      <th>850</th>\n",
       "      <td>Os expertos piden multilingüismo e convivencia...</td>\n",
       "      <td>generated</td>\n",
       "      <td>gl</td>\n",
       "      <td>language</td>\n",
       "    </tr>\n",
       "    <tr>\n",
       "      <th>851</th>\n",
       "      <td>O pasado domingo, un animado grupo de blogueir...</td>\n",
       "      <td>generated</td>\n",
       "      <td>gl</td>\n",
       "      <td>language</td>\n",
       "    </tr>\n",
       "  </tbody>\n",
       "</table>\n",
       "<p>852 rows × 4 columns</p>\n",
       "</div>"
      ],
      "text/plain": [
       "                                                  text      label  \\\n",
       "0    Todo-los santos que son no ceo, xa non están a...  generated   \n",
       "1    A copa da raíña de hóckey a patíns é a segunda...      human   \n",
       "2    O potasio é un elemento químico da táboa perió...      human   \n",
       "3    A atrazina é un herbicida de tipo triazina, us...      human   \n",
       "4    O concello de zas foi sancionado con unha mult...  generated   \n",
       "..                                                 ...        ...   \n",
       "847  De por que nas follas se xoga, e macar home po...  generated   \n",
       "848  \"embarcación (homónimos)\" é un termo que pode ...  generated   \n",
       "849  Creo que é unha boa entrevista, pero hai un pe...  generated   \n",
       "850  Os expertos piden multilingüismo e convivencia...  generated   \n",
       "851  O pasado domingo, un animado grupo de blogueir...  generated   \n",
       "\n",
       "    detected_language     domain  \n",
       "0                  gl   religion  \n",
       "1                  gl   religion  \n",
       "2                  gl    biology  \n",
       "3                  gl   religion  \n",
       "4                  gl    biology  \n",
       "..                ...        ...  \n",
       "847                gl      legal  \n",
       "848                gl      legal  \n",
       "849                gl  education  \n",
       "850                gl   language  \n",
       "851                gl   language  \n",
       "\n",
       "[852 rows x 4 columns]"
      ]
     },
     "execution_count": 28,
     "metadata": {},
     "output_type": "execute_result"
    }
   ],
   "source": [
    "sampled_df"
   ]
  },
  {
   "cell_type": "code",
   "execution_count": 29,
   "id": "642a09fc",
   "metadata": {},
   "outputs": [
    {
     "name": "stdout",
     "output_type": "stream",
     "text": [
      "F1 Score: 0.8234631018934238\n"
     ]
    }
   ],
   "source": [
    "# Use these new data with the sample\n",
    "train_test_svm(sampled_df)"
   ]
  },
  {
   "cell_type": "code",
   "execution_count": 30,
   "id": "66ad425e",
   "metadata": {},
   "outputs": [
    {
     "name": "stdout",
     "output_type": "stream",
     "text": [
      "F1 Score: 0.8427126046113866\n",
      "Confusion Matrix:\n",
      "[[357  73]\n",
      " [ 61 361]]\n"
     ]
    },
    {
     "data": {
      "image/png": "[encoded data removed]",
      "text/plain": [
       "<Figure size 576x432 with 2 Axes>"
      ]
     },
     "metadata": {
      "needs_background": "light"
     },
     "output_type": "display_data"
    }
   ],
   "source": [
    "from sklearn.model_selection import StratifiedGroupKFold, cross_val_predict\n",
    "from sklearn.metrics import f1_score, confusion_matrix\n",
    "from transformers import BertTokenizer, BertModel\n",
    "import torch\n",
    "import seaborn as sns\n",
    "import matplotlib.pyplot as plt\n",
    "\n",
    "def get_bert_embeddings(text, tokenizer, model):\n",
    "    inputs = tokenizer(text, return_tensors=\"pt\", padding=True, truncation=True)\n",
    "    with torch.no_grad():\n",
    "        outputs = model(**inputs)\n",
    "    cls_embedding = outputs.last_hidden_state[:, 0, :]\n",
    "    return cls_embedding.numpy()\n",
    "\n",
    "def train_cv_svm(df, n_splits=5):\n",
    "    # Load the BERT model and tokenizer\n",
    "    tokenizer = BertTokenizer.from_pretrained('bert-base-multilingual-cased')\n",
    "    model = BertModel.from_pretrained('bert-base-multilingual-cased')\n",
    "    \n",
    "    # Get the BERT embeddings for the entire dataframe\n",
    "    X_embeddings = [get_bert_embeddings(text, tokenizer, model) for text in df['text']]\n",
    "    X_embeddings = [embedding.squeeze() for embedding in X_embeddings]\n",
    "    \n",
    "    # Initialize the SVM model\n",
    "    svm_model = SVC(kernel='linear')\n",
    "    \n",
    "    # Initialize the Stratified Group K-Fold\n",
    "    sgkf = StratifiedGroupKFold(n_splits=n_splits)\n",
    "    \n",
    "    # Perform cross-validation and get predictions\n",
    "    y_pred = cross_val_predict(svm_model, X_embeddings, df['label'], cv=sgkf.split(X_embeddings, df['label'], groups=df['domain']))\n",
    "    \n",
    "    # Calculate the F1 score of the model\n",
    "    f1 = f1_score(df['label'], y_pred, average='weighted')\n",
    "    print(\"F1 Score:\", f1)\n",
    "    \n",
    "    # Calculate the confusion matrix\n",
    "    cm = confusion_matrix(df['label'], y_pred)\n",
    "    print(\"Confusion Matrix:\")\n",
    "    print(cm)\n",
    "    \n",
    "    # Visualize the confusion matrix\n",
    "    plt.figure(figsize=(8, 6))\n",
    "    sns.heatmap(cm, annot=True, fmt='d', cmap='Blues', xticklabels=['generated', 'human'], yticklabels=['generated', 'human'])\n",
    "    plt.xlabel('Predicted')\n",
    "    plt.ylabel('Actual')\n",
    "    plt.title('Confusion Matrix')\n",
    "    plt.show()\n",
    "\n",
    "# call function:\n",
    "train_cv_svm(sampled_df, n_splits=5)\n"
   ]
  },
  {
   "cell_type": "markdown",
   "id": "aecdf201",
   "metadata": {},
   "source": [
    "**NOTE**\n",
    "\n",
    "There is a BERT model trained with Galician texts called BERTINHO (dvilares/bertinho-gl-base-cased)\n"
   ]
  },
  {
   "cell_type": "code",
   "execution_count": null,
   "id": "3a823201",
   "metadata": {},
   "outputs": [],
   "source": []
  }
 ],
 "metadata": {
  "kernelspec": {
   "display_name": "Python 3",
   "language": "python",
   "name": "python3"
  },
  "language_info": {
   "codemirror_mode": {
    "name": "ipython",
    "version": 3
   },
   "file_extension": ".py",
   "mimetype": "text/x-python",
   "name": "python",
   "nbconvert_exporter": "python",
   "pygments_lexer": "ipython3",
   "version": "3.8.8"
  }
 },
 "nbformat": 4,
 "nbformat_minor": 5
}
