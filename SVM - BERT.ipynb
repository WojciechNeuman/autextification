{
 "cells": [
  {
   "cell_type": "markdown",
   "id": "90693892",
   "metadata": {},
   "source": [
    "# AuTextification"
   ]
  },
  {
   "cell_type": "markdown",
   "id": "18b2db08",
   "metadata": {},
   "source": [
    "## Libraries"
   ]
  },
  {
   "cell_type": "code",
   "execution_count": 1,
   "id": "4c65721d-6953-4c3a-9065-3e5c38b9f5d3",
   "metadata": {},
   "outputs": [],
   "source": [
    "import pandas as pd\n",
    "import numpy as np\n",
    "\n",
    "from sklearn.model_selection import train_test_split, cross_val_predict, GridSearchCV\n",
    "from sklearn.svm import SVC\n",
    "from sklearn.metrics import f1_score, confusion_matrix\n",
    "from transformers import BertTokenizer, BertModel\n",
    "import torch\n",
    "\n",
    "import seaborn as sns\n",
    "import matplotlib.pyplot as plt\n",
    "\n",
    "from nltk.stem import SnowballStemmer\n",
    "from collections import Counter\n",
    "\n",
    "\n",
    "import warnings\n",
    "\n",
    "# Suppress FutureWarning related to is_sparse\n",
    "warnings.filterwarnings(\"ignore\", category=FutureWarning)"
   ]
  },
  {
   "cell_type": "markdown",
   "id": "081a92ac",
   "metadata": {},
   "source": [
    "## Data"
   ]
  },
  {
   "cell_type": "code",
   "execution_count": 2,
   "id": "cb33a32b",
   "metadata": {},
   "outputs": [],
   "source": [
    "root = './data/competition_2024/data_lang_identified/'\n",
    "train_en = pd.read_csv(root+'train_en.csv')\n",
    "train_es = pd.read_csv(root+'train_es.csv')\n",
    "train_pt = pd.read_csv(root+'train_pt.csv')\n",
    "train_ca = pd.read_csv(root+'train_ca.csv')\n",
    "train_eu = pd.read_csv(root+'train_eu.csv')\n",
    "train_gl = pd.read_csv(root+'train_gl.csv')\n",
    "\n",
    "# train = pd.read_csv(root+'train.csv')"
   ]
  },
  {
   "cell_type": "code",
   "execution_count": null,
   "id": "c21e6831",
   "metadata": {},
   "outputs": [],
   "source": [
    "# train = pd.read_csv('C:/Users/34686/3CD - 23_24/PROY III/autextification/data_24/subtask1.csv').drop(columns='Unnamed: 0')"
   ]
  },
  {
   "cell_type": "markdown",
   "id": "f2081e98",
   "metadata": {},
   "source": [
    "# Domains"
   ]
  },
  {
   "cell_type": "code",
   "execution_count": 3,
   "id": "2be96b0e",
   "metadata": {},
   "outputs": [],
   "source": [
    "from nltk.stem import SnowballStemmer\n",
    "\n",
    "# Initialize Snowball stemmer for English\n",
    "stemmer_en = SnowballStemmer(\"english\")\n",
    "stemmer_es = SnowballStemmer(\"spanish\")\n",
    "stemmer_pt = SnowballStemmer(\"portuguese\")\n",
    "\n",
    "\n",
    "\n",
    "# Define keywords for each domain in English with only the root of each word\n",
    "k_en = {\n",
    "    'technology': [stemmer_en.stem(word) for word in ['technology', 'informatics', 'software', 'artificial intelligence', 'computing']],\n",
    "    'health': [stemmer_en.stem(word) for word in ['health', 'medical', 'diseases', 'treatment', 'medicine']],\n",
    "    'legal': [stemmer_en.stem(word) for word in ['law', 'legal', 'legal', 'lawyer', 'rights']],\n",
    "    'politics': [stemmer_en.stem(word) for word in ['politics', 'government', 'elections', 'party', 'democracy']],\n",
    "    'philosophy': [stemmer_en.stem(word) for word in ['philosophy', 'metaphysics', 'ethics', 'epistemology', 'logic']],\n",
    "    'language': [stemmer_en.stem(word) for word in ['language', 'language', 'grammar', 'vocabulary', 'linguistics']],\n",
    "    'art': [stemmer_en.stem(word) for word in ['art', 'painting', 'music', 'sculpture', 'dance']],\n",
    "    'biology': [stemmer_en.stem(word) for word in ['biology', 'biological', 'organism', 'cell', 'genetics']],\n",
    "    'education': [stemmer_en.stem(word) for word in ['education', 'school', 'student', 'teacher', 'learning']],\n",
    "    'geography': [stemmer_en.stem(word) for word in ['geography', 'continent', 'ocean', 'region', 'landscape']],\n",
    "    'economy': [stemmer_en.stem(word) for word in ['economy', 'finance', 'market', 'trade', 'business']],\n",
    "    'religion': [stemmer_en.stem(word) for word in ['religion', 'belief', 'faith', 'church', 'spirituality']]\n",
    "}\n",
    "\n",
    "# Define keywords for each domain in English\n",
    "keywords = {\n",
    "    'technology': ['technology', 'informatics', 'software', 'artificial intelligence', 'computing'],\n",
    "    'health': ['health', 'medical', 'diseases', 'treatment', 'medicine'],\n",
    "    'legal': ['law', 'legal', 'legal', 'lawyer', 'rights'],\n",
    "    'politics': ['politics', 'government', 'elections', 'party', 'democracy'],\n",
    "    'philosophy': ['philosophy', 'metaphysics', 'ethics', 'epistemology', 'logic'],\n",
    "    'language': ['language', 'language', 'grammar', 'vocabulary', 'linguistics'],\n",
    "    'art': ['art', 'painting', 'music', 'sculpture', 'dance'],\n",
    "    'biology': ['biology', 'biological', 'organism', 'cell', 'genetics'],\n",
    "    'education': ['education', 'school', 'student', 'teacher', 'learning'],\n",
    "    'geography': ['geography', 'continent', 'ocean', 'region', 'landscape'],\n",
    "    'economy': ['economy', 'finance', 'market', 'trade', 'business'],\n",
    "    'religion': ['religion', 'belief', 'faith', 'church', 'spirituality']\n",
    "}\n",
    "\n",
    "k_es = {\n",
    "    'tecnología': [stemmer_es.stem(word) for word in ['tecnología', 'informática', 'software', 'inteligencia artificial', 'computación']],\n",
    "    'salud': [stemmer_es.stem(word) for word in ['salud', 'médico', 'enfermedades', 'tratamiento', 'medicina']],\n",
    "    'legal': [stemmer_es.stem(word) for word in ['ley', 'legal', 'abogado', 'derechos']],\n",
    "    'política': [stemmer_es.stem(word) for word in ['política', 'gobierno', 'elecciones', 'partido', 'democracia']],\n",
    "    'filosofía': [stemmer_es.stem(word) for word in ['filosofía', 'metafísica', 'ética', 'epistemología', 'lógica']],\n",
    "    'lenguaje': [stemmer_es.stem(word) for word in ['lenguaje', 'idioma', 'gramática', 'vocabulario', 'lingüística']],\n",
    "    'arte': [stemmer_es.stem(word) for word in ['arte', 'pintura', 'música', 'escultura', 'baile']],\n",
    "    'biología': [stemmer_es.stem(word) for word in ['biología', 'biológico', 'organismo', 'célula', 'genética']],\n",
    "    'educación': [stemmer_es.stem(word) for word in ['educación', 'escuela', 'estudiante', 'profesor', 'aprendizaje']],\n",
    "    'geografía': [stemmer_es.stem(word) for word in ['geografía', 'continente', 'océano', 'región', 'paisaje']],\n",
    "    'economía': [stemmer_es.stem(word) for word in ['economía', 'finanzas', 'mercado', 'comercio', 'negocio']],\n",
    "    'religión': [stemmer_es.stem(word) for word in ['religión', 'creencia', 'fe', 'iglesia', 'espiritualidad']]\n",
    "}\n",
    "\n",
    "k_pt = {\n",
    "    'tecnologia': [stemmer_pt.stem(word) for word in ['tecnologia', 'informática', 'software', 'inteligência artificial', 'computação']],\n",
    "    'saúde': [stemmer_pt.stem(word) for word in ['saúde', 'médico', 'doenças', 'tratamento', 'medicina']],\n",
    "    'legal': [stemmer_pt.stem(word) for word in ['lei', 'legal', 'advogado', 'direitos']],\n",
    "    'política': [stemmer_pt.stem(word) for word in ['política', 'governo', 'eleições', 'partido', 'democracia']],\n",
    "    'filosofia': [stemmer_pt.stem(word) for word in ['filosofia', 'metafísica', 'ética', 'epistemologia', 'lógica']],\n",
    "    'língua': [stemmer_pt.stem(word) for word in ['língua', 'idioma', 'gramática', 'vocabulário', 'linguística']],\n",
    "    'arte': [stemmer_pt.stem(word) for word in ['arte', 'pintura', 'música', 'escultura', 'dança']],\n",
    "    'biologia': [stemmer_pt.stem(word) for word in ['biologia', 'biológico', 'organismo', 'célula', 'genética']],\n",
    "    'educação': [stemmer_pt.stem(word) for word in ['educação', 'escola', 'estudante', 'professor', 'aprendizagem']],\n",
    "    'geografia': [stemmer_pt.stem(word) for word in ['geografia', 'continente', 'oceano', 'região', 'paisagem']],\n",
    "    'economia': [stemmer_pt.stem(word) for word in ['economia', 'finanças', 'mercado', 'comércio', 'negócio']],\n",
    "    'religião': [stemmer_pt.stem(word) for word in ['religião', 'crença', 'fé', 'igreja', 'espiritualidade']]\n",
    "}\n"
   ]
  },
  {
   "cell_type": "code",
   "execution_count": 4,
   "id": "6bfc6aeb",
   "metadata": {},
   "outputs": [],
   "source": [
    "\n",
    "k_ca = {\n",
    "    'tecnologia': ['tecnologia', 'informàtica', 'programari', 'intel·ligència artificial', 'computació'],\n",
    "    'salut': ['salut', 'mèdic', 'malalties', 'tractament', 'medicina'],\n",
    "    'legal': ['llei', 'legal', 'advocat', 'drets'],\n",
    "    'política': ['política', 'govern', 'eleccions', 'partit', 'democràcia'],\n",
    "    'filosofia': ['filosofia', 'metafísica', 'ètica', 'epistemologia', 'lògica'],\n",
    "    'llengua': ['llengua', 'idioma', 'gramàtica', 'vocabulari', 'lingüística'],\n",
    "    'art': ['art', 'pintura', 'música', 'escultura', 'dansa'],\n",
    "    'biologia': ['biologia', 'biològic', 'organisme', 'cèl·lula', 'genètica'],\n",
    "    'educació': ['educació', 'escola', 'estudiant', 'professor', 'aprenentatge'],\n",
    "    'geografia': ['geografia', 'continent', 'oceà', 'regió', 'paisatge'],\n",
    "    'economia': ['economia', 'finances', 'mercat', 'comerç', 'negoci'],\n",
    "    'religió': ['religió', 'creença', 'fe', 'església', 'espiritualitat']\n",
    "}\n",
    "\n",
    "k_eu = {\n",
    "    'teknologia': ['teknologia', 'informatika', 'software', 'artificial intelligenzia', 'konputazioa'],\n",
    "    'osasuna': ['osasuna', 'medikuntza', 'gaixotasunak', 'tratamendua', 'medikuntza'],\n",
    "    'legala': ['legea', 'legala', 'abokatua', 'eskubideak'],\n",
    "    'politika': ['politika', 'gobiernoa', 'hauteskundeak', 'alderdia', 'demokrazia'],\n",
    "    'filosofia': ['filosofia', 'metafisika', 'etika', 'epistemologia', 'logika'],\n",
    "    'hizkuntza': ['hizkuntza', 'idioma', 'gramatika', 'hiztegia', 'linguistika'],\n",
    "    'artea': ['artea', 'margolari', 'musika', 'eskultura', 'dantza'],\n",
    "    'biologia': ['biologia', 'biologikoa', 'organismoa', 'zelaia', 'genetika'],\n",
    "    'hezkuntza': ['hezkuntza', 'eskola', 'ikasle', 'irakasle', 'ikaskuntza'],\n",
    "    'geografia': ['geografia', 'kontinentea', 'itsasoa', 'eremu', 'paisaia'],\n",
    "    'ekonomia': ['ekonomia', 'finantzak', 'merkatua', 'komertzioa', 'negozioa'],\n",
    "    'erlijioa': ['erlijioa', 'sinestea', 'fedea', 'eliza', 'espiritualtasuna']\n",
    "}\n",
    "\n",
    "k_gl = {\n",
    "    'tecnoloxía': ['tecnoloxía', 'informática', 'software', 'intelixencia artificial', 'computación'],\n",
    "    'saúde': ['saúde', 'médico', 'enfermidades', 'tratamento', 'medicina'],\n",
    "    'legal': ['lei', 'legal', 'avogado', 'dereitos'],\n",
    "    'política': ['política', 'goberno', 'eleccións', 'partido', 'democracia'],\n",
    "    'filosofía': ['filosofía', 'metafísica', 'ética', 'epistemoloxía', 'lóxica'],\n",
    "    'lingua': ['lingua', 'idioma', 'gramática', 'vocabulario', 'lingüística'],\n",
    "    'arte': ['arte', 'pintura', 'música', 'escultura', 'baile'],\n",
    "    'bioloxía': ['bioloxía', 'biolóxico', 'organismo', 'célula', 'xenética'],\n",
    "    'educación': ['educación', 'escola', 'estudante', 'profesor', 'aprendizaxe'],\n",
    "    'xeografía': ['xeografía', 'continente', 'océano', 'rexión', 'paisaxe'],\n",
    "    'economía': ['economía', 'finanzas', 'mercado', 'comercio', 'negocio'],\n",
    "    'relixión': ['religión', 'crenza', 'fe', 'igrexa', 'espiritualidade']\n",
    "}\n",
    "\n"
   ]
  },
  {
   "cell_type": "markdown",
   "id": "c55c4253",
   "metadata": {},
   "source": [
    "## Useful functions"
   ]
  },
  {
   "cell_type": "code",
   "execution_count": 7,
   "id": "afb14543",
   "metadata": {},
   "outputs": [],
   "source": [
    "\n",
    "def identify_domains(text, keywords=k_en, stemmer= None):\n",
    "    \"\"\"\n",
    "    Identify the domain with the most occurrences of keywords in a given text.\n",
    "    \"\"\"\n",
    "    if stemmer is not None:\n",
    "    # Tokenize the text and stem the tokens\n",
    "        tokens = [stemmer.stem(token) for token in text.lower().split()]\n",
    "    else:\n",
    "        tokens = [token for token in text.lower().split()]\n",
    "    \n",
    "    # Count occurrences of stemmed tokens in the text for each domain\n",
    "    domain_counts = Counter()\n",
    "    for domain, domain_keywords in keywords.items():\n",
    "        domain_counts[domain] = sum(1 for keyword in domain_keywords if keyword in tokens)\n",
    "    \n",
    "    # Get the domain with the maximum count of keywords\n",
    "    predicted_domain = domain_counts.most_common(1)[0][0]\n",
    "    \n",
    "    return predicted_domain\n",
    "\n",
    "\n",
    "def domain_sampling(df, n):\n",
    "    \"\"\"\n",
    "    Sample n rows of each domain from the DataFrame.\n",
    "\n",
    "    Parameters:\n",
    "    - df: DataFrame containing text data and corresponding labels.\n",
    "    - n: Number of rows to sample for each domain.\n",
    "\n",
    "    Returns:\n",
    "    - sampled_df: DataFrame containing n rows of each domain.\n",
    "    \"\"\"\n",
    "    # Dict where I'll put the sampled rows\n",
    "    sampled_data = {}\n",
    "    \n",
    "    for domain in df['domain'].unique():\n",
    "        sampled_data[domain] = df[df['domain'] == domain].sample(n, replace=True)\n",
    "    \n",
    "    sampled_df = pd.concat(sampled_data.values())\n",
    "    sampled_df = sampled_df.sample(frac=1).reset_index(drop=True)\n",
    "    \n",
    "    return sampled_df\n"
   ]
  },
  {
   "cell_type": "code",
   "execution_count": 10,
   "id": "abc732db",
   "metadata": {},
   "outputs": [],
   "source": [
    "train_en['domain'] = train_en['text'].apply(identify_domains, keywords=k_en, stemmer=stemmer_en)"
   ]
  },
  {
   "cell_type": "code",
   "execution_count": 14,
   "id": "e096dbc2",
   "metadata": {},
   "outputs": [],
   "source": [
    "train_es['domain'] = train_es['text'].apply(identify_domains, keywords=k_es, stemmer=stemmer_es)"
   ]
  },
  {
   "cell_type": "code",
   "execution_count": 15,
   "id": "5c347742",
   "metadata": {},
   "outputs": [],
   "source": [
    "train_pt['domain'] = train_pt['text'].apply(identify_domains, keywords=k_pt, stemmer=stemmer_pt)"
   ]
  },
  {
   "cell_type": "code",
   "execution_count": 11,
   "id": "69d49006",
   "metadata": {},
   "outputs": [],
   "source": [
    "train_ca['domain'] = train_ca['text'].apply(identify_domains, keywords=k_ca)"
   ]
  },
  {
   "cell_type": "code",
   "execution_count": 12,
   "id": "55542747",
   "metadata": {},
   "outputs": [],
   "source": [
    "train_eu['domain'] = train_eu['text'].apply(identify_domains, keywords=k_eu)"
   ]
  },
  {
   "cell_type": "code",
   "execution_count": 13,
   "id": "df269150",
   "metadata": {},
   "outputs": [],
   "source": [
    "train_gl['domain'] = train_gl['text'].apply(identify_domains, keywords=k_gl)"
   ]
  },
  {
   "cell_type": "markdown",
   "id": "e1d05082",
   "metadata": {},
   "source": [
    "## Some stats"
   ]
  },
  {
   "cell_type": "code",
   "execution_count": 58,
   "id": "fd1a11d5",
   "metadata": {},
   "outputs": [],
   "source": [
    "def stats(df, language, n=None):\n",
    "    print(f'---{language}---')\n",
    "    print()\n",
    "    print(df['domain'].value_counts())\n",
    "    print()\n",
    "    print(df['label'].value_counts())\n",
    "    print()\n",
    "    \n",
    "    \n",
    "    if n is None:\n",
    "        n = min(df['domain'].value_counts())\n",
    "    \n",
    "    ifsampling = domain_sampling(df, n)\n",
    "    print(f'---{language} if sampling ---')\n",
    "#     print()\n",
    "#     print(ifsampling['domain'].value_counts())\n",
    "    print()\n",
    "    print(ifsampling['label'].value_counts())\n",
    "    return ifsampling\n",
    "    "
   ]
  },
  {
   "cell_type": "code",
   "execution_count": 60,
   "id": "88d2db71",
   "metadata": {},
   "outputs": [
    {
     "name": "stdout",
     "output_type": "stream",
     "text": [
      "---English---\n",
      "\n",
      "domain\n",
      "technology    14651\n",
      "politics       2069\n",
      "legal          1936\n",
      "art            1597\n",
      "education      1480\n",
      "health         1266\n",
      "economy        1018\n",
      "geography       556\n",
      "biology         365\n",
      "religion        355\n",
      "language        317\n",
      "philosophy       92\n",
      "Name: count, dtype: int64\n",
      "\n",
      "label\n",
      "generated    13869\n",
      "human        11833\n",
      "Name: count, dtype: int64\n",
      "\n",
      "---English if sampling ---\n",
      "\n",
      "label\n",
      "generated    631\n",
      "human        473\n",
      "Name: count, dtype: int64\n"
     ]
    }
   ],
   "source": [
    "new_en = stats(train_en, 'English')"
   ]
  },
  {
   "cell_type": "code",
   "execution_count": 61,
   "id": "34d5d4db",
   "metadata": {},
   "outputs": [
    {
     "name": "stdout",
     "output_type": "stream",
     "text": [
      "---Spanish---\n",
      "\n",
      "domain\n",
      "tecnología    11977\n",
      "política       4273\n",
      "salud          1111\n",
      "educación      1047\n",
      "legal          1003\n",
      "geografía       801\n",
      "arte            684\n",
      "economía        480\n",
      "religión        260\n",
      "biología        225\n",
      "lenguaje        143\n",
      "filosofía       115\n",
      "Name: count, dtype: int64\n",
      "\n",
      "label\n",
      "human        11672\n",
      "generated    10447\n",
      "Name: count, dtype: int64\n",
      "\n",
      "---Spanish if sampling ---\n",
      "\n",
      "label\n",
      "generated    721\n",
      "human        659\n",
      "Name: count, dtype: int64\n"
     ]
    }
   ],
   "source": [
    "new_es = stats(train_es, 'Spanish')"
   ]
  },
  {
   "cell_type": "code",
   "execution_count": 62,
   "id": "78b57a1e",
   "metadata": {},
   "outputs": [
    {
     "name": "stdout",
     "output_type": "stream",
     "text": [
      "---Portuguese---\n",
      "\n",
      "domain\n",
      "tecnologia    10704\n",
      "política       3797\n",
      "saúde           924\n",
      "educação        846\n",
      "legal           845\n",
      "geografia       699\n",
      "arte            670\n",
      "economia        439\n",
      "religião        234\n",
      "língua          214\n",
      "filosofia        80\n",
      "biologia         70\n",
      "Name: count, dtype: int64\n",
      "\n",
      "label\n",
      "human        10022\n",
      "generated     9500\n",
      "Name: count, dtype: int64\n",
      "\n",
      "---Portuguese if sampling ---\n",
      "\n",
      "label\n",
      "generated    430\n",
      "human        410\n",
      "Name: count, dtype: int64\n"
     ]
    }
   ],
   "source": [
    "new_pt = stats(train_pt, 'Portuguese')"
   ]
  },
  {
   "cell_type": "code",
   "execution_count": 63,
   "id": "98190be7",
   "metadata": {},
   "outputs": [
    {
     "name": "stdout",
     "output_type": "stream",
     "text": [
      "---Catalan---\n",
      "\n",
      "domain\n",
      "tecnologia    11259\n",
      "política       1820\n",
      "legal           606\n",
      "geografia       555\n",
      "art             510\n",
      "salut           468\n",
      "educació        269\n",
      "economia        267\n",
      "llengua         213\n",
      "religió         117\n",
      "filosofia        71\n",
      "biologia         40\n",
      "Name: count, dtype: int64\n",
      "\n",
      "label\n",
      "generated    9717\n",
      "human        6478\n",
      "Name: count, dtype: int64\n",
      "\n",
      "---Catalan if sampling ---\n",
      "\n",
      "label\n",
      "generated    279\n",
      "human        201\n",
      "Name: count, dtype: int64\n"
     ]
    }
   ],
   "source": [
    "new_ca = stats(train_ca, 'Catalan')"
   ]
  },
  {
   "cell_type": "code",
   "execution_count": 64,
   "id": "74c33310",
   "metadata": {},
   "outputs": [
    {
     "name": "stdout",
     "output_type": "stream",
     "text": [
      "---Basque---\n",
      "\n",
      "domain\n",
      "teknologia    10798\n",
      "artea           612\n",
      "hezkuntza       445\n",
      "ekonomia        357\n",
      "hizkuntza       326\n",
      "geografia       290\n",
      "politika        149\n",
      "legala          135\n",
      "erlijioa        118\n",
      "osasuna         106\n",
      "filosofia        42\n",
      "biologia         41\n",
      "Name: count, dtype: int64\n",
      "\n",
      "label\n",
      "generated    8423\n",
      "human        4996\n",
      "Name: count, dtype: int64\n",
      "\n",
      "---Basque if sampling ---\n",
      "\n",
      "label\n",
      "generated    294\n",
      "human        198\n",
      "Name: count, dtype: int64\n"
     ]
    }
   ],
   "source": [
    "new_eu = stats(train_eu, 'Basque')"
   ]
  },
  {
   "cell_type": "code",
   "execution_count": 65,
   "id": "c7cde955",
   "metadata": {},
   "outputs": [
    {
     "name": "stdout",
     "output_type": "stream",
     "text": [
      "---Galician---\n",
      "\n",
      "domain\n",
      "tecnoloxía    6799\n",
      "política       965\n",
      "arte           675\n",
      "educación      462\n",
      "lingua         445\n",
      "xeografía      379\n",
      "legal          365\n",
      "economía       326\n",
      "saúde          314\n",
      "relixión       226\n",
      "bioloxía        73\n",
      "filosofía       66\n",
      "Name: count, dtype: int64\n",
      "\n",
      "label\n",
      "generated    5924\n",
      "human        5171\n",
      "Name: count, dtype: int64\n",
      "\n",
      "---Galician if sampling ---\n",
      "\n",
      "label\n",
      "human        409\n",
      "generated    383\n",
      "Name: count, dtype: int64\n"
     ]
    }
   ],
   "source": [
    "new_gl = stats(train_gl, 'Galician')"
   ]
  },
  {
   "cell_type": "markdown",
   "id": "95f027f0",
   "metadata": {},
   "source": [
    "# Models: SVM - Text representation `Multilingual BERT`"
   ]
  },
  {
   "cell_type": "markdown",
   "id": "fd476271",
   "metadata": {},
   "source": [
    "**NOTE galician**\n",
    "\n",
    "I tried using stemmer but there's no official stemmer for Galician. I tried with the Portuguese one but the results weren't so good. I also tried different ways of adding domain to a row (without the need of being anotators) and this works quite fine in comparation to the others. \n",
    "\n",
    "There is a BERT model trained with Galician texts called BERTINHO (dvilares/bertinho-gl-base-cased)\n"
   ]
  },
  {
   "cell_type": "code",
   "execution_count": 67,
   "id": "b87119c4",
   "metadata": {},
   "outputs": [],
   "source": [
    "from transformers import BertTokenizer\n",
    "\n",
    "# Crear una instancia de BertTokenizer\n",
    "berTokenizer = BertTokenizer.from_pretrained('bert-base-multilingual-cased')\n",
    "from transformers import BertModel\n",
    "\n",
    "# Cargar el modelo BERT pre-entrenado\n",
    "bertModel = BertModel.from_pretrained('bert-base-multilingual-cased')\n"
   ]
  },
  {
   "cell_type": "code",
   "execution_count": 68,
   "id": "29336194",
   "metadata": {},
   "outputs": [],
   "source": [
    "def get_bert_embeddings(text, tokenizer, model):\n",
    "    \"\"\"\n",
    "    Function to obtain the BERT embedding from a text\n",
    "    \"\"\"\n",
    "    inputs = tokenizer(text, return_tensors=\"pt\", padding=True, truncation=True)\n",
    "    with torch.no_grad():\n",
    "        outputs = model(**inputs)\n",
    "    cls_embedding = outputs.last_hidden_state[:, 0, :]\n",
    "    return cls_embedding.numpy()\n",
    "\n",
    "\n",
    "\n",
    "def train_cv_svm(df, n_splits=5, tokenizer = berTokenizer, model = bertModel):\n",
    "    \"\"\"\n",
    "    function that receives a dataframe and trains a support vector machine\n",
    "    classification mother using get_bert_embeddings\n",
    "    \n",
    "    it additionally uses a cross validation scheme to check results\n",
    "    \"\"\"\n",
    "    \n",
    "    # Getting word embeddings\n",
    "    X_embeddings = [get_bert_embeddings(text, tokenizer, model) for text in df['text']]\n",
    "    X_embeddings = [embedding.squeeze() for embedding in X_embeddings]\n",
    "    \n",
    "    # SVM model\n",
    "    svm_model = SVC(kernel='linear')\n",
    "    \n",
    "    # Cross validation\n",
    "    y_pred = cross_val_predict(svm_model, X_embeddings, df['label'], cv=n_splits)\n",
    "    \n",
    "    f1 = f1_score(df['label'], y_pred, average='weighted')\n",
    "    print(\"F1 Score:\", f1)\n",
    "    \n",
    "    cm = confusion_matrix(df['label'], y_pred)\n",
    "    print(\"Confusion Matrix:\")\n",
    "    print(cm)\n",
    "    \n",
    "    # Get confusion matrix\n",
    "    plt.figure(figsize=(8, 6))\n",
    "    sns.heatmap(cm, annot=True, fmt='d', cmap='Blues', xticklabels=['generated', 'human'], yticklabels=['generated', 'human'])\n",
    "    plt.xlabel('Predicted')\n",
    "    plt.ylabel('Actual')\n",
    "    plt.title('Confusion Matrix')\n",
    "    plt.show()\n",
    "\n",
    "    return X_embeddings, svm_model, y_pred\n"
   ]
  },
  {
   "cell_type": "code",
   "execution_count": 69,
   "id": "ae86b638",
   "metadata": {},
   "outputs": [
    {
     "name": "stdout",
     "output_type": "stream",
     "text": [
      "F1 Score: 0.8876510374398726\n",
      "Confusion Matrix:\n",
      "[[570  61]\n",
      " [ 63 410]]\n"
     ]
    },
    {
     "data": {
      "image/png": "[encoded data removed]",
      "text/plain": [
       "<Figure size 576x432 with 2 Axes>"
      ]
     },
     "metadata": {
      "needs_background": "light"
     },
     "output_type": "display_data"
    }
   ],
   "source": [
    "wem_en, svm_en, pred_en = train_cv_svm(new_en)"
   ]
  },
  {
   "cell_type": "code",
   "execution_count": 70,
   "id": "320418c8",
   "metadata": {},
   "outputs": [
    {
     "name": "stdout",
     "output_type": "stream",
     "text": [
      "F1 Score: 0.8905832218571531\n",
      "Confusion Matrix:\n",
      "[[645  76]\n",
      " [ 75 584]]\n"
     ]
    },
    {
     "data": {
      "image/png": "[encoded data removed]",
      "text/plain": [
       "<Figure size 576x432 with 2 Axes>"
      ]
     },
     "metadata": {
      "needs_background": "light"
     },
     "output_type": "display_data"
    }
   ],
   "source": [
    "wem_es, svm_es, pred_es = train_cv_svm(new_es)"
   ]
  },
  {
   "cell_type": "code",
   "execution_count": 71,
   "id": "7aa9bdc4",
   "metadata": {},
   "outputs": [
    {
     "name": "stdout",
     "output_type": "stream",
     "text": [
      "F1 Score: 0.9023499277352766\n",
      "Confusion Matrix:\n",
      "[[393  37]\n",
      " [ 45 365]]\n"
     ]
    },
    {
     "data": {
      "image/png": "[encoded data removed]",
      "text/plain": [
       "<Figure size 576x432 with 2 Axes>"
      ]
     },
     "metadata": {
      "needs_background": "light"
     },
     "output_type": "display_data"
    }
   ],
   "source": [
    "wem_pt, svm_pt, pred_pt = train_cv_svm(new_pt)"
   ]
  },
  {
   "cell_type": "code",
   "execution_count": 72,
   "id": "1519713b",
   "metadata": {},
   "outputs": [
    {
     "name": "stdout",
     "output_type": "stream",
     "text": [
      "F1 Score: 0.8645356086527867\n",
      "Confusion Matrix:\n",
      "[[247  32]\n",
      " [ 33 168]]\n"
     ]
    },
    {
     "data": {
      "image/png": "[encoded data removed]",
      "text/plain": [
       "<Figure size 576x432 with 2 Axes>"
      ]
     },
     "metadata": {
      "needs_background": "light"
     },
     "output_type": "display_data"
    }
   ],
   "source": [
    "wem_ca, svm_ca, pred_ca = train_cv_svm(new_ca)"
   ]
  },
  {
   "cell_type": "code",
   "execution_count": 73,
   "id": "83613598",
   "metadata": {},
   "outputs": [
    {
     "name": "stdout",
     "output_type": "stream",
     "text": [
      "F1 Score: 0.9166319228041522\n",
      "Confusion Matrix:\n",
      "[[274  20]\n",
      " [ 21 177]]\n"
     ]
    },
    {
     "data": {
      "image/png": "[encoded data removed]",
      "text/plain": [
       "<Figure size 576x432 with 2 Axes>"
      ]
     },
     "metadata": {
      "needs_background": "light"
     },
     "output_type": "display_data"
    }
   ],
   "source": [
    "wem_eu, svm_eu, pred_eu = train_cv_svm(new_eu)"
   ]
  },
  {
   "cell_type": "code",
   "execution_count": 74,
   "id": "caaf9e52",
   "metadata": {},
   "outputs": [
    {
     "name": "stdout",
     "output_type": "stream",
     "text": [
      "F1 Score: 0.8851055940396853\n",
      "Confusion Matrix:\n",
      "[[338  45]\n",
      " [ 46 363]]\n"
     ]
    },
    {
     "data": {
      "image/png": "[encoded data removed]",
      "text/plain": [
       "<Figure size 576x432 with 2 Axes>"
      ]
     },
     "metadata": {
      "needs_background": "light"
     },
     "output_type": "display_data"
    }
   ],
   "source": [
    "wem_gl, svm_gl, pred_gl = train_cv_svm (new_gl)"
   ]
  },
  {
   "cell_type": "code",
   "execution_count": 82,
   "id": "5c65f42b",
   "metadata": {},
   "outputs": [],
   "source": [
    "def train_test(corpus, test=0.2):\n",
    "    x_train, x_test, y_train, y_test = train_test_split(corpus.loc[:'text'],\n",
    "                                                       corpus['label'], test_size=test, random_state=42)\n",
    "    print(\"Dimensions of Training subset\")\n",
    "    print(x_train.shape)\n",
    "    print(x_test.shape)\n",
    "    \n",
    "    print(\"Dimensions of Testing subset\")\n",
    "    print(y_train.shape)\n",
    "    print(y_test.shape)\n",
    "    print()\n",
    "          \n",
    "    return x_train['text'], x_test['text'], y_train, y_test"
   ]
  },
  {
   "cell_type": "code",
   "execution_count": 83,
   "id": "f9ef1237",
   "metadata": {},
   "outputs": [
    {
     "name": "stdout",
     "output_type": "stream",
     "text": [
      "Dimensions of Training subset\n",
      "(883, 8)\n",
      "(221, 8)\n",
      "Dimensions of Testing subset\n",
      "(883,)\n",
      "(221,)\n",
      "\n",
      "Dimensions of Training subset\n",
      "(1104, 8)\n",
      "(276, 8)\n",
      "Dimensions of Testing subset\n",
      "(1104,)\n",
      "(276,)\n",
      "\n",
      "Dimensions of Training subset\n",
      "(384, 8)\n",
      "(96, 8)\n",
      "Dimensions of Testing subset\n",
      "(384,)\n",
      "(96,)\n",
      "\n",
      "Dimensions of Training subset\n",
      "(393, 8)\n",
      "(99, 8)\n",
      "Dimensions of Testing subset\n",
      "(393,)\n",
      "(99,)\n",
      "\n",
      "Dimensions of Training subset\n",
      "(633, 8)\n",
      "(159, 8)\n",
      "Dimensions of Testing subset\n",
      "(633,)\n",
      "(159,)\n",
      "\n",
      "Dimensions of Training subset\n",
      "(672, 8)\n",
      "(168, 8)\n",
      "Dimensions of Testing subset\n",
      "(672,)\n",
      "(168,)\n",
      "\n"
     ]
    }
   ],
   "source": [
    "x_train_en, x_test_en, y_train_en, y_test_en = train_test(new_en, 0.2)\n",
    "x_train_es, x_test_es, y_train_es, y_test_es = train_test(new_es, 0.2)\n",
    "x_train_ca, x_test_ca, y_train_ca, y_test_ca = train_test(new_ca, 0.2)\n",
    "x_train_eu, x_test_eu, y_train_eu, y_test_eu = train_test(new_eu, 0.2)\n",
    "x_train_gl, x_test_gl, y_train_gl, y_test_gl = train_test(new_gl, 0.2)\n",
    "x_train_pt, x_test_pt, y_train_pt, y_test_pt = train_test(new_pt, 0.2)"
   ]
  },
  {
   "cell_type": "code",
   "execution_count": 103,
   "id": "59872f82",
   "metadata": {},
   "outputs": [],
   "source": [
    "def myshape(vec):\n",
    "    print(len(vec), len(vec[0]))"
   ]
  },
  {
   "cell_type": "code",
   "execution_count": 105,
   "id": "0fc2588b",
   "metadata": {},
   "outputs": [
    {
     "name": "stdout",
     "output_type": "stream",
     "text": [
      "1104 768\n",
      "1380 768\n",
      "840 768\n",
      "480 768\n",
      "492 768\n",
      "792 768\n"
     ]
    }
   ],
   "source": [
    "myshape(wem_en)\n",
    "myshape(wem_es)\n",
    "myshape(wem_pt)\n",
    "myshape(wem_ca)\n",
    "myshape(wem_eu)\n",
    "myshape(wem_gl)\n",
    "\n"
   ]
  },
  {
   "cell_type": "code",
   "execution_count": null,
   "id": "bcd17a1d",
   "metadata": {},
   "outputs": [],
   "source": []
  }
 ],
 "metadata": {
  "kernelspec": {
   "display_name": "Python 3",
   "language": "python",
   "name": "python3"
  },
  "language_info": {
   "codemirror_mode": {
    "name": "ipython",
    "version": 3
   },
   "file_extension": ".py",
   "mimetype": "text/x-python",
   "name": "python",
   "nbconvert_exporter": "python",
   "pygments_lexer": "ipython3",
   "version": "3.8.8"
  }
 },
 "nbformat": 4,
 "nbformat_minor": 5
}
