{
 "cells": [
  {
   "cell_type": "code",
   "execution_count": 1,
   "id": "4c65721d-6953-4c3a-9065-3e5c38b9f5d3",
   "metadata": {},
   "outputs": [],
   "source": [
    "import pandas as pd\n",
    "import numpy as np\n",
    "import matplotlib.pyplot as plt\n",
    "import seaborn as sns\n",
    "from sklearn.model_selection import train_test_split\n",
    "from py3langid.langid import LanguageIdentifier, MODEL_FILE\n",
    "from sklearn.feature_extraction.text import CountVectorizer\n",
    "from collections import Counter\n",
    "\n",
    "import warnings\n",
    "\n",
    "# Suppress FutureWarning related to is_sparse\n",
    "warnings.filterwarnings(\"ignore\", category=FutureWarning)"
   ]
  },
  {
   "cell_type": "code",
   "execution_count": 2,
   "id": "c5267cfe-5c31-4375-b809-96eefd7cb245",
   "metadata": {},
   "outputs": [
    {
     "data": {
      "text/html": [
       "<div>\n",
       "<style scoped>\n",
       "    .dataframe tbody tr th:only-of-type {\n",
       "        vertical-align: middle;\n",
       "    }\n",
       "\n",
       "    .dataframe tbody tr th {\n",
       "        vertical-align: top;\n",
       "    }\n",
       "\n",
       "    .dataframe thead th {\n",
       "        text-align: right;\n",
       "    }\n",
       "</style>\n",
       "<table border=\"1\" class=\"dataframe\">\n",
       "  <thead>\n",
       "    <tr style=\"text-align: right;\">\n",
       "      <th></th>\n",
       "      <th>id</th>\n",
       "      <th>text</th>\n",
       "      <th>label</th>\n",
       "    </tr>\n",
       "  </thead>\n",
       "  <tbody>\n",
       "    <tr>\n",
       "      <th>0</th>\n",
       "      <td>15442</td>\n",
       "      <td>Es un tribunal de suprema instanza que forma p...</td>\n",
       "      <td>generated</td>\n",
       "    </tr>\n",
       "    <tr>\n",
       "      <th>1</th>\n",
       "      <td>26409</td>\n",
       "      <td>Aixó de tindrer la platgeta tant prou era un p...</td>\n",
       "      <td>human</td>\n",
       "    </tr>\n",
       "    <tr>\n",
       "      <th>2</th>\n",
       "      <td>12777</td>\n",
       "      <td>Doug mcadam es un científico estadista estadou...</td>\n",
       "      <td>generated</td>\n",
       "    </tr>\n",
       "    <tr>\n",
       "      <th>3</th>\n",
       "      <td>63467</td>\n",
       "      <td>El president de la generalitat, carles puigdem...</td>\n",
       "      <td>generated</td>\n",
       "    </tr>\n",
       "    <tr>\n",
       "      <th>4</th>\n",
       "      <td>41050</td>\n",
       "      <td>Traídas de francia, tan estrafalarias que una ...</td>\n",
       "      <td>generated</td>\n",
       "    </tr>\n",
       "  </tbody>\n",
       "</table>\n",
       "</div>"
      ],
      "text/plain": [
       "      id                                               text      label\n",
       "0  15442  Es un tribunal de suprema instanza que forma p...  generated\n",
       "1  26409  Aixó de tindrer la platgeta tant prou era un p...      human\n",
       "2  12777  Doug mcadam es un científico estadista estadou...  generated\n",
       "3  63467  El president de la generalitat, carles puigdem...  generated\n",
       "4  41050  Traídas de francia, tan estrafalarias que una ...  generated"
      ]
     },
     "execution_count": 2,
     "metadata": {},
     "output_type": "execute_result"
    }
   ],
   "source": [
    "train = pd.read_csv('data/competition_2024/subtask1.csv').drop(columns='Unnamed: 0')\n",
    "\n",
    "train.head()"
   ]
  },
  {
   "cell_type": "code",
   "execution_count": 3,
   "id": "46a1d7b4-249d-4ff4-8fae-470cd15d510c",
   "metadata": {},
   "outputs": [
    {
     "data": {
      "text/plain": [
       "'Es un tribunal de suprema instanza que forma part de la jurisdiccion española, i és el principal organe judicial de catalunya, nacionals i comarcals. constitucionalmente, és el tribunal especial d\"exercic de la judiccia catalana, és el que interpreta i defini la llei espanyola, i anull·la la seva aplicació en qualsevol cas o circunstancia, mitjançant la reforma del sistema legal català. és, a més, el tribunal especial d\"exercic de la judiccia nacional catalana, és el que interpreta i s\"applique la lex catalana, i que de nova es defineix per la constitució espanyola. és també un tribunal de recursos de catalunya, a la qual té afegit l\"exercici del seu mandat en el fet que, al desenvolupament dels règims de la central bank of spain i de l\"agència tributària de catalunya, es van aplicar els recursos de catalunya en les seves tasques. així, és un organisme obert al reconeixement de l\"autogovern de catalunya, i es considera com a un tribunal de recursos, fins que aprové la constitución espanyola. la seva accountability es controla per a la comissió nacional de la protecció de drets humans (cnpdh) i la consellera de les ciutades catalanes. els tribunals de l\"alcalde, els tribunals de proximitat, els tribunals de les comarques de la generalitat, i, en el cas del pronunciamente de catalunya, els mitjans territorials, donen suport a l\"tribunal suprem d\"espanya. <!--this is a translation from catalan to english. please note that the machine translation may'"
      ]
     },
     "execution_count": 3,
     "metadata": {},
     "output_type": "execute_result"
    }
   ],
   "source": [
    "train.loc[0, 'text']"
   ]
  },
  {
   "cell_type": "code",
   "execution_count": 4,
   "id": "d2261967-f43b-4b82-8ae2-2052e4257426",
   "metadata": {},
   "outputs": [
    {
     "data": {
      "text/plain": [
       "('ca', -4691.199)"
      ]
     },
     "execution_count": 4,
     "metadata": {},
     "output_type": "execute_result"
    }
   ],
   "source": [
    "identifier = LanguageIdentifier.from_pickled_model(MODEL_FILE)\n",
    "identifier.set_languages(['en', 'es', 'pt', 'gl', 'eu', 'ca'])\n",
    "\n",
    "# English (en)\n",
    "# Spanish (es)\n",
    "# Portuguese (pt)\n",
    "# Galician (gl)\n",
    "# Basque (eu)\n",
    "# Catalan (ca)\n",
    "\n",
    "identifier.classify(train.loc[0, 'text'])"
   ]
  },
  {
   "cell_type": "code",
   "execution_count": 5,
   "id": "70549794-480b-4763-b868-89ce5867281a",
   "metadata": {},
   "outputs": [
    {
     "data": {
      "text/html": [
       "<div>\n",
       "<style scoped>\n",
       "    .dataframe tbody tr th:only-of-type {\n",
       "        vertical-align: middle;\n",
       "    }\n",
       "\n",
       "    .dataframe tbody tr th {\n",
       "        vertical-align: top;\n",
       "    }\n",
       "\n",
       "    .dataframe thead th {\n",
       "        text-align: right;\n",
       "    }\n",
       "</style>\n",
       "<table border=\"1\" class=\"dataframe\">\n",
       "  <thead>\n",
       "    <tr style=\"text-align: right;\">\n",
       "      <th></th>\n",
       "      <th>id</th>\n",
       "      <th>text</th>\n",
       "      <th>label</th>\n",
       "      <th>detected_language</th>\n",
       "    </tr>\n",
       "  </thead>\n",
       "  <tbody>\n",
       "    <tr>\n",
       "      <th>0</th>\n",
       "      <td>15442</td>\n",
       "      <td>Es un tribunal de suprema instanza que forma p...</td>\n",
       "      <td>generated</td>\n",
       "      <td>ca</td>\n",
       "    </tr>\n",
       "    <tr>\n",
       "      <th>1</th>\n",
       "      <td>26409</td>\n",
       "      <td>Aixó de tindrer la platgeta tant prou era un p...</td>\n",
       "      <td>human</td>\n",
       "      <td>ca</td>\n",
       "    </tr>\n",
       "    <tr>\n",
       "      <th>2</th>\n",
       "      <td>12777</td>\n",
       "      <td>Doug mcadam es un científico estadista estadou...</td>\n",
       "      <td>generated</td>\n",
       "      <td>es</td>\n",
       "    </tr>\n",
       "    <tr>\n",
       "      <th>3</th>\n",
       "      <td>63467</td>\n",
       "      <td>El president de la generalitat, carles puigdem...</td>\n",
       "      <td>generated</td>\n",
       "      <td>ca</td>\n",
       "    </tr>\n",
       "    <tr>\n",
       "      <th>4</th>\n",
       "      <td>41050</td>\n",
       "      <td>Traídas de francia, tan estrafalarias que una ...</td>\n",
       "      <td>generated</td>\n",
       "      <td>es</td>\n",
       "    </tr>\n",
       "    <tr>\n",
       "      <th>...</th>\n",
       "      <td>...</td>\n",
       "      <td>...</td>\n",
       "      <td>...</td>\n",
       "      <td>...</td>\n",
       "    </tr>\n",
       "    <tr>\n",
       "      <th>109658</th>\n",
       "      <td>76637</td>\n",
       "      <td>Bere burua egokitzen saiatu zuen, aurreko mome...</td>\n",
       "      <td>generated</td>\n",
       "      <td>eu</td>\n",
       "    </tr>\n",
       "    <tr>\n",
       "      <th>109659</th>\n",
       "      <td>107183</td>\n",
       "      <td>Benquerida compañeira e amiga, para nós é moi ...</td>\n",
       "      <td>human</td>\n",
       "      <td>gl</td>\n",
       "    </tr>\n",
       "    <tr>\n",
       "      <th>109660</th>\n",
       "      <td>144741</td>\n",
       "      <td>The irish president has signed the \"long-await...</td>\n",
       "      <td>generated</td>\n",
       "      <td>en</td>\n",
       "    </tr>\n",
       "    <tr>\n",
       "      <th>109661</th>\n",
       "      <td>1202</td>\n",
       "      <td>Pedro de alvarado y contreras \"tonatiuh\" (bada...</td>\n",
       "      <td>human</td>\n",
       "      <td>es</td>\n",
       "    </tr>\n",
       "    <tr>\n",
       "      <th>109662</th>\n",
       "      <td>21996</td>\n",
       "      <td>Sure! wikipedia articles should be well-writte...</td>\n",
       "      <td>generated</td>\n",
       "      <td>en</td>\n",
       "    </tr>\n",
       "  </tbody>\n",
       "</table>\n",
       "<p>109663 rows × 4 columns</p>\n",
       "</div>"
      ],
      "text/plain": [
       "            id                                               text      label  \\\n",
       "0        15442  Es un tribunal de suprema instanza que forma p...  generated   \n",
       "1        26409  Aixó de tindrer la platgeta tant prou era un p...      human   \n",
       "2        12777  Doug mcadam es un científico estadista estadou...  generated   \n",
       "3        63467  El president de la generalitat, carles puigdem...  generated   \n",
       "4        41050  Traídas de francia, tan estrafalarias que una ...  generated   \n",
       "...        ...                                                ...        ...   \n",
       "109658   76637  Bere burua egokitzen saiatu zuen, aurreko mome...  generated   \n",
       "109659  107183  Benquerida compañeira e amiga, para nós é moi ...      human   \n",
       "109660  144741  The irish president has signed the \"long-await...  generated   \n",
       "109661    1202  Pedro de alvarado y contreras \"tonatiuh\" (bada...      human   \n",
       "109662   21996  Sure! wikipedia articles should be well-writte...  generated   \n",
       "\n",
       "       detected_language  \n",
       "0                     ca  \n",
       "1                     ca  \n",
       "2                     es  \n",
       "3                     ca  \n",
       "4                     es  \n",
       "...                  ...  \n",
       "109658                eu  \n",
       "109659                gl  \n",
       "109660                en  \n",
       "109661                es  \n",
       "109662                en  \n",
       "\n",
       "[109663 rows x 4 columns]"
      ]
     },
     "execution_count": 5,
     "metadata": {},
     "output_type": "execute_result"
    }
   ],
   "source": [
    "def detect_language(text):\n",
    "    return identifier.classify(text)[0]\n",
    "\n",
    "# Create the new column\n",
    "train['detected_language'] = train['text'].apply(detect_language)\n",
    "\n",
    "train"
   ]
  },
  {
   "cell_type": "code",
   "execution_count": 6,
   "id": "bb5dfa03-939a-4716-a579-33e00b0a6067",
   "metadata": {},
   "outputs": [
    {
     "data": {
      "text/plain": [
       "label\n",
       "generated    58754\n",
       "human        50909\n",
       "Name: count, dtype: int64"
      ]
     },
     "execution_count": 6,
     "metadata": {},
     "output_type": "execute_result"
    }
   ],
   "source": [
    "train['label'].value_counts()"
   ]
  },
  {
   "cell_type": "code",
   "execution_count": 7,
   "id": "5a7ff3c2-524a-447d-85cf-810e2d253496",
   "metadata": {},
   "outputs": [
    {
     "data": {
      "text/plain": [
       "detected_language\n",
       "en    25954\n",
       "es    22535\n",
       "pt    19733\n",
       "ca    16372\n",
       "eu    13444\n",
       "gl    11625\n",
       "Name: count, dtype: int64"
      ]
     },
     "execution_count": 7,
     "metadata": {},
     "output_type": "execute_result"
    }
   ],
   "source": [
    "train['detected_language'].value_counts()"
   ]
  },
  {
   "cell_type": "code",
   "execution_count": 8,
   "id": "35af7070-2e4a-4c3c-b1f4-cca5046d69e3",
   "metadata": {},
   "outputs": [],
   "source": [
    "train_en = train[train['detected_language'] == 'en']\n",
    "train_es = train[train['detected_language'] == 'es']\n",
    "train_pt = train[train['detected_language'] == 'pt']\n",
    "train_gl = train[train['detected_language'] == 'gl']\n",
    "train_eu = train[train['detected_language'] == 'eu']\n",
    "train_ca = train[train['detected_language'] == 'ca']"
   ]
  },
  {
   "cell_type": "code",
   "execution_count": 9,
   "id": "52e8a9f2-5bf4-4f5a-b155-657a695b8b58",
   "metadata": {},
   "outputs": [],
   "source": [
    "import string\n",
    "from nltk.corpus import stopwords\n",
    "\n",
    "def text_process(mess):\n",
    "    \"\"\"\n",
    "    Takes in a string of text, then performs the following:\n",
    "    1. Remove all punctuation\n",
    "    2. Remove all stopwords\n",
    "    3. Returns a list of the cleaned text\n",
    "    \"\"\"\n",
    "    STOPWORDS = set(stopwords.words('english'))\n",
    "    # STOPWORDS = stopwords.words('english') + ['u', 'ü', 'ur', '4', '2', 'im', 'dont', 'doin', 'ure']\n",
    "    # Check characters to see if they are in punctuation\n",
    "    nopunc = [char for char in mess if char not in string.punctuation]\n",
    "\n",
    "    # Join the characters again to form the string.\n",
    "    nopunc = ''.join(nopunc)\n",
    "    \n",
    "    # Now just remove any stopwords\n",
    "    return ' '.join([word for word in nopunc.split() if word.lower() not in STOPWORDS])\n",
    "\n",
    "# import nltk \n",
    "# nltk.download('stopwords') # # -> do this in case of 'Resource stopwords not found.'\n",
    "\n",
    "\n",
    "def preprocessing(df):\n",
    "    # processing text\n",
    "    df.loc[:, 'clean_text'] = df['text'].apply(text_process)\n",
    "\n",
    "    # calculate text length\n",
    "    df.loc[:, 'text_len'] = df.loc[:, 'clean_text'].apply(len)\n",
    "    \n",
    "    # crop unnecessary columns\n",
    "    df = df.drop(columns=['text', 'detected_language'])\n",
    "\n",
    "    # map labels\n",
    "    df['label'] = df['label'].map({'human': 0, 'generated': 1})\n",
    "\n",
    "    return df"
   ]
  },
  {
   "cell_type": "code",
   "execution_count": 10,
   "id": "344eabf4-e905-4ba1-8f03-1db489e72b4e",
   "metadata": {},
   "outputs": [
    {
     "name": "stderr",
     "output_type": "stream",
     "text": [
      "/var/folders/n2/wzhjvsf17gdbklls9d48pdl80000gn/T/ipykernel_46396/3353067110.py:28: SettingWithCopyWarning: \n",
      "A value is trying to be set on a copy of a slice from a DataFrame.\n",
      "Try using .loc[row_indexer,col_indexer] = value instead\n",
      "\n",
      "See the caveats in the documentation: https://pandas.pydata.org/pandas-docs/stable/user_guide/indexing.html#returning-a-view-versus-a-copy\n",
      "  df.loc[:, 'clean_text'] = df['text'].apply(text_process)\n",
      "/var/folders/n2/wzhjvsf17gdbklls9d48pdl80000gn/T/ipykernel_46396/3353067110.py:31: SettingWithCopyWarning: \n",
      "A value is trying to be set on a copy of a slice from a DataFrame.\n",
      "Try using .loc[row_indexer,col_indexer] = value instead\n",
      "\n",
      "See the caveats in the documentation: https://pandas.pydata.org/pandas-docs/stable/user_guide/indexing.html#returning-a-view-versus-a-copy\n",
      "  df.loc[:, 'text_len'] = df.loc[:, 'clean_text'].apply(len)\n"
     ]
    }
   ],
   "source": [
    "train_en_preprocessed = preprocessing(train_en)"
   ]
  },
  {
   "cell_type": "code",
   "execution_count": 11,
   "id": "a51a4650-c2ea-4833-8b17-2ed94cc659f1",
   "metadata": {},
   "outputs": [
    {
     "data": {
      "text/html": [
       "<div>\n",
       "<style scoped>\n",
       "    .dataframe tbody tr th:only-of-type {\n",
       "        vertical-align: middle;\n",
       "    }\n",
       "\n",
       "    .dataframe tbody tr th {\n",
       "        vertical-align: top;\n",
       "    }\n",
       "\n",
       "    .dataframe thead th {\n",
       "        text-align: right;\n",
       "    }\n",
       "</style>\n",
       "<table border=\"1\" class=\"dataframe\">\n",
       "  <thead>\n",
       "    <tr style=\"text-align: right;\">\n",
       "      <th></th>\n",
       "      <th>id</th>\n",
       "      <th>label</th>\n",
       "      <th>clean_text</th>\n",
       "      <th>text_len</th>\n",
       "    </tr>\n",
       "  </thead>\n",
       "  <tbody>\n",
       "    <tr>\n",
       "      <th>7</th>\n",
       "      <td>100408</td>\n",
       "      <td>0</td>\n",
       "      <td>Another magnificent chapter nbchannibal seen c...</td>\n",
       "      <td>99</td>\n",
       "    </tr>\n",
       "    <tr>\n",
       "      <th>9</th>\n",
       "      <td>68184</td>\n",
       "      <td>0</td>\n",
       "      <td>Paul simon great artist multiple hits falls si...</td>\n",
       "      <td>265</td>\n",
       "    </tr>\n",
       "    <tr>\n",
       "      <th>11</th>\n",
       "      <td>123641</td>\n",
       "      <td>0</td>\n",
       "      <td>R hoarsely dont frightened fathers tumbled wat...</td>\n",
       "      <td>114</td>\n",
       "    </tr>\n",
       "    <tr>\n",
       "      <th>14</th>\n",
       "      <td>142133</td>\n",
       "      <td>1</td>\n",
       "      <td>Sri lanka set return 21 containers waste brita...</td>\n",
       "      <td>1129</td>\n",
       "    </tr>\n",
       "    <tr>\n",
       "      <th>15</th>\n",
       "      <td>134464</td>\n",
       "      <td>0</td>\n",
       "      <td>Milo lompar born 19 april 1962 serbian literar...</td>\n",
       "      <td>1476</td>\n",
       "    </tr>\n",
       "    <tr>\n",
       "      <th>...</th>\n",
       "      <td>...</td>\n",
       "      <td>...</td>\n",
       "      <td>...</td>\n",
       "      <td>...</td>\n",
       "    </tr>\n",
       "    <tr>\n",
       "      <th>109643</th>\n",
       "      <td>94952</td>\n",
       "      <td>0</td>\n",
       "      <td>Rtion every little however one dog another wou...</td>\n",
       "      <td>836</td>\n",
       "    </tr>\n",
       "    <tr>\n",
       "      <th>109647</th>\n",
       "      <td>1078</td>\n",
       "      <td>0</td>\n",
       "      <td>Mark xvii mark 17 often refers 17th version pr...</td>\n",
       "      <td>781</td>\n",
       "    </tr>\n",
       "    <tr>\n",
       "      <th>109654</th>\n",
       "      <td>122155</td>\n",
       "      <td>1</td>\n",
       "      <td>Marianne recovered injury changed woman gone l...</td>\n",
       "      <td>1246</td>\n",
       "    </tr>\n",
       "    <tr>\n",
       "      <th>109660</th>\n",
       "      <td>144741</td>\n",
       "      <td>1</td>\n",
       "      <td>irish president signed longawaiting mother bab...</td>\n",
       "      <td>1548</td>\n",
       "    </tr>\n",
       "    <tr>\n",
       "      <th>109662</th>\n",
       "      <td>21996</td>\n",
       "      <td>1</td>\n",
       "      <td>Sure wikipedia articles wellwritten wellresear...</td>\n",
       "      <td>1454</td>\n",
       "    </tr>\n",
       "  </tbody>\n",
       "</table>\n",
       "<p>25954 rows × 4 columns</p>\n",
       "</div>"
      ],
      "text/plain": [
       "            id  label                                         clean_text  \\\n",
       "7       100408      0  Another magnificent chapter nbchannibal seen c...   \n",
       "9        68184      0  Paul simon great artist multiple hits falls si...   \n",
       "11      123641      0  R hoarsely dont frightened fathers tumbled wat...   \n",
       "14      142133      1  Sri lanka set return 21 containers waste brita...   \n",
       "15      134464      0  Milo lompar born 19 april 1962 serbian literar...   \n",
       "...        ...    ...                                                ...   \n",
       "109643   94952      0  Rtion every little however one dog another wou...   \n",
       "109647    1078      0  Mark xvii mark 17 often refers 17th version pr...   \n",
       "109654  122155      1  Marianne recovered injury changed woman gone l...   \n",
       "109660  144741      1  irish president signed longawaiting mother bab...   \n",
       "109662   21996      1  Sure wikipedia articles wellwritten wellresear...   \n",
       "\n",
       "        text_len  \n",
       "7             99  \n",
       "9            265  \n",
       "11           114  \n",
       "14          1129  \n",
       "15          1476  \n",
       "...          ...  \n",
       "109643       836  \n",
       "109647       781  \n",
       "109654      1246  \n",
       "109660      1548  \n",
       "109662      1454  \n",
       "\n",
       "[25954 rows x 4 columns]"
      ]
     },
     "execution_count": 11,
     "metadata": {},
     "output_type": "execute_result"
    }
   ],
   "source": [
    "train_en_preprocessed"
   ]
  },
  {
   "cell_type": "code",
   "execution_count": 12,
   "id": "b24952a9-4e3a-455f-b186-349bb1e52f4b",
   "metadata": {},
   "outputs": [
    {
     "data": {
      "text/plain": [
       "Text(0.5, 0, 'Message Length')"
      ]
     },
     "execution_count": 12,
     "metadata": {},
     "output_type": "execute_result"
    },
    {
     "data": {
      "image/png": "[encoded data removed]",
      "text/plain": [
       "<Figure size 1200x800 with 1 Axes>"
      ]
     },
     "metadata": {},
     "output_type": "display_data"
    }
   ],
   "source": [
    "plt.figure(figsize=(12, 8))\n",
    "\n",
    "train_en_preprocessed[train_en_preprocessed.label == 0].text_len.plot(bins=35, kind='hist', color='blue', \n",
    "                                       label='Human texts', alpha=0.5)\n",
    "train_en_preprocessed[train_en_preprocessed.label == 1].text_len.plot(bins=35, kind='hist', color='red', \n",
    "                                       label='Generated texts', alpha=0.5)\n",
    "plt.legend()\n",
    "plt.xlabel(\"Message Length\")"
   ]
  },
  {
   "cell_type": "code",
   "execution_count": 13,
   "id": "c19533a7-408b-49fa-a6f6-3baf67479bc4",
   "metadata": {},
   "outputs": [],
   "source": [
    "def plot_common_words(ham_words, type):\n",
    "    common_words = [word[0] for word in ham_words.most_common(20)]\n",
    "    word_counts = [word[1] for word in ham_words.most_common(20)]\n",
    "    \n",
    "    # Plotting\n",
    "    plt.figure(figsize=(10, 6))\n",
    "    plt.bar(common_words, word_counts, color='skyblue')\n",
    "    plt.title(f'Top 20 Most Common Words in {type} Labeled Data')\n",
    "    plt.xlabel('Words')\n",
    "    plt.ylabel('Frequency')\n",
    "    plt.xticks(rotation=45, ha='right')\n",
    "    plt.tight_layout()\n",
    "    plt.show()"
   ]
  },
  {
   "cell_type": "code",
   "execution_count": 14,
   "id": "4a5732cb-9e81-4904-9c9f-77743d07eb61",
   "metadata": {},
   "outputs": [
    {
     "name": "stdout",
     "output_type": "stream",
     "text": [
      "[('said', 10415), ('would', 5365), ('one', 5351), ('mr', 3904), ('also', 3593), ('people', 3499), ('first', 3253), ('time', 3058), ('could', 2988), ('new', 2884), ('like', 2871), ('two', 2746), ('well', 2312), ('see', 2218), ('made', 2171), ('years', 2143), ('us', 2132), ('good', 2106), ('may', 2075), ('much', 1938), ('know', 1853), ('last', 1807), ('book', 1797), ('year', 1791), ('many', 1748), ('little', 1720), ('man', 1717), ('say', 1683), ('great', 1666), ('get', 1645), ('come', 1609), ('work', 1588), ('go', 1579), ('make', 1576), ('back', 1540), ('dont', 1539), ('never', 1512), ('way', 1498), ('told', 1495), ('government', 1492), ('day', 1485), ('life', 1478), ('think', 1468), ('found', 1420), ('three', 1406), ('world', 1405), ('since', 1393), ('take', 1388), ('part', 1372), ('must', 1329)]\n"
     ]
    }
   ],
   "source": [
    "words = train_en_preprocessed[train_en_preprocessed.label == 0]['clean_text'].apply(lambda x: [word.lower() for word in x.split()])\n",
    "ham_words_human = Counter()\n",
    "\n",
    "for msg in words:\n",
    "    ham_words_human.update(msg)\n",
    "    \n",
    "print(ham_words_human.most_common(50))"
   ]
  },
  {
   "cell_type": "code",
   "execution_count": 15,
   "id": "e93e20f7-6b00-4f12-9528-e466cf7b7f8e",
   "metadata": {},
   "outputs": [
    {
     "name": "stdout",
     "output_type": "stream",
     "text": [
      "[('also', 9429), ('said', 7367), ('one', 6012), ('would', 5611), ('new', 4685), ('could', 4208), ('time', 4119), ('including', 3603), ('made', 3561), ('people', 3482), ('many', 3399), ('help', 3299), ('life', 3269), ('however', 3231), ('like', 3223), ('known', 3197), ('man', 3158), ('first', 3061), ('world', 3044), ('work', 2983), ('mr', 2772), ('found', 2766), ('years', 2709), ('way', 2686), ('government', 2638), ('several', 2555), ('see', 2510), ('make', 2508), ('couldnt', 2497), ('eyes', 2476), ('local', 2475), ('significant', 2446), ('two', 2437), ('back', 2390), ('home', 2268), ('family', 2194), ('may', 2181), ('despite', 2175), ('city', 2157), ('knew', 2145), ('around', 2145), ('take', 2138), ('community', 2120), ('come', 2095), ('well', 2067), ('day', 2020), ('place', 2017), ('young', 2005), ('face', 1999), ('voice', 1913)]\n"
     ]
    }
   ],
   "source": [
    "words = train_en_preprocessed[train_en_preprocessed.label == 1]['clean_text'].apply(lambda x: [word.lower() for word in x.split()])\n",
    "ham_words_computer = Counter()\n",
    "\n",
    "for msg in words:\n",
    "    ham_words_computer.update(msg)\n",
    "    \n",
    "print(ham_words_computer.most_common(50))"
   ]
  },
  {
   "cell_type": "code",
   "execution_count": 16,
   "id": "bb221407-f183-45c3-ba9c-ff35e6033ed5",
   "metadata": {},
   "outputs": [
    {
     "data": {
      "image/png": "[encoded data removed]",
      "text/plain": [
       "<Figure size 1000x600 with 1 Axes>"
      ]
     },
     "metadata": {},
     "output_type": "display_data"
    },
    {
     "data": {
      "image/png": "[encoded data removed]",
      "text/plain": [
       "<Figure size 1000x600 with 1 Axes>"
      ]
     },
     "metadata": {},
     "output_type": "display_data"
    }
   ],
   "source": [
    "for counter in [(ham_words_human, 'Human'), (ham_words_computer, 'Computer')]:\n",
    "    plot_common_words(counter[0], counter[1])"
   ]
  },
  {
   "cell_type": "code",
   "execution_count": 17,
   "id": "5b46d699-b8d9-43aa-8061-d329e8d636d4",
   "metadata": {},
   "outputs": [
    {
     "name": "stdout",
     "output_type": "stream",
     "text": [
      "Average Human text length: 705.5000837942015\n",
      "Average Computer text length: 905.7903708987161\n"
     ]
    }
   ],
   "source": [
    "print(f\"Average Human text length: {train_en_preprocessed[train_en_preprocessed.label == 0]['text_len'].mean()}\")\n",
    "print(f\"Average Computer text length: {train_en_preprocessed[train_en_preprocessed.label == 1]['text_len'].mean()}\")"
   ]
  },
  {
   "cell_type": "code",
   "execution_count": 18,
   "id": "2c54ecf0-0ffd-4206-ae42-924179ac9ce7",
   "metadata": {},
   "outputs": [
    {
     "name": "stdout",
     "output_type": "stream",
     "text": [
      "(20763,)\n",
      "(5191,)\n",
      "(20763,)\n",
      "(5191,)\n"
     ]
    }
   ],
   "source": [
    "# train_en_preprocessed.loc[:, train_en_preprocessed.columns != 'label'\n",
    "X_train_en, X_test_en, y_train_en, y_test_en = train_test_split(train_en_preprocessed.loc[:, 'clean_text'], \n",
    "                                                                train_en_preprocessed['label'], test_size=0.20, random_state=42)\n",
    "\n",
    "print(X_train_en.shape)\n",
    "print(X_test_en.shape)\n",
    "print(y_train_en.shape)\n",
    "print(y_test_en.shape)"
   ]
  },
  {
   "cell_type": "code",
   "execution_count": 19,
   "id": "834caf46-d2b9-4e87-8d7c-b3a574e4092b",
   "metadata": {},
   "outputs": [
    {
     "data": {
      "text/plain": [
       "37725    Wasim sajjad born 30 march 1941 pakistani cons...\n",
       "5335     rate one five stars due blatant manner trying ...\n",
       "59459    review also looking ways reduce overproduction...\n",
       "15330    Gerry adams sinn fein president paid tribute l...\n",
       "92973    Tory new phase men science could never underst...\n",
       "                               ...                        \n",
       "90853    Public health infectious diseases regulations ...\n",
       "22692    really liked characters thought honest warm fu...\n",
       "3717     orange order called police answer serious ques...\n",
       "66692    realized keeping feelings bottled made things ...\n",
       "99894    quickly sat bed heart racing tried pinpoint so...\n",
       "Name: clean_text, Length: 20763, dtype: object"
      ]
     },
     "execution_count": 19,
     "metadata": {},
     "output_type": "execute_result"
    }
   ],
   "source": [
    "X_train_en"
   ]
  },
  {
   "cell_type": "code",
   "execution_count": 20,
   "id": "66f4dd48-3d85-4c07-b4ee-3b2bc0041434",
   "metadata": {},
   "outputs": [
    {
     "data": {
      "text/plain": [
       "37725    0\n",
       "5335     0\n",
       "59459    0\n",
       "15330    1\n",
       "92973    0\n",
       "        ..\n",
       "90853    1\n",
       "22692    0\n",
       "3717     1\n",
       "66692    1\n",
       "99894    1\n",
       "Name: label, Length: 20763, dtype: int64"
      ]
     },
     "execution_count": 20,
     "metadata": {},
     "output_type": "execute_result"
    }
   ],
   "source": [
    "y_train_en"
   ]
  },
  {
   "cell_type": "code",
   "execution_count": 21,
   "id": "f3aecd75-7b0d-4b4f-93f1-6df0fa6a67e2",
   "metadata": {},
   "outputs": [
    {
     "name": "stdout",
     "output_type": "stream",
     "text": [
      "<class 'scipy.sparse._csr.csr_matrix'> (20763, 112834)\n",
      "<class 'scipy.sparse._csr.csr_matrix'> (5191, 112834)\n"
     ]
    }
   ],
   "source": [
    "from sklearn.feature_extraction.text import CountVectorizer\n",
    "\n",
    "# instantiate the vectorizer\n",
    "vect = CountVectorizer()\n",
    "vect.fit(X_train_en)\n",
    "\n",
    "# learn training data vocabulary, then use it to create a document-term matrix\n",
    "X_train1_dtm = vect.transform(X_train_en)\n",
    "\n",
    "# equivalently: combine fit and transform into a single step\n",
    "X_train1_dtm = vect.fit_transform(X_train_en)\n",
    "\n",
    "\n",
    "# examine the document-term matrix\n",
    "print(type(X_train1_dtm), X_train1_dtm.shape)\n",
    "\n",
    "# transform testing data (using fitted vocabulary) into a document-term matrix\n",
    "X_test1_dtm = vect.transform(X_test_en)\n",
    "print(type(X_test1_dtm), X_test1_dtm.shape)"
   ]
  },
  {
   "cell_type": "code",
   "execution_count": 22,
   "id": "be26844c-1d80-4219-946d-8aeaa2d1c941",
   "metadata": {},
   "outputs": [],
   "source": [
    "# from sklearn.feature_extraction.text import TfidfTransformer\n",
    "\n",
    "# tfidf_transformer = TfidfTransformer()\n",
    "# tfidf_transformer.fit(X_train1_dtm)\n",
    "# tfidf_transformer.transform(X_train1_dtm)"
   ]
  },
  {
   "cell_type": "code",
   "execution_count": 23,
   "id": "657b0081-fbaa-4eb4-8348-e9e4dfe6cd9f",
   "metadata": {},
   "outputs": [],
   "source": [
    "# import and instantiate a Multinomial Naive Bayes model\n",
    "from sklearn.naive_bayes import MultinomialNB\n",
    "nb = MultinomialNB()"
   ]
  },
  {
   "cell_type": "code",
   "execution_count": 24,
   "id": "1bec6ae2-11ec-417f-b43b-f1eefff03836",
   "metadata": {},
   "outputs": [
    {
     "name": "stdout",
     "output_type": "stream",
     "text": [
      "CPU times: user 10 ms, sys: 2.03 ms, total: 12.1 ms\n",
      "Wall time: 11.2 ms\n"
     ]
    },
    {
     "data": {
      "text/html": [
       "<style>#sk-container-id-1 {color: black;background-color: white;}#sk-container-id-1 pre{padding: 0;}#sk-container-id-1 div.sk-toggleable {background-color: white;}#sk-container-id-1 label.sk-toggleable__label {cursor: pointer;display: block;width: 100%;margin-bottom: 0;padding: 0.3em;box-sizing: border-box;text-align: center;}#sk-container-id-1 label.sk-toggleable__label-arrow:before {content: \"▸\";float: left;margin-right: 0.25em;color: #696969;}#sk-container-id-1 label.sk-toggleable__label-arrow:hover:before {color: black;}#sk-container-id-1 div.sk-estimator:hover label.sk-toggleable__label-arrow:before {color: black;}#sk-container-id-1 div.sk-toggleable__content {max-height: 0;max-width: 0;overflow: hidden;text-align: left;background-color: #f0f8ff;}#sk-container-id-1 div.sk-toggleable__content pre {margin: 0.2em;color: black;border-radius: 0.25em;background-color: #f0f8ff;}#sk-container-id-1 input.sk-toggleable__control:checked~div.sk-toggleable__content {max-height: 200px;max-width: 100%;overflow: auto;}#sk-container-id-1 input.sk-toggleable__control:checked~label.sk-toggleable__label-arrow:before {content: \"▾\";}#sk-container-id-1 div.sk-estimator input.sk-toggleable__control:checked~label.sk-toggleable__label {background-color: #d4ebff;}#sk-container-id-1 div.sk-label input.sk-toggleable__control:checked~label.sk-toggleable__label {background-color: #d4ebff;}#sk-container-id-1 input.sk-hidden--visually {border: 0;clip: rect(1px 1px 1px 1px);clip: rect(1px, 1px, 1px, 1px);height: 1px;margin: -1px;overflow: hidden;padding: 0;position: absolute;width: 1px;}#sk-container-id-1 div.sk-estimator {font-family: monospace;background-color: #f0f8ff;border: 1px dotted black;border-radius: 0.25em;box-sizing: border-box;margin-bottom: 0.5em;}#sk-container-id-1 div.sk-estimator:hover {background-color: #d4ebff;}#sk-container-id-1 div.sk-parallel-item::after {content: \"\";width: 100%;border-bottom: 1px solid gray;flex-grow: 1;}#sk-container-id-1 div.sk-label:hover label.sk-toggleable__label {background-color: #d4ebff;}#sk-container-id-1 div.sk-serial::before {content: \"\";position: absolute;border-left: 1px solid gray;box-sizing: border-box;top: 0;bottom: 0;left: 50%;z-index: 0;}#sk-container-id-1 div.sk-serial {display: flex;flex-direction: column;align-items: center;background-color: white;padding-right: 0.2em;padding-left: 0.2em;position: relative;}#sk-container-id-1 div.sk-item {position: relative;z-index: 1;}#sk-container-id-1 div.sk-parallel {display: flex;align-items: stretch;justify-content: center;background-color: white;position: relative;}#sk-container-id-1 div.sk-item::before, #sk-container-id-1 div.sk-parallel-item::before {content: \"\";position: absolute;border-left: 1px solid gray;box-sizing: border-box;top: 0;bottom: 0;left: 50%;z-index: -1;}#sk-container-id-1 div.sk-parallel-item {display: flex;flex-direction: column;z-index: 1;position: relative;background-color: white;}#sk-container-id-1 div.sk-parallel-item:first-child::after {align-self: flex-end;width: 50%;}#sk-container-id-1 div.sk-parallel-item:last-child::after {align-self: flex-start;width: 50%;}#sk-container-id-1 div.sk-parallel-item:only-child::after {width: 0;}#sk-container-id-1 div.sk-dashed-wrapped {border: 1px dashed gray;margin: 0 0.4em 0.5em 0.4em;box-sizing: border-box;padding-bottom: 0.4em;background-color: white;}#sk-container-id-1 div.sk-label label {font-family: monospace;font-weight: bold;display: inline-block;line-height: 1.2em;}#sk-container-id-1 div.sk-label-container {text-align: center;}#sk-container-id-1 div.sk-container {/* jupyter's `normalize.less` sets `[hidden] { display: none; }` but bootstrap.min.css set `[hidden] { display: none !important; }` so we also need the `!important` here to be able to override the default hidden behavior on the sphinx rendered scikit-learn.org. See: https://github.com/scikit-learn/scikit-learn/issues/21755 */display: inline-block !important;position: relative;}#sk-container-id-1 div.sk-text-repr-fallback {display: none;}</style><div id=\"sk-container-id-1\" class=\"sk-top-container\"><div class=\"sk-text-repr-fallback\"><pre>MultinomialNB()</pre><b>In a Jupyter environment, please rerun this cell to show the HTML representation or trust the notebook. <br />On GitHub, the HTML representation is unable to render, please try loading this page with nbviewer.org.</b></div><div class=\"sk-container\" hidden><div class=\"sk-item\"><div class=\"sk-estimator sk-toggleable\"><input class=\"sk-toggleable__control sk-hidden--visually\" id=\"sk-estimator-id-1\" type=\"checkbox\" checked><label for=\"sk-estimator-id-1\" class=\"sk-toggleable__label sk-toggleable__label-arrow\">MultinomialNB</label><div class=\"sk-toggleable__content\"><pre>MultinomialNB()</pre></div></div></div></div></div>"
      ],
      "text/plain": [
       "MultinomialNB()"
      ]
     },
     "execution_count": 24,
     "metadata": {},
     "output_type": "execute_result"
    }
   ],
   "source": [
    "# train the model using X_train1_dtm (timing it with an IPython \"magic command\")\n",
    "%time nb.fit(X_train1_dtm, y_train_en)"
   ]
  },
  {
   "cell_type": "code",
   "execution_count": 25,
   "id": "36f20209-430b-4e2b-bec1-4fe4cc4f9be0",
   "metadata": {},
   "outputs": [
    {
     "name": "stdout",
     "output_type": "stream",
     "text": [
      "=======Accuracy Score===========\n",
      "0.8489693700635715\n",
      "=======Confision Matrix===========\n"
     ]
    },
    {
     "data": {
      "text/plain": [
       "array([[2029,  315],\n",
       "       [ 469, 2378]])"
      ]
     },
     "execution_count": 25,
     "metadata": {},
     "output_type": "execute_result"
    }
   ],
   "source": [
    "from sklearn import metrics\n",
    "\n",
    "# make class predictions for X_test_dtm\n",
    "y_test_en_pred_mb = nb.predict(X_test1_dtm)\n",
    "\n",
    "# calculate accuracy of class predictions\n",
    "print(\"=======Accuracy Score===========\")\n",
    "print(metrics.accuracy_score(y_test_en, y_test_en_pred_mb))\n",
    "\n",
    "# print the confusion matrix\n",
    "print(\"=======Confision Matrix===========\")\n",
    "metrics.confusion_matrix(y_test_en, y_test_en_pred_mb)"
   ]
  },
  {
   "cell_type": "code",
   "execution_count": 26,
   "id": "9f2d079f-2b0e-44c4-bc84-5fac7dd5dcd2",
   "metadata": {},
   "outputs": [
    {
     "name": "stdout",
     "output_type": "stream",
     "text": [
      "F1-score for Naive Bayes model: 0.8482835955545416\n"
     ]
    }
   ],
   "source": [
    "from sklearn.metrics import f1_score\n",
    "print(f\"F1-score for Naive Bayes model: {f1_score(y_test_en, y_test_en_pred_mb, average='macro')}\")"
   ]
  },
  {
   "cell_type": "code",
   "execution_count": 27,
   "id": "b5992ae9-973d-4c39-a661-d73ac81f09ae",
   "metadata": {},
   "outputs": [
    {
     "name": "stdout",
     "output_type": "stream",
     "text": [
      "CPU times: user 49.2 s, sys: 14.1 s, total: 1min 3s\n",
      "Wall time: 6.75 s\n"
     ]
    },
    {
     "data": {
      "text/html": [
       "<style>#sk-container-id-2 {color: black;background-color: white;}#sk-container-id-2 pre{padding: 0;}#sk-container-id-2 div.sk-toggleable {background-color: white;}#sk-container-id-2 label.sk-toggleable__label {cursor: pointer;display: block;width: 100%;margin-bottom: 0;padding: 0.3em;box-sizing: border-box;text-align: center;}#sk-container-id-2 label.sk-toggleable__label-arrow:before {content: \"▸\";float: left;margin-right: 0.25em;color: #696969;}#sk-container-id-2 label.sk-toggleable__label-arrow:hover:before {color: black;}#sk-container-id-2 div.sk-estimator:hover label.sk-toggleable__label-arrow:before {color: black;}#sk-container-id-2 div.sk-toggleable__content {max-height: 0;max-width: 0;overflow: hidden;text-align: left;background-color: #f0f8ff;}#sk-container-id-2 div.sk-toggleable__content pre {margin: 0.2em;color: black;border-radius: 0.25em;background-color: #f0f8ff;}#sk-container-id-2 input.sk-toggleable__control:checked~div.sk-toggleable__content {max-height: 200px;max-width: 100%;overflow: auto;}#sk-container-id-2 input.sk-toggleable__control:checked~label.sk-toggleable__label-arrow:before {content: \"▾\";}#sk-container-id-2 div.sk-estimator input.sk-toggleable__control:checked~label.sk-toggleable__label {background-color: #d4ebff;}#sk-container-id-2 div.sk-label input.sk-toggleable__control:checked~label.sk-toggleable__label {background-color: #d4ebff;}#sk-container-id-2 input.sk-hidden--visually {border: 0;clip: rect(1px 1px 1px 1px);clip: rect(1px, 1px, 1px, 1px);height: 1px;margin: -1px;overflow: hidden;padding: 0;position: absolute;width: 1px;}#sk-container-id-2 div.sk-estimator {font-family: monospace;background-color: #f0f8ff;border: 1px dotted black;border-radius: 0.25em;box-sizing: border-box;margin-bottom: 0.5em;}#sk-container-id-2 div.sk-estimator:hover {background-color: #d4ebff;}#sk-container-id-2 div.sk-parallel-item::after {content: \"\";width: 100%;border-bottom: 1px solid gray;flex-grow: 1;}#sk-container-id-2 div.sk-label:hover label.sk-toggleable__label {background-color: #d4ebff;}#sk-container-id-2 div.sk-serial::before {content: \"\";position: absolute;border-left: 1px solid gray;box-sizing: border-box;top: 0;bottom: 0;left: 50%;z-index: 0;}#sk-container-id-2 div.sk-serial {display: flex;flex-direction: column;align-items: center;background-color: white;padding-right: 0.2em;padding-left: 0.2em;position: relative;}#sk-container-id-2 div.sk-item {position: relative;z-index: 1;}#sk-container-id-2 div.sk-parallel {display: flex;align-items: stretch;justify-content: center;background-color: white;position: relative;}#sk-container-id-2 div.sk-item::before, #sk-container-id-2 div.sk-parallel-item::before {content: \"\";position: absolute;border-left: 1px solid gray;box-sizing: border-box;top: 0;bottom: 0;left: 50%;z-index: -1;}#sk-container-id-2 div.sk-parallel-item {display: flex;flex-direction: column;z-index: 1;position: relative;background-color: white;}#sk-container-id-2 div.sk-parallel-item:first-child::after {align-self: flex-end;width: 50%;}#sk-container-id-2 div.sk-parallel-item:last-child::after {align-self: flex-start;width: 50%;}#sk-container-id-2 div.sk-parallel-item:only-child::after {width: 0;}#sk-container-id-2 div.sk-dashed-wrapped {border: 1px dashed gray;margin: 0 0.4em 0.5em 0.4em;box-sizing: border-box;padding-bottom: 0.4em;background-color: white;}#sk-container-id-2 div.sk-label label {font-family: monospace;font-weight: bold;display: inline-block;line-height: 1.2em;}#sk-container-id-2 div.sk-label-container {text-align: center;}#sk-container-id-2 div.sk-container {/* jupyter's `normalize.less` sets `[hidden] { display: none; }` but bootstrap.min.css set `[hidden] { display: none !important; }` so we also need the `!important` here to be able to override the default hidden behavior on the sphinx rendered scikit-learn.org. See: https://github.com/scikit-learn/scikit-learn/issues/21755 */display: inline-block !important;position: relative;}#sk-container-id-2 div.sk-text-repr-fallback {display: none;}</style><div id=\"sk-container-id-2\" class=\"sk-top-container\"><div class=\"sk-text-repr-fallback\"><pre>LogisticRegression(solver=&#x27;liblinear&#x27;)</pre><b>In a Jupyter environment, please rerun this cell to show the HTML representation or trust the notebook. <br />On GitHub, the HTML representation is unable to render, please try loading this page with nbviewer.org.</b></div><div class=\"sk-container\" hidden><div class=\"sk-item\"><div class=\"sk-estimator sk-toggleable\"><input class=\"sk-toggleable__control sk-hidden--visually\" id=\"sk-estimator-id-2\" type=\"checkbox\" checked><label for=\"sk-estimator-id-2\" class=\"sk-toggleable__label sk-toggleable__label-arrow\">LogisticRegression</label><div class=\"sk-toggleable__content\"><pre>LogisticRegression(solver=&#x27;liblinear&#x27;)</pre></div></div></div></div></div>"
      ],
      "text/plain": [
       "LogisticRegression(solver='liblinear')"
      ]
     },
     "execution_count": 27,
     "metadata": {},
     "output_type": "execute_result"
    }
   ],
   "source": [
    "# import an instantiate a logistic regression model\n",
    "from sklearn.linear_model import LogisticRegression\n",
    "\n",
    "logreg = LogisticRegression(solver='liblinear')\n",
    "\n",
    "# train the model using X_train_dtm\n",
    "%time logreg.fit(X_train1_dtm, y_train_en)"
   ]
  },
  {
   "cell_type": "code",
   "execution_count": 28,
   "id": "7a9d8fcd-4dab-4074-8e37-d0a1dfd95a78",
   "metadata": {},
   "outputs": [
    {
     "data": {
      "text/plain": [
       "array([0.99944875, 0.06688525, 0.27554213, ..., 0.97010472, 0.38416115,\n",
       "       0.99992185])"
      ]
     },
     "execution_count": 28,
     "metadata": {},
     "output_type": "execute_result"
    }
   ],
   "source": [
    "# make class predictions for X_test_dtm\n",
    "y_test_en_pred_lr = logreg.predict(X_test1_dtm)\n",
    "\n",
    "# calculate predicted probabilities for X_test_dtm (well calibrated)\n",
    "y_test_en_prob_lr = logreg.predict_proba(X_test1_dtm)[:, 1]\n",
    "y_test_en_prob_lr"
   ]
  },
  {
   "cell_type": "code",
   "execution_count": 29,
   "id": "0c6883a7-0319-4d50-954e-8d89b67edf7f",
   "metadata": {},
   "outputs": [
    {
     "name": "stdout",
     "output_type": "stream",
     "text": [
      "=======Accuracy Score===========\n",
      "0.8572529377769216\n",
      "=======Confision Matrix===========\n",
      "[[1966  378]\n",
      " [ 363 2484]]\n",
      "=======ROC AUC Score===========\n",
      "0.8556172835066191\n"
     ]
    }
   ],
   "source": [
    "# calculate accuracy of class predictions\n",
    "print(\"=======Accuracy Score===========\")\n",
    "print(metrics.accuracy_score(y_test_en, y_test_en_pred_lr))\n",
    "\n",
    "# print the confusion matrix\n",
    "print(\"=======Confision Matrix===========\")\n",
    "print(metrics.confusion_matrix(y_test_en, y_test_en_pred_lr))\n",
    "\n",
    "# calculate AUC\n",
    "print(\"=======ROC AUC Score===========\")\n",
    "print(metrics.roc_auc_score(y_test_en, y_test_en_pred_lr))"
   ]
  },
  {
   "cell_type": "code",
   "execution_count": 30,
   "id": "1c063f48-8c27-4c14-904a-5a5c644b8b22",
   "metadata": {},
   "outputs": [
    {
     "name": "stdout",
     "output_type": "stream",
     "text": [
      "F1-score for Logistic Regression model: 0.8558172140601767\n"
     ]
    }
   ],
   "source": [
    "from sklearn.metrics import f1_score\n",
    "print(f\"F1-score for Logistic Regression model: {f1_score(y_test_en, y_test_en_pred_lr, average='macro')}\")"
   ]
  }
 ],
 "metadata": {
  "kernelspec": {
   "display_name": "Python 3 (ipykernel)",
   "language": "python",
   "name": "python3"
  },
  "language_info": {
   "codemirror_mode": {
    "name": "ipython",
    "version": 3
   },
   "file_extension": ".py",
   "mimetype": "text/x-python",
   "name": "python",
   "nbconvert_exporter": "python",
   "pygments_lexer": "ipython3",
   "version": "3.10.13"
  }
 },
 "nbformat": 4,
 "nbformat_minor": 5
}
